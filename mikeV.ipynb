{
 "cells": [
  {
   "cell_type": "code",
   "execution_count": 139,
   "id": "97f2ddeb-01d9-4ee0-82e7-071de49df1d4",
   "metadata": {},
   "outputs": [],
   "source": [
    "import pandas as pd\n",
    "import numpy as np\n",
    "\n",
    "import matplotlib.pyplot as plt\n",
    "from matplotlib.pyplot import figure\n",
    "import seaborn as sns\n",
    "\n",
    "from sklearn.model_selection import train_test_split, GridSearchCV, cross_val_score\n",
    "from sklearn.preprocessing import StandardScaler, PolynomialFeatures\n",
    "from sklearn.linear_model import LinearRegression, Lasso, Ridge\n",
    "from sklearn.pipeline import Pipeline\n",
    "\n",
    "from ipywidgets import *\n",
    "from IPython.display import display"
   ]
  },
  {
   "cell_type": "markdown",
   "id": "96c3e8b2-480f-40a4-af9b-2085264c8a41",
   "metadata": {},
   "source": [
    "## Building/Cleaning Data to Create CSV/DataFrames"
   ]
  },
  {
   "cell_type": "code",
   "execution_count": 2,
   "id": "db8473ce-3bbc-4d1e-83ce-c0f616b71176",
   "metadata": {},
   "outputs": [],
   "source": [
    "# df = pd.read_csv('data/Indonesia/Indonesia.csv')"
   ]
  },
  {
   "cell_type": "code",
   "execution_count": 3,
   "id": "2c3481b0-2221-4eb6-85c2-144b318428ed",
   "metadata": {},
   "outputs": [],
   "source": [
    "# df.drop('Unnamed: 0', axis=1, inplace=True)"
   ]
  },
  {
   "cell_type": "code",
   "execution_count": 4,
   "id": "40185371-8a56-4fd9-ae7d-2505b2c2f3b2",
   "metadata": {},
   "outputs": [],
   "source": [
    "# # missing value for 2020\n",
    "# # filling with 75th percentile\n",
    "\n",
    "# df['Ind_prod_60kg_bags'].fillna(df['Ind_prod_60kg_bags'].quantile(.75), inplace=True)"
   ]
  },
  {
   "cell_type": "code",
   "execution_count": 5,
   "id": "aacb9308-ec95-4b16-acb4-b5703d480457",
   "metadata": {},
   "outputs": [],
   "source": [
    "# df['ind_prod_lbs'] = [(each*1000)*2.2 for each in df['Ind_prod_60kg_bags']]"
   ]
  },
  {
   "cell_type": "code",
   "execution_count": 6,
   "id": "a8691924-2cc2-47f6-a31e-9137be619fe1",
   "metadata": {},
   "outputs": [],
   "source": [
    "# df.drop('Ind_prod_60kg_bags', axis=1, inplace=True)"
   ]
  },
  {
   "cell_type": "code",
   "execution_count": 7,
   "id": "45ef7aea-22fc-439a-b7ec-bfcd9327da06",
   "metadata": {},
   "outputs": [],
   "source": [
    "# df.to_csv('data/Indonesia/Indonesia2.csv')"
   ]
  },
  {
   "cell_type": "code",
   "execution_count": null,
   "id": "e90f9700-e47f-4854-b030-8f55e68fa6c3",
   "metadata": {},
   "outputs": [],
   "source": []
  },
  {
   "cell_type": "code",
   "execution_count": 8,
   "id": "291098f0-732e-4ce6-b7e1-261fa25e3f6b",
   "metadata": {},
   "outputs": [],
   "source": [
    "# avg_temp = pd.read_csv('data/Indonesia/tas_timeseries_annual_cru_1901-2021_IDN.csv')"
   ]
  },
  {
   "cell_type": "code",
   "execution_count": 9,
   "id": "dc1d66d9-062b-453f-84a2-e3f23dea0fb2",
   "metadata": {},
   "outputs": [],
   "source": [
    "# avg_temp.drop(avg_temp.columns[[1,3,4,5,6,7,8,9,10,11,12,13,14,15,16,17,18,19,20,21,22,23,24,25,26,27,28,29,30,31,32,33,34]], axis=1, inplace=True)"
   ]
  },
  {
   "cell_type": "code",
   "execution_count": 10,
   "id": "14d050d0-2d67-4cc3-ab0d-7465cabc0c04",
   "metadata": {},
   "outputs": [],
   "source": [
    "# avg_temp.drop(avg_temp.columns[[2]], axis=1, inplace=True)"
   ]
  },
  {
   "cell_type": "code",
   "execution_count": 11,
   "id": "d12deb6b-5698-488c-88eb-82d47e523bee",
   "metadata": {},
   "outputs": [],
   "source": [
    "# avg_temp2 = avg_temp.drop(avg_temp.index[0:89])"
   ]
  },
  {
   "cell_type": "code",
   "execution_count": 12,
   "id": "d73f92d2-5313-481f-81ae-48fe9150e0af",
   "metadata": {},
   "outputs": [],
   "source": [
    "# avg_temp3 = avg_temp2.drop(avg_temp2.index[31])"
   ]
  },
  {
   "cell_type": "code",
   "execution_count": 13,
   "id": "b03791d5-a85d-44f0-82fd-95e62466290c",
   "metadata": {},
   "outputs": [],
   "source": [
    "# avg_temp3.rename(columns={'Variable:': 'Year'}, inplace=True)"
   ]
  },
  {
   "cell_type": "code",
   "execution_count": 14,
   "id": "1110741a-66ae-40c8-a5f6-5935abb14e21",
   "metadata": {},
   "outputs": [],
   "source": [
    "# avg_temp3.rename(columns={'Indonesia': 'ind_avg_temp_celsius'}, inplace=True)"
   ]
  },
  {
   "cell_type": "code",
   "execution_count": 15,
   "id": "a6a4dcea-f4cf-4637-aae3-15d49b52c5d8",
   "metadata": {},
   "outputs": [],
   "source": [
    "# ind = pd.merge(df, avg_temp3, on='Year')"
   ]
  },
  {
   "cell_type": "code",
   "execution_count": 16,
   "id": "8449fe51-b4a1-44f1-8a0e-17b9347dd06e",
   "metadata": {},
   "outputs": [],
   "source": [
    "# ind = ind[['Year', 'Temp Change', 'ind_avg_temp_celsius', 'ind_prod_lbs']]"
   ]
  },
  {
   "cell_type": "code",
   "execution_count": 17,
   "id": "cadb60e3-46d4-4e2c-b4e2-9e43939c1d5b",
   "metadata": {},
   "outputs": [],
   "source": [
    "# ind.rename(columns={'Year': 'year', 'Temp Change': 'temp_change'}, inplace=True)"
   ]
  },
  {
   "cell_type": "code",
   "execution_count": 18,
   "id": "33c443ff-85ee-40f8-85f1-808b0ede4eb5",
   "metadata": {},
   "outputs": [],
   "source": [
    "# ind.to_csv('data/Indonesia/ind_final.csv')"
   ]
  },
  {
   "cell_type": "code",
   "execution_count": null,
   "id": "8eddc2e2-271f-4596-ab84-4744f21e514c",
   "metadata": {},
   "outputs": [],
   "source": []
  },
  {
   "cell_type": "code",
   "execution_count": 19,
   "id": "d17e2adb-33b9-4bb3-a62d-97e9961c0bdf",
   "metadata": {},
   "outputs": [],
   "source": [
    "# df = pd.read_csv('data/Indonesia/ind_final.csv')"
   ]
  },
  {
   "cell_type": "code",
   "execution_count": 20,
   "id": "936391d4-c4cd-4564-9e77-5ecb067fb4e2",
   "metadata": {},
   "outputs": [],
   "source": [
    "# df.drop(df.columns[[0]], axis=1, inplace=True)"
   ]
  },
  {
   "cell_type": "code",
   "execution_count": 21,
   "id": "370a31f6-190c-4de8-a633-982fd66d6ff1",
   "metadata": {},
   "outputs": [],
   "source": [
    "# df2 = pd.read_csv('data/cleaned_merged_df.csv')"
   ]
  },
  {
   "cell_type": "code",
   "execution_count": 22,
   "id": "bc438d80-7d98-4d7a-9db0-de7041ce37f5",
   "metadata": {},
   "outputs": [],
   "source": [
    "# df.rename(columns={'temp_change': 'ind_annual_celcsius_change'}, inplace=True)"
   ]
  },
  {
   "cell_type": "code",
   "execution_count": 23,
   "id": "c04ea3e9-5335-4931-89ae-beb462a792c7",
   "metadata": {},
   "outputs": [],
   "source": [
    "# cleaned_merged_df2 = pd.merge(df, df2, on='year')"
   ]
  },
  {
   "cell_type": "code",
   "execution_count": 24,
   "id": "0a41b3f6-6daa-4df1-8f3b-a63b7c4fef74",
   "metadata": {},
   "outputs": [],
   "source": [
    "# cleaned_merged_df2"
   ]
  },
  {
   "cell_type": "code",
   "execution_count": 25,
   "id": "b8f65b01-7403-49d2-8408-83219821ad93",
   "metadata": {},
   "outputs": [],
   "source": [
    "# cleaned_merged_df2.to_csv('data/cleaned_merged_df2.csv')"
   ]
  },
  {
   "cell_type": "code",
   "execution_count": null,
   "id": "eafd1bb1-02f6-413b-8c03-3e9821986ee1",
   "metadata": {},
   "outputs": [],
   "source": []
  },
  {
   "cell_type": "code",
   "execution_count": 26,
   "id": "71b7d13d-0937-4e5b-a4c3-fe8a217d3928",
   "metadata": {},
   "outputs": [],
   "source": [
    "# df2 = pd.read_csv('data/cleaned_merged_df3.csv')"
   ]
  },
  {
   "cell_type": "code",
   "execution_count": null,
   "id": "376a33d8-c982-4152-b3a5-b8b25b403798",
   "metadata": {},
   "outputs": [],
   "source": []
  },
  {
   "cell_type": "code",
   "execution_count": 27,
   "id": "449aa76b-1d2e-4542-863a-ffb3bd1af435",
   "metadata": {},
   "outputs": [],
   "source": [
    "# b_prod = pd.read_csv('data/production.csv')"
   ]
  },
  {
   "cell_type": "code",
   "execution_count": 28,
   "id": "76dc2e13-6f28-4491-949c-b0874aadb467",
   "metadata": {},
   "outputs": [],
   "source": [
    "# b_prod.drop(b_prod.columns[[0]], axis=1, inplace=True)"
   ]
  },
  {
   "cell_type": "code",
   "execution_count": 29,
   "id": "96e09e30-9f6f-4945-b044-3eaa959f65af",
   "metadata": {},
   "outputs": [],
   "source": [
    "# b_prod.drop(b_prod.index[0:2], inplace=True)"
   ]
  },
  {
   "cell_type": "code",
   "execution_count": 30,
   "id": "8bdc9c5c-eb38-47c6-a8cc-bba7dae52f2b",
   "metadata": {},
   "outputs": [],
   "source": [
    "# b_prod.drop(b_prod.index[1:56], inplace=True)"
   ]
  },
  {
   "cell_type": "code",
   "execution_count": 31,
   "id": "a29f6585-745a-43ed-818e-cc732b641a60",
   "metadata": {},
   "outputs": [],
   "source": [
    "# df = b_prod.transpose()"
   ]
  },
  {
   "cell_type": "code",
   "execution_count": 32,
   "id": "ea3a9886-eb33-4ce1-933c-f1c39c48af11",
   "metadata": {},
   "outputs": [],
   "source": [
    "# new_header = df.iloc[0]\n",
    "# df = df[1:]\n",
    "# df.columns = new_header"
   ]
  },
  {
   "cell_type": "code",
   "execution_count": 33,
   "id": "be60dfca-82fe-4025-96c2-1151f58d2297",
   "metadata": {},
   "outputs": [],
   "source": [
    "# df = df.reset_index()"
   ]
  },
  {
   "cell_type": "code",
   "execution_count": 34,
   "id": "8f1046c8-6598-454e-8577-9735c9c473d0",
   "metadata": {},
   "outputs": [],
   "source": [
    "# df.rename(columns={'index': 'year', 'Brazil': 'b_prod_60kg_bags'}, inplace=True)"
   ]
  },
  {
   "cell_type": "code",
   "execution_count": 35,
   "id": "499ef749-fd61-45d3-b0c7-2b90ac035c8c",
   "metadata": {},
   "outputs": [],
   "source": [
    "# df.dtypes"
   ]
  },
  {
   "cell_type": "code",
   "execution_count": 36,
   "id": "5fcb1f54-4c52-4e7a-8d60-ba4caeb11740",
   "metadata": {},
   "outputs": [],
   "source": [
    "# df['year'] = df['year'].astype(int)"
   ]
  },
  {
   "cell_type": "code",
   "execution_count": 37,
   "id": "6ad378bd-14f8-461e-b399-eab760686f10",
   "metadata": {},
   "outputs": [],
   "source": [
    "# df['b_prod_lbs'] = [(each*1000)*2.2 for each in df['b_prod_60kg_bags']]"
   ]
  },
  {
   "cell_type": "code",
   "execution_count": 38,
   "id": "e3f8af0e-0eb3-44a1-8683-e414dc0f50b6",
   "metadata": {},
   "outputs": [],
   "source": [
    "# df.drop(df.columns[[1]], axis=1, inplace=True)"
   ]
  },
  {
   "cell_type": "code",
   "execution_count": 39,
   "id": "4adb2cb7-f030-49dd-afa6-e1ac556db5a3",
   "metadata": {},
   "outputs": [],
   "source": [
    "# df['year'] = df['year'].str[:-3]"
   ]
  },
  {
   "cell_type": "code",
   "execution_count": 40,
   "id": "0188137b-ec93-407f-97b2-10af6ca4d6de",
   "metadata": {},
   "outputs": [],
   "source": [
    "# cleaned_merged_df4 = pd.merge(df, df2, on='year')"
   ]
  },
  {
   "cell_type": "code",
   "execution_count": 41,
   "id": "312d588d-1500-4b4c-b5d1-113dd7b8f0e6",
   "metadata": {},
   "outputs": [],
   "source": [
    "# cleaned_merged_df4.drop(cleaned_merged_df4.columns[[2, 3]], axis=1, inplace=True)"
   ]
  },
  {
   "cell_type": "code",
   "execution_count": 42,
   "id": "e4f033dc-27d7-4e60-aec1-f91bef1216ab",
   "metadata": {},
   "outputs": [],
   "source": [
    "# cleaned_merged_df4.head()"
   ]
  },
  {
   "cell_type": "code",
   "execution_count": 43,
   "id": "79f9df92-fc4f-418f-a48e-c411719c237f",
   "metadata": {},
   "outputs": [],
   "source": [
    "# cleaned_merged_df4.to_csv('data/cleaned_merged_df4.csv')"
   ]
  },
  {
   "cell_type": "markdown",
   "id": "69878bf4-e8d0-4ce2-928b-9dd94f5ec700",
   "metadata": {},
   "source": [
    "# Modeling"
   ]
  },
  {
   "cell_type": "markdown",
   "id": "a1cfc605-7695-45ef-9fbc-6cab3b9d3060",
   "metadata": {},
   "source": [
    "### Loading Data"
   ]
  },
  {
   "cell_type": "code",
   "execution_count": 44,
   "id": "98fe449e-c266-46ad-a0a6-13fbaaf96ee8",
   "metadata": {},
   "outputs": [],
   "source": [
    "df = pd.read_csv('data/cleaned_merged_df4.csv')"
   ]
  },
  {
   "cell_type": "code",
   "execution_count": 45,
   "id": "a2181417-a801-4848-9828-3779b2f7ab28",
   "metadata": {},
   "outputs": [],
   "source": [
    "df.drop(df.columns[[0]], axis=1, inplace=True)"
   ]
  },
  {
   "cell_type": "code",
   "execution_count": 46,
   "id": "a2b3d631-43e0-4585-8371-0c162df6e465",
   "metadata": {},
   "outputs": [
    {
     "data": {
      "text/html": [
       "<div>\n",
       "<style scoped>\n",
       "    .dataframe tbody tr th:only-of-type {\n",
       "        vertical-align: middle;\n",
       "    }\n",
       "\n",
       "    .dataframe tbody tr th {\n",
       "        vertical-align: top;\n",
       "    }\n",
       "\n",
       "    .dataframe thead th {\n",
       "        text-align: right;\n",
       "    }\n",
       "</style>\n",
       "<table border=\"1\" class=\"dataframe\">\n",
       "  <thead>\n",
       "    <tr style=\"text-align: right;\">\n",
       "      <th></th>\n",
       "      <th>year</th>\n",
       "      <th>b_prod_lbs</th>\n",
       "      <th>ind_annual_celcsius_change</th>\n",
       "      <th>ind_avg_temp_celsius</th>\n",
       "      <th>ind_prod_lbs</th>\n",
       "      <th>b_hectares_harvested</th>\n",
       "      <th>b_hectograms_per_hectare_yield</th>\n",
       "      <th>b_tonnes_produced</th>\n",
       "      <th>usa_retail_price</th>\n",
       "      <th>b_annual_avg_temp</th>\n",
       "      <th>...</th>\n",
       "      <th>col_annual_celsius_change</th>\n",
       "      <th>global_change_in_celsius</th>\n",
       "      <th>e_prod</th>\n",
       "      <th>e_temp_change</th>\n",
       "      <th>e_export</th>\n",
       "      <th>e_consumption</th>\n",
       "      <th>us_consumption_lbs</th>\n",
       "      <th>col_avg_temp_celsius</th>\n",
       "      <th>b_annual_celsius_change</th>\n",
       "      <th>e_avg_temp</th>\n",
       "    </tr>\n",
       "  </thead>\n",
       "  <tbody>\n",
       "    <tr>\n",
       "      <th>27</th>\n",
       "      <td>2017</td>\n",
       "      <td>1.160276e+08</td>\n",
       "      <td>0.968</td>\n",
       "      <td>25.59</td>\n",
       "      <td>23875093.66</td>\n",
       "      <td>1802417</td>\n",
       "      <td>14894</td>\n",
       "      <td>2684508</td>\n",
       "      <td>4.450000</td>\n",
       "      <td>25.77</td>\n",
       "      <td>...</td>\n",
       "      <td>0.625</td>\n",
       "      <td>1.40</td>\n",
       "      <td>7346.7332</td>\n",
       "      <td>1.464</td>\n",
       "      <td>3773.406333</td>\n",
       "      <td>3643.0</td>\n",
       "      <td>57602600.0</td>\n",
       "      <td>25.11</td>\n",
       "      <td>1.348</td>\n",
       "      <td>23.65</td>\n",
       "    </tr>\n",
       "    <tr>\n",
       "      <th>28</th>\n",
       "      <td>2018</td>\n",
       "      <td>1.432878e+08</td>\n",
       "      <td>0.881</td>\n",
       "      <td>25.58</td>\n",
       "      <td>21158707.24</td>\n",
       "      <td>1863966</td>\n",
       "      <td>19060</td>\n",
       "      <td>3552729</td>\n",
       "      <td>4.300000</td>\n",
       "      <td>25.59</td>\n",
       "      <td>...</td>\n",
       "      <td>0.972</td>\n",
       "      <td>1.20</td>\n",
       "      <td>7511.2234</td>\n",
       "      <td>0.944</td>\n",
       "      <td>3589.048020</td>\n",
       "      <td>3685.0</td>\n",
       "      <td>58331521.6</td>\n",
       "      <td>25.04</td>\n",
       "      <td>1.170</td>\n",
       "      <td>23.27</td>\n",
       "    </tr>\n",
       "    <tr>\n",
       "      <th>29</th>\n",
       "      <td>2019</td>\n",
       "      <td>1.280636e+08</td>\n",
       "      <td>1.056</td>\n",
       "      <td>25.96</td>\n",
       "      <td>25152473.50</td>\n",
       "      <td>1825283</td>\n",
       "      <td>16500</td>\n",
       "      <td>3011745</td>\n",
       "      <td>4.141333</td>\n",
       "      <td>25.94</td>\n",
       "      <td>...</td>\n",
       "      <td>1.228</td>\n",
       "      <td>1.41</td>\n",
       "      <td>7343.4329</td>\n",
       "      <td>1.362</td>\n",
       "      <td>3921.249773</td>\n",
       "      <td>3781.0</td>\n",
       "      <td>59104449.8</td>\n",
       "      <td>25.42</td>\n",
       "      <td>1.532</td>\n",
       "      <td>23.41</td>\n",
       "    </tr>\n",
       "  </tbody>\n",
       "</table>\n",
       "<p>3 rows × 21 columns</p>\n",
       "</div>"
      ],
      "text/plain": [
       "    year    b_prod_lbs  ind_annual_celcsius_change  ind_avg_temp_celsius  \\\n",
       "27  2017  1.160276e+08                       0.968                 25.59   \n",
       "28  2018  1.432878e+08                       0.881                 25.58   \n",
       "29  2019  1.280636e+08                       1.056                 25.96   \n",
       "\n",
       "    ind_prod_lbs  b_hectares_harvested  b_hectograms_per_hectare_yield  \\\n",
       "27   23875093.66               1802417                           14894   \n",
       "28   21158707.24               1863966                           19060   \n",
       "29   25152473.50               1825283                           16500   \n",
       "\n",
       "    b_tonnes_produced  usa_retail_price  b_annual_avg_temp  ...  \\\n",
       "27            2684508          4.450000              25.77  ...   \n",
       "28            3552729          4.300000              25.59  ...   \n",
       "29            3011745          4.141333              25.94  ...   \n",
       "\n",
       "    col_annual_celsius_change  global_change_in_celsius     e_prod  \\\n",
       "27                      0.625                      1.40  7346.7332   \n",
       "28                      0.972                      1.20  7511.2234   \n",
       "29                      1.228                      1.41  7343.4329   \n",
       "\n",
       "    e_temp_change     e_export  e_consumption  us_consumption_lbs  \\\n",
       "27          1.464  3773.406333         3643.0          57602600.0   \n",
       "28          0.944  3589.048020         3685.0          58331521.6   \n",
       "29          1.362  3921.249773         3781.0          59104449.8   \n",
       "\n",
       "    col_avg_temp_celsius  b_annual_celsius_change  e_avg_temp  \n",
       "27                 25.11                    1.348       23.65  \n",
       "28                 25.04                    1.170       23.27  \n",
       "29                 25.42                    1.532       23.41  \n",
       "\n",
       "[3 rows x 21 columns]"
      ]
     },
     "execution_count": 46,
     "metadata": {},
     "output_type": "execute_result"
    }
   ],
   "source": [
    "df.tail(3)"
   ]
  },
  {
   "cell_type": "markdown",
   "id": "9c47d19f-9d2e-497c-988e-b579d0715123",
   "metadata": {},
   "source": [
    "### Train/Test Split for Temp (all 4 countries)"
   ]
  },
  {
   "cell_type": "code",
   "execution_count": 47,
   "id": "e61e1d43-98fb-42d6-b20d-0c08223640e4",
   "metadata": {},
   "outputs": [],
   "source": [
    "temp_features = [\n",
    "    'ind_avg_temp_celsius', \n",
    "    'e_avg_temp', \n",
    "    'col_avg_temp_celsius',\n",
    "    'b_annual_avg_temp'\n",
    "]"
   ]
  },
  {
   "cell_type": "code",
   "execution_count": 48,
   "id": "e628ed3f-d820-4e7f-875f-a8d8091bc06b",
   "metadata": {},
   "outputs": [
    {
     "data": {
      "text/plain": [
       "ind_avg_temp_celsius    0\n",
       "e_avg_temp              0\n",
       "col_avg_temp_celsius    0\n",
       "b_annual_avg_temp       0\n",
       "dtype: int64"
      ]
     },
     "execution_count": 48,
     "metadata": {},
     "output_type": "execute_result"
    }
   ],
   "source": [
    "df[temp_features].isnull().sum()"
   ]
  },
  {
   "cell_type": "code",
   "execution_count": 49,
   "id": "d03647a5-bf02-4b5d-8bf5-8d18b7e12371",
   "metadata": {},
   "outputs": [],
   "source": [
    "X = df[temp_features]\n",
    "y = df['usa_retail_price']\n",
    "\n",
    "X_train, X_test, y_train, y_test = train_test_split(X, y, random_state=42)"
   ]
  },
  {
   "cell_type": "markdown",
   "id": "0104904d-df3f-4040-9154-68fca4f3b58f",
   "metadata": {},
   "source": [
    "### Scaling"
   ]
  },
  {
   "cell_type": "code",
   "execution_count": 50,
   "id": "b2733e1b-534c-4dc8-8f15-92d9b04700d1",
   "metadata": {},
   "outputs": [
    {
     "name": "stdout",
     "output_type": "stream",
     "text": [
      "StandardScaler()\n"
     ]
    }
   ],
   "source": [
    "ss = StandardScaler()\n",
    "print(ss.fit(X_train))"
   ]
  },
  {
   "cell_type": "code",
   "execution_count": 51,
   "id": "9edc6358-7608-4e92-9d65-842c115fc7f2",
   "metadata": {},
   "outputs": [
    {
     "name": "stdout",
     "output_type": "stream",
     "text": [
      "StandardScaler()\n"
     ]
    }
   ],
   "source": [
    "ss = StandardScaler()\n",
    "print(ss.fit(X_test))"
   ]
  },
  {
   "cell_type": "markdown",
   "id": "1dc2b9c7-bb69-4701-bc3d-18e7ce161361",
   "metadata": {},
   "source": [
    "### Linear Regression for Temp (all 4 counties)"
   ]
  },
  {
   "cell_type": "code",
   "execution_count": 52,
   "id": "6b3a8e80-159b-46f8-8ae7-f133523ddf2d",
   "metadata": {},
   "outputs": [
    {
     "name": "stdout",
     "output_type": "stream",
     "text": [
      "MLR score: 0.3734732342375028 -0.40131170280052086\n",
      "MLR intercept: -21.112368586285967\n",
      "MLR coeffs: [-1.88830049 -0.02702171 -0.20196791  3.09609429]\n"
     ]
    }
   ],
   "source": [
    "mlr = LinearRegression()\n",
    "mlr.fit(X_train, y_train)\n",
    "\n",
    "y_pred = mlr.predict(X_test)\n",
    "\n",
    "print('MLR score:', mlr.score(X_train, y_train), mlr.score(X_test, y_test))\n",
    "print('MLR intercept:', mlr.intercept_)\n",
    "print('MLR coeffs:', mlr.coef_)"
   ]
  },
  {
   "cell_type": "markdown",
   "id": "8751abcf-68f6-451f-9324-75a76f16f830",
   "metadata": {},
   "source": [
    "### Lasso for Temp (all 4 countries)"
   ]
  },
  {
   "cell_type": "code",
   "execution_count": 53,
   "id": "c99b5161-1404-44ab-888f-44f75046d8e4",
   "metadata": {},
   "outputs": [
    {
     "name": "stdout",
     "output_type": "stream",
     "text": [
      "Lasso score: 0.0 -0.4836121805558744\n",
      "Lasso intercept: 3.622821300940439\n",
      "Lasso coeffs: [0. 0. 0. 0.]\n"
     ]
    }
   ],
   "source": [
    "lasso = Lasso()\n",
    "lasso.fit(X_train, y_train)\n",
    "\n",
    "y_pred = lasso.predict(X_test)\n",
    "\n",
    "print('Lasso score:', lasso.score(X_train, y_train), lasso.score(X_test, y_test))\n",
    "print('Lasso intercept:', lasso.intercept_)\n",
    "print('Lasso coeffs:', lasso.coef_)"
   ]
  },
  {
   "cell_type": "markdown",
   "id": "a2412784-36d9-43a6-863f-67bf62e9e983",
   "metadata": {},
   "source": [
    "### Ridge for Temp (all 4 countries)"
   ]
  },
  {
   "cell_type": "code",
   "execution_count": 54,
   "id": "f8a6c14c-fc87-4ff4-a98d-33c307d12863",
   "metadata": {},
   "outputs": [
    {
     "name": "stdout",
     "output_type": "stream",
     "text": [
      "Ridge score: 0.2740455820885115 -0.00419153000408401\n",
      "Ridge intercept: -26.580509811165854\n",
      "Ridge coeffs: [-0.02938096  0.39727081  0.16709224  0.69004647]\n"
     ]
    }
   ],
   "source": [
    "ridge = Ridge()\n",
    "ridge.fit(X_train, y_train)\n",
    "\n",
    "y_pred = lasso.predict(X_test)\n",
    "\n",
    "print('Ridge score:', ridge.score(X_train, y_train), ridge.score(X_test, y_test))\n",
    "print('Ridge intercept:', ridge.intercept_)\n",
    "print('Ridge coeffs:', ridge.coef_)"
   ]
  },
  {
   "cell_type": "markdown",
   "id": "85e9d4ea-156c-4eea-b596-f300fcb3f7e7",
   "metadata": {},
   "source": [
    "### Train/Test Split for Production (all 4 countries)"
   ]
  },
  {
   "cell_type": "code",
   "execution_count": 55,
   "id": "765569fb-b3cf-4dd3-ba4f-31db21b6b3f2",
   "metadata": {},
   "outputs": [],
   "source": [
    "prod_features = [\n",
    "    'ind_prod_lbs', \n",
    "    'col_production_lbs', \n",
    "    'e_prod',\n",
    "    'b_prod_lbs'\n",
    "]"
   ]
  },
  {
   "cell_type": "code",
   "execution_count": 56,
   "id": "50069e9c-438b-4eb2-94c7-b6314323e777",
   "metadata": {},
   "outputs": [
    {
     "data": {
      "text/plain": [
       "ind_prod_lbs          0\n",
       "col_production_lbs    0\n",
       "e_prod                0\n",
       "b_prod_lbs            0\n",
       "dtype: int64"
      ]
     },
     "execution_count": 56,
     "metadata": {},
     "output_type": "execute_result"
    }
   ],
   "source": [
    "df[prod_features].isnull().sum()"
   ]
  },
  {
   "cell_type": "code",
   "execution_count": 57,
   "id": "79833d0f-4e2b-4e4b-b94a-97e48c214112",
   "metadata": {},
   "outputs": [],
   "source": [
    "X = df[prod_features]\n",
    "y = df['usa_retail_price']\n",
    "\n",
    "X_train, X_test, y_train, y_test = train_test_split(X, y, random_state=42)"
   ]
  },
  {
   "cell_type": "markdown",
   "id": "3b1e91dd-7f2d-4ee3-85f2-0e19ead387d1",
   "metadata": {},
   "source": [
    "### Linear Regression for Production (all 4 countries)"
   ]
  },
  {
   "cell_type": "code",
   "execution_count": 58,
   "id": "bd929277-27c2-4550-8b21-c6af1a0090e6",
   "metadata": {},
   "outputs": [
    {
     "name": "stdout",
     "output_type": "stream",
     "text": [
      "MLR score: 0.44353998819682683 0.45966424192158284\n",
      "MLR intercept: 2.843835978776019\n",
      "MLR coeffs: [ 6.72053432e-08 -3.46340339e-08  1.08976633e-04 -3.16729409e-10]\n"
     ]
    }
   ],
   "source": [
    "mlr = LinearRegression()\n",
    "mlr.fit(X_train, y_train)\n",
    "\n",
    "y_pred = mlr.predict(X_test)\n",
    "\n",
    "print('MLR score:', mlr.score(X_train, y_train), mlr.score(X_test, y_test))\n",
    "print('MLR intercept:', mlr.intercept_)\n",
    "print('MLR coeffs:', mlr.coef_)"
   ]
  },
  {
   "cell_type": "markdown",
   "id": "eae752fc-5095-4d08-893c-b82032d6d53b",
   "metadata": {},
   "source": [
    "#### Lasso for Production (all 4 countires)"
   ]
  },
  {
   "cell_type": "code",
   "execution_count": 59,
   "id": "efa54b55-d714-4fd4-84fa-38494c6dc8b3",
   "metadata": {},
   "outputs": [
    {
     "name": "stdout",
     "output_type": "stream",
     "text": [
      "Lasso score: 0.4435372753882937 0.4601123754468267\n",
      "Lasso intercept: 2.8448404561844898\n",
      "Lasso coeffs: [ 6.74330637e-08 -3.47007468e-08  1.07135712e-04 -2.59935580e-10]\n"
     ]
    }
   ],
   "source": [
    "lasso = Lasso()\n",
    "lasso.fit(X_train, y_train)\n",
    "\n",
    "y_pred = lasso.predict(X_test)\n",
    "\n",
    "print('Lasso score:', lasso.score(X_train, y_train), lasso.score(X_test, y_test))\n",
    "print('Lasso intercept:', lasso.intercept_)\n",
    "print('Lasso coeffs:', lasso.coef_)"
   ]
  },
  {
   "cell_type": "markdown",
   "id": "310ac7f4-8c18-4376-9494-2d3d5e69a6a2",
   "metadata": {},
   "source": [
    "#### Ridge for Production (all 4 countries)"
   ]
  },
  {
   "cell_type": "code",
   "execution_count": 60,
   "id": "c60ef19a-e0a7-45d6-9499-96006196308a",
   "metadata": {},
   "outputs": [
    {
     "name": "stdout",
     "output_type": "stream",
     "text": [
      "Ridge score: 0.4435399881968267 0.4596642441740758\n",
      "Ridge intercept: 2.843835983755618\n",
      "Ridge coeffs: [ 6.72053444e-08 -3.46340342e-08  1.08976624e-04 -3.16729128e-10]\n"
     ]
    }
   ],
   "source": [
    "ridge = Ridge()\n",
    "ridge.fit(X_train, y_train)\n",
    "\n",
    "y_pred = lasso.predict(X_test)\n",
    "\n",
    "print('Ridge score:', ridge.score(X_train, y_train), ridge.score(X_test, y_test))\n",
    "print('Ridge intercept:', ridge.intercept_)\n",
    "print('Ridge coeffs:', ridge.coef_)"
   ]
  },
  {
   "cell_type": "markdown",
   "id": "def6a07a-e667-427f-a45e-0651043ce0ca",
   "metadata": {},
   "source": [
    "### Linear Regression for Individual Country Production"
   ]
  },
  {
   "cell_type": "markdown",
   "id": "271d3689-8a45-40a8-86b5-091a035c0ff1",
   "metadata": {},
   "source": [
    "### Brazil"
   ]
  },
  {
   "cell_type": "code",
   "execution_count": 61,
   "id": "4ba087eb-883a-4352-ba9f-d0873570fb8b",
   "metadata": {},
   "outputs": [],
   "source": [
    "X = df[['b_prod_lbs']]\n",
    "y = df['usa_retail_price']\n",
    "\n",
    "X_train, X_test, y_train, y_test = train_test_split(X, y, random_state=42)"
   ]
  },
  {
   "cell_type": "markdown",
   "id": "887aeb9b-6526-4067-b365-6e1e3d09313a",
   "metadata": {},
   "source": [
    "#### Linear Regression for Brazil Production"
   ]
  },
  {
   "cell_type": "code",
   "execution_count": 62,
   "id": "b3bf88a7-7c04-40b1-8cfb-c6e45ac85a63",
   "metadata": {},
   "outputs": [
    {
     "name": "stdout",
     "output_type": "stream",
     "text": [
      "MLR score: 0.28947823626615643 0.3441955439413189\n",
      "MLR intercept: 2.194464598065048\n",
      "MLR coeffs: [1.64304545e-08]\n"
     ]
    }
   ],
   "source": [
    "mlr = LinearRegression()\n",
    "mlr.fit(X_train, y_train)\n",
    "\n",
    "y_pred = mlr.predict(X_test)\n",
    "\n",
    "print('MLR score:', mlr.score(X_train, y_train), mlr.score(X_test, y_test))\n",
    "print('MLR intercept:', mlr.intercept_)\n",
    "print('MLR coeffs:', mlr.coef_)"
   ]
  },
  {
   "cell_type": "markdown",
   "id": "8ab9d9b7-4dd3-4b6f-abc5-36c48dfd1a1f",
   "metadata": {},
   "source": [
    "#### Lasso for Brazil Production"
   ]
  },
  {
   "cell_type": "code",
   "execution_count": 63,
   "id": "3b1ff77e-c81d-49df-9a58-6e3a817fe118",
   "metadata": {},
   "outputs": [
    {
     "name": "stdout",
     "output_type": "stream",
     "text": [
      "Lasso score: 0.28947823626615465 0.3441955084919954\n",
      "Lasso intercept: 2.1944647175102343\n",
      "Lasso coeffs: [1.64304531e-08]\n"
     ]
    }
   ],
   "source": [
    "lasso = Lasso()\n",
    "lasso.fit(X_train, y_train)\n",
    "\n",
    "y_pred = lasso.predict(X_test)\n",
    "\n",
    "print('Lasso score:', lasso.score(X_train, y_train), lasso.score(X_test, y_test))\n",
    "print('Lasso intercept:', lasso.intercept_)\n",
    "print('Lasso coeffs:', lasso.coef_)"
   ]
  },
  {
   "cell_type": "markdown",
   "id": "a2c40c38-20d9-44e4-a9d5-1a9cfe1e84d1",
   "metadata": {},
   "source": [
    "#### Ridge for Brazil Production"
   ]
  },
  {
   "cell_type": "code",
   "execution_count": 64,
   "id": "5e2a262a-56c2-4d7f-a276-064d4d937651",
   "metadata": {},
   "outputs": [
    {
     "name": "stdout",
     "output_type": "stream",
     "text": [
      "Ridge score: 0.28947823626615654 0.3441955439413188\n",
      "Ridge intercept: 2.194464598065049\n",
      "Ridge coeffs: [1.64304545e-08]\n"
     ]
    }
   ],
   "source": [
    "ridge = Ridge()\n",
    "ridge.fit(X_train, y_train)\n",
    "\n",
    "y_pred = lasso.predict(X_test)\n",
    "\n",
    "print('Ridge score:', ridge.score(X_train, y_train), ridge.score(X_test, y_test))\n",
    "print('Ridge intercept:', ridge.intercept_)\n",
    "print('Ridge coeffs:', ridge.coef_)"
   ]
  },
  {
   "cell_type": "markdown",
   "id": "fa838984-ca13-471c-a05d-ef6a20896c64",
   "metadata": {},
   "source": [
    "### Ethiopia"
   ]
  },
  {
   "cell_type": "code",
   "execution_count": 65,
   "id": "70094390-eccd-4f22-a8e7-d6004267ecdf",
   "metadata": {},
   "outputs": [],
   "source": [
    "X = df[['e_prod']]\n",
    "y = df['usa_retail_price']\n",
    "\n",
    "X_train, X_test, y_train, y_test = train_test_split(X, y, random_state=42)"
   ]
  },
  {
   "cell_type": "markdown",
   "id": "89d1e925-e922-4def-8f10-b2e0b3649571",
   "metadata": {},
   "source": [
    "#### Linear Regression for Ethiopia Production"
   ]
  },
  {
   "cell_type": "code",
   "execution_count": 66,
   "id": "972661e5-464c-4e98-9fb7-40976257d4e9",
   "metadata": {},
   "outputs": [
    {
     "name": "stdout",
     "output_type": "stream",
     "text": [
      "MLR score: 0.360119810998626 0.24580471817671146\n",
      "MLR intercept: 2.2251372743615008\n",
      "MLR coeffs: [0.00030887]\n"
     ]
    }
   ],
   "source": [
    "mlr = LinearRegression()\n",
    "mlr.fit(X_train, y_train)\n",
    "\n",
    "y_pred = mlr.predict(X_test)\n",
    "\n",
    "print('MLR score:', mlr.score(X_train, y_train), mlr.score(X_test, y_test))\n",
    "print('MLR intercept:', mlr.intercept_)\n",
    "print('MLR coeffs:', mlr.coef_)"
   ]
  },
  {
   "cell_type": "markdown",
   "id": "d994e88e-45dc-4e04-8b43-7bf0bfaa7163",
   "metadata": {},
   "source": [
    "#### Lasso for Ethiopia Production"
   ]
  },
  {
   "cell_type": "code",
   "execution_count": 67,
   "id": "58fb99e2-d9a8-4f1a-a115-53e3115f781c",
   "metadata": {},
   "outputs": [
    {
     "name": "stdout",
     "output_type": "stream",
     "text": [
      "Lasso score: 0.36011923594717454 0.24565917938746085\n",
      "Lasso intercept: 2.226903470158761\n",
      "Lasso coeffs: [0.00030848]\n"
     ]
    }
   ],
   "source": [
    "lasso = Lasso()\n",
    "lasso.fit(X_train, y_train)\n",
    "\n",
    "y_pred = lasso.predict(X_test)\n",
    "\n",
    "print('Lasso score:', lasso.score(X_train, y_train), lasso.score(X_test, y_test))\n",
    "print('Lasso intercept:', lasso.intercept_)\n",
    "print('Lasso coeffs:', lasso.coef_)"
   ]
  },
  {
   "cell_type": "markdown",
   "id": "15fe9e1a-11fd-472e-b064-06ef13cdcc2a",
   "metadata": {},
   "source": [
    "#### Ridge for Ethiopia Production"
   ]
  },
  {
   "cell_type": "code",
   "execution_count": 68,
   "id": "c3d9f55f-f1fb-4395-855a-c26071392329",
   "metadata": {},
   "outputs": [
    {
     "name": "stdout",
     "output_type": "stream",
     "text": [
      "Ridge score: 0.3601198109986258 0.2458047161471879\n",
      "Ridge intercept: 2.2251372991582468\n",
      "Ridge coeffs: [0.00030887]\n"
     ]
    }
   ],
   "source": [
    "ridge = Ridge()\n",
    "ridge.fit(X_train, y_train)\n",
    "\n",
    "y_pred = lasso.predict(X_test)\n",
    "\n",
    "print('Ridge score:', ridge.score(X_train, y_train), ridge.score(X_test, y_test))\n",
    "print('Ridge intercept:', ridge.intercept_)\n",
    "print('Ridge coeffs:', ridge.coef_)"
   ]
  },
  {
   "cell_type": "markdown",
   "id": "0c010f42-8ca4-4d8b-ae49-87f20f6281dc",
   "metadata": {},
   "source": [
    "### Colombia"
   ]
  },
  {
   "cell_type": "code",
   "execution_count": 69,
   "id": "ccdd938c-59ab-4d88-b861-68ca9db45d06",
   "metadata": {},
   "outputs": [],
   "source": [
    "X = df[['col_production_lbs']]\n",
    "y = df['usa_retail_price']\n",
    "\n",
    "X_train, X_test, y_train, y_test = train_test_split(X, y, random_state=42)"
   ]
  },
  {
   "cell_type": "markdown",
   "id": "7802a62b-3fa0-43bd-ac80-6126f78ffed2",
   "metadata": {},
   "source": [
    "#### Linear Regression for Colombia Production"
   ]
  },
  {
   "cell_type": "code",
   "execution_count": 70,
   "id": "6c50563a-eef5-46f0-b9a7-93b8dd2b5ac3",
   "metadata": {},
   "outputs": [
    {
     "name": "stdout",
     "output_type": "stream",
     "text": [
      "MLR score: 0.10123686974918555 -0.7878982106086718\n",
      "MLR intercept: 4.88667404892861\n",
      "MLR coeffs: [-4.82415064e-08]\n"
     ]
    }
   ],
   "source": [
    "mlr = LinearRegression()\n",
    "mlr.fit(X_train, y_train)\n",
    "\n",
    "y_pred = mlr.predict(X_test)\n",
    "\n",
    "print('MLR score:', mlr.score(X_train, y_train), mlr.score(X_test, y_test))\n",
    "print('MLR intercept:', mlr.intercept_)\n",
    "print('MLR coeffs:', mlr.coef_)"
   ]
  },
  {
   "cell_type": "markdown",
   "id": "45948d26-17dd-489b-a676-ffa9eb324e0b",
   "metadata": {},
   "source": [
    "#### Lasso for Colombia Production"
   ]
  },
  {
   "cell_type": "code",
   "execution_count": 71,
   "id": "b98746e1-b4fa-4b7c-b4ff-807845f7e294",
   "metadata": {},
   "outputs": [
    {
     "name": "stdout",
     "output_type": "stream",
     "text": [
      "Lasso score: 0.1012368697491357 -0.7878979670005095\n",
      "Lasso intercept: 4.886673161615404\n",
      "Lasso coeffs: [-4.82414725e-08]\n"
     ]
    }
   ],
   "source": [
    "lasso = Lasso()\n",
    "lasso.fit(X_train, y_train)\n",
    "\n",
    "y_pred = lasso.predict(X_test)\n",
    "\n",
    "print('Lasso score:', lasso.score(X_train, y_train), lasso.score(X_test, y_test))\n",
    "print('Lasso intercept:', lasso.intercept_)\n",
    "print('Lasso coeffs:', lasso.coef_)"
   ]
  },
  {
   "cell_type": "markdown",
   "id": "107c35aa-f74d-462f-af3a-9c18130fe186",
   "metadata": {},
   "source": [
    "#### Ridge for Colombia Production"
   ]
  },
  {
   "cell_type": "code",
   "execution_count": 72,
   "id": "c1c84532-66e9-4a0d-a04e-e1b7491d5fa0",
   "metadata": {},
   "outputs": [
    {
     "name": "stdout",
     "output_type": "stream",
     "text": [
      "Ridge score: 0.10123686974918555 -0.7878982106086705\n",
      "Ridge intercept: 4.886674048928608\n",
      "Ridge coeffs: [-4.82415064e-08]\n"
     ]
    }
   ],
   "source": [
    "ridge = Ridge()\n",
    "ridge.fit(X_train, y_train)\n",
    "\n",
    "y_pred = lasso.predict(X_test)\n",
    "\n",
    "print('Ridge score:', ridge.score(X_train, y_train), ridge.score(X_test, y_test))\n",
    "print('Ridge intercept:', ridge.intercept_)\n",
    "print('Ridge coeffs:', ridge.coef_)"
   ]
  },
  {
   "cell_type": "markdown",
   "id": "a40c2745-a781-477a-a880-2652e25563b8",
   "metadata": {},
   "source": [
    "### Indonesia"
   ]
  },
  {
   "cell_type": "code",
   "execution_count": 73,
   "id": "ff9a1702-6656-4786-a131-de762f5c18a1",
   "metadata": {},
   "outputs": [],
   "source": [
    "X = df[['ind_prod_lbs']]\n",
    "y = df['usa_retail_price']\n",
    "\n",
    "X_train, X_test, y_train, y_test = train_test_split(X, y, random_state=42)"
   ]
  },
  {
   "cell_type": "markdown",
   "id": "593d8a6c-dc3e-49fc-b486-bfb473207586",
   "metadata": {},
   "source": [
    "#### Linear Regression for Indonesia Production"
   ]
  },
  {
   "cell_type": "code",
   "execution_count": 74,
   "id": "f14db027-9f96-471c-988b-8fc0de80b390",
   "metadata": {},
   "outputs": [
    {
     "name": "stdout",
     "output_type": "stream",
     "text": [
      "MLR score: 0.3538131649298706 0.5340857911865375\n",
      "MLR intercept: 1.890872405104997\n",
      "MLR coeffs: [9.53485117e-08]\n"
     ]
    }
   ],
   "source": [
    "mlr = LinearRegression()\n",
    "mlr.fit(X_train, y_train)\n",
    "\n",
    "y_pred = mlr.predict(X_test)\n",
    "\n",
    "print('MLR score:', mlr.score(X_train, y_train), mlr.score(X_test, y_test))\n",
    "print('MLR intercept:', mlr.intercept_)\n",
    "print('MLR coeffs:', mlr.coef_)"
   ]
  },
  {
   "cell_type": "markdown",
   "id": "70d891d0-ec26-4537-b469-46c0e98b3997",
   "metadata": {},
   "source": [
    "#### Lasso for Indoesia Production"
   ]
  },
  {
   "cell_type": "code",
   "execution_count": 75,
   "id": "c1730723-5312-49e9-ac3c-12f7247490e3",
   "metadata": {},
   "outputs": [
    {
     "name": "stdout",
     "output_type": "stream",
     "text": [
      "Lasso score: 0.35381316492981474 0.534085553947214\n",
      "Lasso intercept: 1.8908730927642938\n",
      "Lasso coeffs: [9.53484739e-08]\n"
     ]
    }
   ],
   "source": [
    "lasso = Lasso()\n",
    "lasso.fit(X_train, y_train)\n",
    "\n",
    "y_pred = lasso.predict(X_test)\n",
    "\n",
    "print('Lasso score:', lasso.score(X_train, y_train), lasso.score(X_test, y_test))\n",
    "print('Lasso intercept:', lasso.intercept_)\n",
    "print('Lasso coeffs:', lasso.coef_)"
   ]
  },
  {
   "cell_type": "markdown",
   "id": "318bfbb4-e88f-43d5-85a8-aacb823ad1f8",
   "metadata": {},
   "source": [
    "#### Ridge for Indonesia Production"
   ]
  },
  {
   "cell_type": "code",
   "execution_count": 76,
   "id": "26034fda-05b2-4415-989a-0261a7683f1f",
   "metadata": {},
   "outputs": [
    {
     "name": "stdout",
     "output_type": "stream",
     "text": [
      "Ridge score: 0.35381316492987025 0.5340857911865364\n",
      "Ridge intercept: 1.8908724051049999\n",
      "Ridge coeffs: [9.53485117e-08]\n"
     ]
    }
   ],
   "source": [
    "ridge = Ridge()\n",
    "ridge.fit(X_train, y_train)\n",
    "\n",
    "y_pred = lasso.predict(X_test)\n",
    "\n",
    "print('Ridge score:', ridge.score(X_train, y_train), ridge.score(X_test, y_test))\n",
    "print('Ridge intercept:', ridge.intercept_)\n",
    "print('Ridge coeffs:', ridge.coef_)"
   ]
  },
  {
   "cell_type": "markdown",
   "id": "a9a8a4a3-1d50-45bf-8d8a-ac36097d31e8",
   "metadata": {},
   "source": [
    "### Linear Regression for Temperature to predict production"
   ]
  },
  {
   "cell_type": "code",
   "execution_count": 77,
   "id": "3d85ac61-ca98-4e41-9b19-e5091b22bfee",
   "metadata": {},
   "outputs": [
    {
     "data": {
      "text/plain": [
       "Index(['year', 'b_prod_lbs', 'ind_annual_celcsius_change',\n",
       "       'ind_avg_temp_celsius', 'ind_prod_lbs', 'b_hectares_harvested',\n",
       "       'b_hectograms_per_hectare_yield', 'b_tonnes_produced',\n",
       "       'usa_retail_price', 'b_annual_avg_temp', 'col_production_lbs',\n",
       "       'col_annual_celsius_change', 'global_change_in_celsius', 'e_prod',\n",
       "       'e_temp_change', 'e_export', 'e_consumption', 'us_consumption_lbs',\n",
       "       'col_avg_temp_celsius', 'b_annual_celsius_change', 'e_avg_temp'],\n",
       "      dtype='object')"
      ]
     },
     "execution_count": 77,
     "metadata": {},
     "output_type": "execute_result"
    }
   ],
   "source": [
    "df.columns"
   ]
  },
  {
   "cell_type": "code",
   "execution_count": 78,
   "id": "2c6e0d94-decf-4c63-8e28-bbd6124000f5",
   "metadata": {},
   "outputs": [],
   "source": [
    "X = df[['b_annual_avg_temp']]\n",
    "y = df['b_prod_lbs']\n",
    "\n",
    "X_train, X_test, y_train, y_test = train_test_split(X, y, random_state=42)"
   ]
  },
  {
   "cell_type": "code",
   "execution_count": 79,
   "id": "004032f5-d527-4767-91ac-872ca03a160d",
   "metadata": {},
   "outputs": [
    {
     "name": "stdout",
     "output_type": "stream",
     "text": [
      "MLR score: 0.584081465553937 -0.35047492653032397\n",
      "MLR intercept: -1700137862.311876\n",
      "MLR coeffs: [70439074.95666267]\n"
     ]
    }
   ],
   "source": [
    "mlr = LinearRegression()\n",
    "mlr.fit(X_train, y_train)\n",
    "\n",
    "y_pred = mlr.predict(X_test)\n",
    "\n",
    "print('MLR score:', mlr.score(X_train, y_train), mlr.score(X_test, y_test))\n",
    "print('MLR intercept:', mlr.intercept_)\n",
    "print('MLR coeffs:', mlr.coef_)"
   ]
  },
  {
   "cell_type": "code",
   "execution_count": 80,
   "id": "03278f5d-f1bf-425e-b0ad-648c1c8d4582",
   "metadata": {},
   "outputs": [],
   "source": [
    "X = df[['ind_avg_temp_celsius']]\n",
    "y = df['ind_prod_lbs']\n",
    "\n",
    "X_train, X_test, y_train, y_test = train_test_split(X, y, random_state=42)"
   ]
  },
  {
   "cell_type": "code",
   "execution_count": 81,
   "id": "dffbd707-7beb-4a89-b644-789dd2e71b03",
   "metadata": {},
   "outputs": [
    {
     "name": "stdout",
     "output_type": "stream",
     "text": [
      "MLR score: 0.300836053859592 -0.0017423553829429839\n",
      "MLR intercept: -286233081.131289\n",
      "MLR coeffs: [11939710.23150827]\n"
     ]
    }
   ],
   "source": [
    "mlr = LinearRegression()\n",
    "mlr.fit(X_train, y_train)\n",
    "\n",
    "y_pred = mlr.predict(X_test)\n",
    "\n",
    "print('MLR score:', mlr.score(X_train, y_train), mlr.score(X_test, y_test))\n",
    "print('MLR intercept:', mlr.intercept_)\n",
    "print('MLR coeffs:', mlr.coef_)"
   ]
  },
  {
   "cell_type": "code",
   "execution_count": null,
   "id": "d9abbf21-3f50-4e3a-9952-ce06cd23a693",
   "metadata": {},
   "outputs": [],
   "source": []
  },
  {
   "cell_type": "code",
   "execution_count": 82,
   "id": "17b092d0-6db2-4c72-9ed4-17e90b86af96",
   "metadata": {},
   "outputs": [],
   "source": [
    "X = df[['col_avg_temp_celsius']]\n",
    "y = df['col_production_lbs']\n",
    "\n",
    "X_train, X_test, y_train, y_test = train_test_split(X, y, random_state=42)"
   ]
  },
  {
   "cell_type": "code",
   "execution_count": 83,
   "id": "9ea46a5b-deed-4f73-a3ae-3c0ab02604dc",
   "metadata": {},
   "outputs": [
    {
     "name": "stdout",
     "output_type": "stream",
     "text": [
      "MLR score: 0.08525694004260786 0.25288542208855647\n",
      "MLR intercept: -109115781.65241422\n",
      "MLR coeffs: [5420354.91238891]\n"
     ]
    }
   ],
   "source": [
    "mlr = LinearRegression()\n",
    "mlr.fit(X_train, y_train)\n",
    "\n",
    "y_pred = mlr.predict(X_test)\n",
    "\n",
    "print('MLR score:', mlr.score(X_train, y_train), mlr.score(X_test, y_test))\n",
    "print('MLR intercept:', mlr.intercept_)\n",
    "print('MLR coeffs:', mlr.coef_)"
   ]
  },
  {
   "cell_type": "code",
   "execution_count": null,
   "id": "79b6f545-0b84-4cb9-a734-c1b60850a8d5",
   "metadata": {},
   "outputs": [],
   "source": []
  },
  {
   "cell_type": "code",
   "execution_count": 84,
   "id": "431e023d-1e74-41dc-848d-3b6a6ee96099",
   "metadata": {},
   "outputs": [],
   "source": [
    "X = df[['e_avg_temp']]\n",
    "y = df['e_prod']\n",
    "\n",
    "X_train, X_test, y_train, y_test = train_test_split(X, y, random_state=42)"
   ]
  },
  {
   "cell_type": "code",
   "execution_count": 85,
   "id": "684728b9-70ba-4c92-b0ec-3a4bb2199887",
   "metadata": {},
   "outputs": [
    {
     "name": "stdout",
     "output_type": "stream",
     "text": [
      "MLR score: 0.7008018851469617 -0.17506875611057326\n",
      "MLR intercept: -88611.31762214666\n",
      "MLR coeffs: [3989.56698882]\n"
     ]
    }
   ],
   "source": [
    "mlr = LinearRegression()\n",
    "mlr.fit(X_train, y_train)\n",
    "\n",
    "y_pred = mlr.predict(X_test)\n",
    "\n",
    "print('MLR score:', mlr.score(X_train, y_train), mlr.score(X_test, y_test))\n",
    "print('MLR intercept:', mlr.intercept_)\n",
    "print('MLR coeffs:', mlr.coef_)"
   ]
  },
  {
   "cell_type": "markdown",
   "id": "dd2b209e-c353-4979-8dd6-dc28f3de472a",
   "metadata": {},
   "source": [
    "## Gridsearch"
   ]
  },
  {
   "cell_type": "code",
   "execution_count": 86,
   "id": "cebd1487-9ae2-4464-8203-6db0c1b9993d",
   "metadata": {},
   "outputs": [],
   "source": [
    "X = df.drop(['usa_retail_price'], axis=1)\n",
    "y = df['usa_retail_price']\n",
    "\n",
    "X_train, X_test, y_train, y_test = train_test_split(X, y, random_state=42)"
   ]
  },
  {
   "cell_type": "code",
   "execution_count": 87,
   "id": "005f47a5-5380-4c35-9719-795b7943fc3f",
   "metadata": {},
   "outputs": [
    {
     "name": "stdout",
     "output_type": "stream",
     "text": [
      "StandardScaler()\n"
     ]
    }
   ],
   "source": [
    "ss = StandardScaler()\n",
    "print(ss.fit(X_train))"
   ]
  },
  {
   "cell_type": "code",
   "execution_count": 88,
   "id": "bf375060-f276-4cf1-a8b1-6ac44c4b4b4d",
   "metadata": {},
   "outputs": [
    {
     "name": "stdout",
     "output_type": "stream",
     "text": [
      "StandardScaler()\n"
     ]
    }
   ],
   "source": [
    "ss = StandardScaler()\n",
    "print(ss.fit(X_test))"
   ]
  },
  {
   "cell_type": "code",
   "execution_count": 89,
   "id": "953ad2de-fccb-42df-b0a3-80d4056dadc4",
   "metadata": {},
   "outputs": [
    {
     "name": "stdout",
     "output_type": "stream",
     "text": [
      "MLR score: 0.7250897059769883 0.5427597031921797\n",
      "MLR intercept: 4.140800605134725\n",
      "MLR coeffs: [-0.00000000e+00 -9.75471108e-09 -0.00000000e+00 -0.00000000e+00\n",
      "  5.59114977e-08  2.11088806e-06  8.88897210e-04 -4.08801369e-06\n",
      " -0.00000000e+00  2.01487827e-08 -0.00000000e+00  0.00000000e+00\n",
      " -3.19789367e-04 -0.00000000e+00  0.00000000e+00  2.46499012e-03\n",
      " -2.28662790e-07  0.00000000e+00 -0.00000000e+00 -0.00000000e+00]\n"
     ]
    },
    {
     "name": "stderr",
     "output_type": "stream",
     "text": [
      "C:\\Users\\micha\\anaconda3\\lib\\site-packages\\sklearn\\linear_model\\_coordinate_descent.py:647: ConvergenceWarning: Objective did not converge. You might want to increase the number of iterations, check the scale of the features or consider increasing regularisation. Duality gap: 2.129e+00, tolerance: 1.493e-03\n",
      "  model = cd_fast.enet_coordinate_descent(\n"
     ]
    }
   ],
   "source": [
    "lasso = Lasso()\n",
    "lasso.fit(X_train, y_train)\n",
    "\n",
    "y_pred = lasso.predict(X_test)\n",
    "\n",
    "print('MLR score:', lasso.score(X_train, y_train), lasso.score(X_test, y_test))\n",
    "print('MLR intercept:',lasso.intercept_)\n",
    "print('MLR coeffs:', lasso.coef_)"
   ]
  },
  {
   "cell_type": "code",
   "execution_count": 90,
   "id": "42ef45e8-ca61-47d1-a1f5-dccf102e15ca",
   "metadata": {},
   "outputs": [
    {
     "name": "stdout",
     "output_type": "stream",
     "text": [
      "Fitting 5 folds for each of 32 candidates, totalling 160 fits\n"
     ]
    },
    {
     "data": {
      "text/plain": [
       "GridSearchCV(estimator=Pipeline(steps=[('ss', StandardScaler()),\n",
       "                                       ('lasso', Lasso())]),\n",
       "             param_grid={'lasso__alpha': [0.01, 0.1, 0.5, 1.0],\n",
       "                         'lasso__max_iter': [5000, 7500],\n",
       "                         'lasso__selection': ['cyclic', 'random'],\n",
       "                         'ss__with_mean': [True, False]},\n",
       "             verbose=1)"
      ]
     },
     "execution_count": 90,
     "metadata": {},
     "output_type": "execute_result"
    }
   ],
   "source": [
    "# Instantiate new pipeline object\n",
    "pipe = Pipeline([\n",
    "    ('ss', StandardScaler()),\n",
    "    ('lasso', Lasso())\n",
    "])\n",
    "\n",
    "# Define dictionary of hyperparameters\n",
    "pipe_params = {\n",
    "    'ss__with_mean': [True, False],\n",
    "    'lasso__max_iter': [5000, 7500],\n",
    "    'lasso__alpha': [0.01, 0.1, 0.5, 1.0],\n",
    "    'lasso__selection': ['cyclic', 'random']\n",
    "}\n",
    "\n",
    "# Instantiate our GridSearchCV object\n",
    "gs = GridSearchCV(pipe, param_grid=pipe_params, verbose=1)\n",
    "gs.fit(X_train, y_train)"
   ]
  },
  {
   "cell_type": "code",
   "execution_count": 91,
   "id": "1312ff61-6661-46c4-8eef-c393c631472a",
   "metadata": {},
   "outputs": [
    {
     "data": {
      "text/plain": [
       "GridSearchCV(estimator=Pipeline(steps=[('ss', StandardScaler()),\n",
       "                                       ('lasso', Lasso())]),\n",
       "             param_grid={'lasso__alpha': [0.01, 0.1, 0.5, 1.0],\n",
       "                         'lasso__max_iter': [5000, 7500],\n",
       "                         'lasso__selection': ['cyclic', 'random'],\n",
       "                         'ss__with_mean': [True, False]},\n",
       "             verbose=1)"
      ]
     },
     "execution_count": 91,
     "metadata": {},
     "output_type": "execute_result"
    }
   ],
   "source": [
    "gs"
   ]
  },
  {
   "cell_type": "code",
   "execution_count": 92,
   "id": "1de48a0a-5561-49e4-ad96-53bd738c0b99",
   "metadata": {},
   "outputs": [
    {
     "data": {
      "text/plain": [
       "{'lasso__alpha': 0.5,\n",
       " 'lasso__max_iter': 5000,\n",
       " 'lasso__selection': 'random',\n",
       " 'ss__with_mean': True}"
      ]
     },
     "execution_count": 92,
     "metadata": {},
     "output_type": "execute_result"
    }
   ],
   "source": [
    "gs.best_params_"
   ]
  },
  {
   "cell_type": "code",
   "execution_count": 93,
   "id": "b172c57d-2236-468f-a2aa-9fbabf92dcba",
   "metadata": {},
   "outputs": [
    {
     "data": {
      "text/plain": [
       "-1.480599960792699"
      ]
     },
     "execution_count": 93,
     "metadata": {},
     "output_type": "execute_result"
    }
   ],
   "source": [
    "gs.best_score_"
   ]
  },
  {
   "cell_type": "code",
   "execution_count": 94,
   "id": "08214306-68a0-41d2-8333-ca34475e0666",
   "metadata": {},
   "outputs": [
    {
     "data": {
      "text/plain": [
       "(0.0815747792615853, -0.343304632282035)"
      ]
     },
     "execution_count": 94,
     "metadata": {},
     "output_type": "execute_result"
    }
   ],
   "source": [
    "gs.score(X_train, y_train), gs.score(X_test, y_test)"
   ]
  },
  {
   "cell_type": "code",
   "execution_count": 95,
   "id": "dfd09f54-5073-4678-8397-8dfca32e1a96",
   "metadata": {},
   "outputs": [
    {
     "data": {
      "text/plain": [
       "Pipeline(steps=[('ss', StandardScaler()),\n",
       "                ('lasso', Lasso(alpha=0.5, max_iter=5000, selection='random'))])"
      ]
     },
     "execution_count": 95,
     "metadata": {},
     "output_type": "execute_result"
    }
   ],
   "source": [
    "gs.best_estimator_"
   ]
  },
  {
   "cell_type": "code",
   "execution_count": 96,
   "id": "970cd58d-1f98-4dae-bbd3-44e132c3007a",
   "metadata": {},
   "outputs": [
    {
     "data": {
      "text/plain": [
       "-1.4964117389850604"
      ]
     },
     "execution_count": 96,
     "metadata": {},
     "output_type": "execute_result"
    }
   ],
   "source": [
    "cross_val_score(gs.best_estimator_, X_train, y_train).mean()"
   ]
  },
  {
   "cell_type": "markdown",
   "id": "9ed01af2-81f7-432f-aca8-a87e33022471",
   "metadata": {},
   "source": [
    "### Visuals"
   ]
  },
  {
   "cell_type": "code",
   "execution_count": 118,
   "id": "33ee3d5a-3142-48eb-b025-a785141599e7",
   "metadata": {},
   "outputs": [],
   "source": [
    "df = pd.read_csv('data/cleaned_merged_df4.csv')"
   ]
  },
  {
   "cell_type": "code",
   "execution_count": 119,
   "id": "bc43ac7a-526b-4822-93f6-8402eb73100a",
   "metadata": {},
   "outputs": [],
   "source": [
    "df.drop(df.columns[[0]], axis=1, inplace=True)"
   ]
  },
  {
   "cell_type": "code",
   "execution_count": 146,
   "id": "93c7c356-73e7-482e-9d8c-73ccc7482acd",
   "metadata": {},
   "outputs": [],
   "source": [
    "df['e_prod_lbs'] = [(each*1000)*2.2 for each in df['e_prod']]"
   ]
  },
  {
   "cell_type": "code",
   "execution_count": 147,
   "id": "188c1852-189f-4db1-a15c-a2e0af90d600",
   "metadata": {},
   "outputs": [
    {
     "data": {
      "text/html": [
       "<div>\n",
       "<style scoped>\n",
       "    .dataframe tbody tr th:only-of-type {\n",
       "        vertical-align: middle;\n",
       "    }\n",
       "\n",
       "    .dataframe tbody tr th {\n",
       "        vertical-align: top;\n",
       "    }\n",
       "\n",
       "    .dataframe thead th {\n",
       "        text-align: right;\n",
       "    }\n",
       "</style>\n",
       "<table border=\"1\" class=\"dataframe\">\n",
       "  <thead>\n",
       "    <tr style=\"text-align: right;\">\n",
       "      <th></th>\n",
       "      <th>year</th>\n",
       "      <th>b_prod_lbs</th>\n",
       "      <th>ind_annual_celcsius_change</th>\n",
       "      <th>ind_avg_temp_celsius</th>\n",
       "      <th>ind_prod_lbs</th>\n",
       "      <th>b_hectares_harvested</th>\n",
       "      <th>b_hectograms_per_hectare_yield</th>\n",
       "      <th>b_tonnes_produced</th>\n",
       "      <th>usa_retail_price</th>\n",
       "      <th>b_annual_avg_temp</th>\n",
       "      <th>...</th>\n",
       "      <th>global_change_in_celsius</th>\n",
       "      <th>e_prod</th>\n",
       "      <th>e_temp_change</th>\n",
       "      <th>e_export</th>\n",
       "      <th>e_consumption</th>\n",
       "      <th>us_consumption_lbs</th>\n",
       "      <th>col_avg_temp_celsius</th>\n",
       "      <th>b_annual_celsius_change</th>\n",
       "      <th>e_avg_temp</th>\n",
       "      <th>e_prod_lbs</th>\n",
       "    </tr>\n",
       "  </thead>\n",
       "  <tbody>\n",
       "    <tr>\n",
       "      <th>0</th>\n",
       "      <td>1990</td>\n",
       "      <td>60028382.92</td>\n",
       "      <td>0.120</td>\n",
       "      <td>25.43</td>\n",
       "      <td>16371042.6</td>\n",
       "      <td>2908960</td>\n",
       "      <td>5036</td>\n",
       "      <td>1464856</td>\n",
       "      <td>2.97</td>\n",
       "      <td>25.12</td>\n",
       "      <td>...</td>\n",
       "      <td>0.66</td>\n",
       "      <td>2909.451</td>\n",
       "      <td>0.244</td>\n",
       "      <td>1074.101</td>\n",
       "      <td>1200.0</td>\n",
       "      <td>40254757.4</td>\n",
       "      <td>24.77</td>\n",
       "      <td>0.440</td>\n",
       "      <td>23.04</td>\n",
       "      <td>6400792.2</td>\n",
       "    </tr>\n",
       "    <tr>\n",
       "      <th>1</th>\n",
       "      <td>1991</td>\n",
       "      <td>60045685.48</td>\n",
       "      <td>0.203</td>\n",
       "      <td>25.32</td>\n",
       "      <td>18685031.2</td>\n",
       "      <td>2763440</td>\n",
       "      <td>5502</td>\n",
       "      <td>1520382</td>\n",
       "      <td>2.81</td>\n",
       "      <td>25.05</td>\n",
       "      <td>...</td>\n",
       "      <td>0.53</td>\n",
       "      <td>2924.664</td>\n",
       "      <td>0.244</td>\n",
       "      <td>841.329</td>\n",
       "      <td>1264.0</td>\n",
       "      <td>41054596.0</td>\n",
       "      <td>24.82</td>\n",
       "      <td>0.470</td>\n",
       "      <td>23.13</td>\n",
       "      <td>6434260.8</td>\n",
       "    </tr>\n",
       "    <tr>\n",
       "      <th>2</th>\n",
       "      <td>1992</td>\n",
       "      <td>76127379.24</td>\n",
       "      <td>0.264</td>\n",
       "      <td>25.28</td>\n",
       "      <td>12252851.6</td>\n",
       "      <td>2500320</td>\n",
       "      <td>5177</td>\n",
       "      <td>1294373</td>\n",
       "      <td>2.58</td>\n",
       "      <td>24.91</td>\n",
       "      <td>...</td>\n",
       "      <td>0.25</td>\n",
       "      <td>1825.171</td>\n",
       "      <td>0.244</td>\n",
       "      <td>734.461</td>\n",
       "      <td>1331.0</td>\n",
       "      <td>40238996.6</td>\n",
       "      <td>24.95</td>\n",
       "      <td>0.381</td>\n",
       "      <td>22.79</td>\n",
       "      <td>4015376.2</td>\n",
       "    </tr>\n",
       "  </tbody>\n",
       "</table>\n",
       "<p>3 rows × 22 columns</p>\n",
       "</div>"
      ],
      "text/plain": [
       "   year   b_prod_lbs  ind_annual_celcsius_change  ind_avg_temp_celsius  \\\n",
       "0  1990  60028382.92                       0.120                 25.43   \n",
       "1  1991  60045685.48                       0.203                 25.32   \n",
       "2  1992  76127379.24                       0.264                 25.28   \n",
       "\n",
       "   ind_prod_lbs  b_hectares_harvested  b_hectograms_per_hectare_yield  \\\n",
       "0    16371042.6               2908960                            5036   \n",
       "1    18685031.2               2763440                            5502   \n",
       "2    12252851.6               2500320                            5177   \n",
       "\n",
       "   b_tonnes_produced  usa_retail_price  b_annual_avg_temp  ...  \\\n",
       "0            1464856              2.97              25.12  ...   \n",
       "1            1520382              2.81              25.05  ...   \n",
       "2            1294373              2.58              24.91  ...   \n",
       "\n",
       "   global_change_in_celsius    e_prod  e_temp_change  e_export  e_consumption  \\\n",
       "0                      0.66  2909.451          0.244  1074.101         1200.0   \n",
       "1                      0.53  2924.664          0.244   841.329         1264.0   \n",
       "2                      0.25  1825.171          0.244   734.461         1331.0   \n",
       "\n",
       "   us_consumption_lbs  col_avg_temp_celsius  b_annual_celsius_change  \\\n",
       "0          40254757.4                 24.77                    0.440   \n",
       "1          41054596.0                 24.82                    0.470   \n",
       "2          40238996.6                 24.95                    0.381   \n",
       "\n",
       "   e_avg_temp  e_prod_lbs  \n",
       "0       23.04   6400792.2  \n",
       "1       23.13   6434260.8  \n",
       "2       22.79   4015376.2  \n",
       "\n",
       "[3 rows x 22 columns]"
      ]
     },
     "execution_count": 147,
     "metadata": {},
     "output_type": "execute_result"
    }
   ],
   "source": [
    "df.head(3)"
   ]
  },
  {
   "cell_type": "code",
   "execution_count": 148,
   "id": "86d3e0e7-545d-4243-890a-e8fb38c48534",
   "metadata": {},
   "outputs": [
    {
     "data": {
      "text/plain": [
       "Index(['year', 'b_prod_lbs', 'ind_annual_celcsius_change',\n",
       "       'ind_avg_temp_celsius', 'ind_prod_lbs', 'b_hectares_harvested',\n",
       "       'b_hectograms_per_hectare_yield', 'b_tonnes_produced',\n",
       "       'usa_retail_price', 'b_annual_avg_temp', 'col_production_lbs',\n",
       "       'col_annual_celsius_change', 'global_change_in_celsius', 'e_prod',\n",
       "       'e_temp_change', 'e_export', 'e_consumption', 'us_consumption_lbs',\n",
       "       'col_avg_temp_celsius', 'b_annual_celsius_change', 'e_avg_temp',\n",
       "       'e_prod_lbs'],\n",
       "      dtype='object')"
      ]
     },
     "execution_count": 148,
     "metadata": {},
     "output_type": "execute_result"
    }
   ],
   "source": [
    "df.columns"
   ]
  },
  {
   "cell_type": "code",
   "execution_count": 172,
   "id": "d5d289bd-d633-497f-a375-8a060c4f645d",
   "metadata": {},
   "outputs": [
    {
     "data": {
      "image/png": "[encoded data removed]",
      "text/plain": [
       "<Figure size 640x480 with 1 Axes>"
      ]
     },
     "metadata": {},
     "output_type": "display_data"
    }
   ],
   "source": [
    "from matplotlib.pyplot import figure\n",
    "\n",
    "figure(figsize=(8, 6), dpi=80)\n",
    " \n",
    "plt.style.use('ggplot')\n",
    " \n",
    "plt.title('Relation between Production and Price')\n",
    "plt.xlabel('USA Retail Price ($ per lb)')\n",
    "plt.ylabel('Production lbs (hundred of millions)')\n",
    "plt.scatter(x=df['usa_retail_price'],y=df['b_prod_lbs'],s=100,c='b',alpha=0.6,marker='x', linewidths=2, label = \"Brazil\")\n",
    "plt.scatter(x=df['usa_retail_price'],y=df['ind_prod_lbs'],s=100,c='r',alpha=0.5,marker='x', linewidths=2, label = \"Indonesia\")\n",
    "plt.scatter(x=df['usa_retail_price'],y=df['col_production_lbs'],s=100,c='g',alpha=0.6,marker='x', linewidths=2, label = \"Colombia\")\n",
    "plt.scatter(x=df['usa_retail_price'],y=df['e_prod_lbs'],s=100,c='y',alpha=0.5,marker='x', linewidths=2, label = \"Ethiopia\")\n",
    " \n",
    "plt.legend(loc='upper left')\n",
    " \n",
    " \n",
    "plt.tight_layout()\n",
    " \n",
    "plt.show()"
   ]
  },
  {
   "cell_type": "code",
   "execution_count": 97,
   "id": "2ef00c92-722a-4cdb-99d6-e0a6eb5aee0d",
   "metadata": {},
   "outputs": [
    {
     "data": {
      "image/png": "[encoded data removed]",
      "text/plain": [
       "<Figure size 432x288 with 1 Axes>"
      ]
     },
     "metadata": {
      "needs_background": "light"
     },
     "output_type": "display_data"
    }
   ],
   "source": [
    "x1 = df.year\n",
    "y1 = df.b_prod_lbs\n",
    "plt.plot(x1, y1, label = \"Brazil\")\n",
    "\n",
    "x2 = df.year\n",
    "y2 = df.ind_prod_lbs\n",
    "plt.plot(x2, y2, label = \"Indonesia\")\n",
    "\n",
    "plt.xlabel('Year')\n",
    "plt.ylabel('Coffee Production (in hundred millions)')\n",
    "\n",
    "plt.title('Brazil and Indonesia Coffee Production ')\n",
    "\n",
    "plt.legend()\n",
    "plt.grid()\n",
    "\n",
    "plt.show()"
   ]
  },
  {
   "cell_type": "code",
   "execution_count": null,
   "id": "d7ae05ee-3caf-439f-ae29-eafc27406be9",
   "metadata": {},
   "outputs": [],
   "source": []
  },
  {
   "cell_type": "code",
   "execution_count": 98,
   "id": "82fd554c-cc6f-4a88-8827-fb4b17c6a715",
   "metadata": {},
   "outputs": [],
   "source": [
    "df = pd.read_csv('data/cleaned_merged_df4.csv')"
   ]
  },
  {
   "cell_type": "code",
   "execution_count": 99,
   "id": "7c33c3d0-2e1c-4243-bfb1-39f476671295",
   "metadata": {},
   "outputs": [],
   "source": [
    "df.drop(df.columns[[0]], axis=1, inplace=True)"
   ]
  },
  {
   "cell_type": "code",
   "execution_count": 100,
   "id": "67bc6c9d-a1f0-4836-ac62-46150250a378",
   "metadata": {},
   "outputs": [],
   "source": [
    "df.drop(df.index[0:29], inplace=True)"
   ]
  },
  {
   "cell_type": "code",
   "execution_count": 101,
   "id": "b74cd0d4-aaf3-49ac-8be6-234cc02d5fda",
   "metadata": {},
   "outputs": [],
   "source": [
    "df.drop(df.columns[[2,3,5,6,7,8,9,11,12,14,15,16,17,18,19,20]], axis=1, inplace=True)"
   ]
  },
  {
   "cell_type": "code",
   "execution_count": 102,
   "id": "ddf504eb-235f-455a-a232-3f9166c9862c",
   "metadata": {},
   "outputs": [
    {
     "data": {
      "text/plain": [
       "Index(['year', 'b_prod_lbs', 'ind_prod_lbs', 'col_production_lbs', 'e_prod'], dtype='object')"
      ]
     },
     "execution_count": 102,
     "metadata": {},
     "output_type": "execute_result"
    }
   ],
   "source": [
    "df.columns"
   ]
  },
  {
   "cell_type": "code",
   "execution_count": 103,
   "id": "7e9e1ee6-ee49-465d-a921-23f8e08a653f",
   "metadata": {},
   "outputs": [
    {
     "data": {
      "text/html": [
       "<div>\n",
       "<style scoped>\n",
       "    .dataframe tbody tr th:only-of-type {\n",
       "        vertical-align: middle;\n",
       "    }\n",
       "\n",
       "    .dataframe tbody tr th {\n",
       "        vertical-align: top;\n",
       "    }\n",
       "\n",
       "    .dataframe thead th {\n",
       "        text-align: right;\n",
       "    }\n",
       "</style>\n",
       "<table border=\"1\" class=\"dataframe\">\n",
       "  <thead>\n",
       "    <tr style=\"text-align: right;\">\n",
       "      <th></th>\n",
       "      <th>year</th>\n",
       "      <th>b_prod_lbs</th>\n",
       "      <th>ind_prod_lbs</th>\n",
       "      <th>col_production_lbs</th>\n",
       "      <th>e_prod</th>\n",
       "    </tr>\n",
       "  </thead>\n",
       "  <tbody>\n",
       "    <tr>\n",
       "      <th>29</th>\n",
       "      <td>2019</td>\n",
       "      <td>1.280636e+08</td>\n",
       "      <td>25152473.5</td>\n",
       "      <td>31020260.04</td>\n",
       "      <td>7343.4329</td>\n",
       "    </tr>\n",
       "  </tbody>\n",
       "</table>\n",
       "</div>"
      ],
      "text/plain": [
       "    year    b_prod_lbs  ind_prod_lbs  col_production_lbs     e_prod\n",
       "29  2019  1.280636e+08    25152473.5         31020260.04  7343.4329"
      ]
     },
     "execution_count": 103,
     "metadata": {},
     "output_type": "execute_result"
    }
   ],
   "source": [
    "df"
   ]
  },
  {
   "cell_type": "code",
   "execution_count": 104,
   "id": "1a4ff7ed-8db4-40ae-bbc5-65618eb6005a",
   "metadata": {},
   "outputs": [],
   "source": [
    "df['e_prod_lbs'] = [(each*1000)*2.2 for each in df['e_prod']]"
   ]
  },
  {
   "cell_type": "code",
   "execution_count": 105,
   "id": "a018e660-9aa7-493a-bc62-cc81ca02e1dd",
   "metadata": {},
   "outputs": [
    {
     "data": {
      "text/html": [
       "<div>\n",
       "<style scoped>\n",
       "    .dataframe tbody tr th:only-of-type {\n",
       "        vertical-align: middle;\n",
       "    }\n",
       "\n",
       "    .dataframe tbody tr th {\n",
       "        vertical-align: top;\n",
       "    }\n",
       "\n",
       "    .dataframe thead th {\n",
       "        text-align: right;\n",
       "    }\n",
       "</style>\n",
       "<table border=\"1\" class=\"dataframe\">\n",
       "  <thead>\n",
       "    <tr style=\"text-align: right;\">\n",
       "      <th></th>\n",
       "      <th>year</th>\n",
       "      <th>b_prod_lbs</th>\n",
       "      <th>ind_prod_lbs</th>\n",
       "      <th>col_production_lbs</th>\n",
       "      <th>e_prod</th>\n",
       "      <th>e_prod_lbs</th>\n",
       "    </tr>\n",
       "  </thead>\n",
       "  <tbody>\n",
       "    <tr>\n",
       "      <th>29</th>\n",
       "      <td>2019</td>\n",
       "      <td>1.280636e+08</td>\n",
       "      <td>25152473.5</td>\n",
       "      <td>31020260.04</td>\n",
       "      <td>7343.4329</td>\n",
       "      <td>16155552.38</td>\n",
       "    </tr>\n",
       "  </tbody>\n",
       "</table>\n",
       "</div>"
      ],
      "text/plain": [
       "    year    b_prod_lbs  ind_prod_lbs  col_production_lbs     e_prod  \\\n",
       "29  2019  1.280636e+08    25152473.5         31020260.04  7343.4329   \n",
       "\n",
       "     e_prod_lbs  \n",
       "29  16155552.38  "
      ]
     },
     "execution_count": 105,
     "metadata": {},
     "output_type": "execute_result"
    }
   ],
   "source": [
    "df"
   ]
  },
  {
   "cell_type": "code",
   "execution_count": 106,
   "id": "1642b0b2-8fef-46ac-a884-5e5bf78c56c6",
   "metadata": {},
   "outputs": [],
   "source": [
    "df.drop(df.columns[[4]], axis=1, inplace=True)"
   ]
  },
  {
   "cell_type": "code",
   "execution_count": 107,
   "id": "35dc2f3d-a350-4326-81c8-35bf8a97fd0e",
   "metadata": {},
   "outputs": [],
   "source": [
    "df = pd.read_csv('data/2019_prod.csv')"
   ]
  },
  {
   "cell_type": "code",
   "execution_count": 108,
   "id": "173b7b6f-a4c2-4e95-8033-508b16df89ea",
   "metadata": {},
   "outputs": [
    {
     "data": {
      "text/html": [
       "<div>\n",
       "<style scoped>\n",
       "    .dataframe tbody tr th:only-of-type {\n",
       "        vertical-align: middle;\n",
       "    }\n",
       "\n",
       "    .dataframe tbody tr th {\n",
       "        vertical-align: top;\n",
       "    }\n",
       "\n",
       "    .dataframe thead th {\n",
       "        text-align: right;\n",
       "    }\n",
       "</style>\n",
       "<table border=\"1\" class=\"dataframe\">\n",
       "  <thead>\n",
       "    <tr style=\"text-align: right;\">\n",
       "      <th></th>\n",
       "      <th>Unnamed: 0</th>\n",
       "      <th>year</th>\n",
       "      <th>b_prod_lbs</th>\n",
       "      <th>ind_prod_lbs</th>\n",
       "      <th>col_production_lbs</th>\n",
       "      <th>e_prod_lbs</th>\n",
       "    </tr>\n",
       "  </thead>\n",
       "  <tbody>\n",
       "    <tr>\n",
       "      <th>0</th>\n",
       "      <td>29</td>\n",
       "      <td>2019</td>\n",
       "      <td>1.280636e+08</td>\n",
       "      <td>25152473.5</td>\n",
       "      <td>31020260.04</td>\n",
       "      <td>16155552.38</td>\n",
       "    </tr>\n",
       "  </tbody>\n",
       "</table>\n",
       "</div>"
      ],
      "text/plain": [
       "   Unnamed: 0  year    b_prod_lbs  ind_prod_lbs  col_production_lbs  \\\n",
       "0          29  2019  1.280636e+08    25152473.5         31020260.04   \n",
       "\n",
       "    e_prod_lbs  \n",
       "0  16155552.38  "
      ]
     },
     "execution_count": 108,
     "metadata": {},
     "output_type": "execute_result"
    }
   ],
   "source": [
    "df"
   ]
  },
  {
   "cell_type": "code",
   "execution_count": 109,
   "id": "39337129-60da-43de-a6ef-c919f32df7cc",
   "metadata": {},
   "outputs": [],
   "source": [
    "df.drop(df.columns[[0,1]], axis=1, inplace=True)"
   ]
  },
  {
   "cell_type": "code",
   "execution_count": 110,
   "id": "28320f66-af93-4bb0-8a48-ea26753271ca",
   "metadata": {},
   "outputs": [
    {
     "data": {
      "text/html": [
       "<div>\n",
       "<style scoped>\n",
       "    .dataframe tbody tr th:only-of-type {\n",
       "        vertical-align: middle;\n",
       "    }\n",
       "\n",
       "    .dataframe tbody tr th {\n",
       "        vertical-align: top;\n",
       "    }\n",
       "\n",
       "    .dataframe thead th {\n",
       "        text-align: right;\n",
       "    }\n",
       "</style>\n",
       "<table border=\"1\" class=\"dataframe\">\n",
       "  <thead>\n",
       "    <tr style=\"text-align: right;\">\n",
       "      <th></th>\n",
       "      <th>year</th>\n",
       "      <th>b_prod_lbs</th>\n",
       "      <th>ind_prod_lbs</th>\n",
       "      <th>col_production_lbs</th>\n",
       "      <th>e_prod_lbs</th>\n",
       "    </tr>\n",
       "  </thead>\n",
       "  <tbody>\n",
       "    <tr>\n",
       "      <th>0</th>\n",
       "      <td>2019</td>\n",
       "      <td>1.280636e+08</td>\n",
       "      <td>25152473.5</td>\n",
       "      <td>31020260.04</td>\n",
       "      <td>16155552.38</td>\n",
       "    </tr>\n",
       "  </tbody>\n",
       "</table>\n",
       "</div>"
      ],
      "text/plain": [
       "   year    b_prod_lbs  ind_prod_lbs  col_production_lbs   e_prod_lbs\n",
       "0  2019  1.280636e+08    25152473.5         31020260.04  16155552.38"
      ]
     },
     "execution_count": 110,
     "metadata": {},
     "output_type": "execute_result"
    }
   ],
   "source": [
    "df"
   ]
  },
  {
   "cell_type": "code",
   "execution_count": 111,
   "id": "c864be1f-d6e3-4945-951c-2b429020b9f7",
   "metadata": {},
   "outputs": [],
   "source": [
    "df.rename(columns={'b_prod_lbs': 'Brazil', 'ind_prod_lbs': 'Indonesia', 'col_production_lbs': 'Colombia', 'e_prod_lbs': 'Ethiopia'}, inplace=True)"
   ]
  },
  {
   "cell_type": "code",
   "execution_count": 112,
   "id": "457d8e9d-330d-437f-9e29-5536834de85e",
   "metadata": {},
   "outputs": [
    {
     "data": {
      "image/png": "[encoded data removed]",
      "text/plain": [
       "<Figure size 720x360 with 1 Axes>"
      ]
     },
     "metadata": {
      "needs_background": "light"
     },
     "output_type": "display_data"
    }
   ],
   "source": [
    "df.plot(kind='bar',\n",
    "       figsize=(10, 5),\n",
    "       title='2019 Coffee Production',\n",
    "       xlabel='Countries',\n",
    "       ylabel='Coffee Production lbs (in hundred millions)',\n",
    "       rot=30,\n",
    "       fontsize=16,\n",
    "       grid=True);"
   ]
  },
  {
   "cell_type": "code",
   "execution_count": null,
   "id": "b44e384a-1faf-4fe6-95df-395b90f5c426",
   "metadata": {},
   "outputs": [],
   "source": []
  }
 ],
 "metadata": {
  "kernelspec": {
   "display_name": "Python 3 (ipykernel)",
   "language": "python",
   "name": "python3"
  },
  "language_info": {
   "codemirror_mode": {
    "name": "ipython",
    "version": 3
   },
   "file_extension": ".py",
   "mimetype": "text/x-python",
   "name": "python",
   "nbconvert_exporter": "python",
   "pygments_lexer": "ipython3",
   "version": "3.9.12"
  }
 },
 "nbformat": 4,
 "nbformat_minor": 5
}
