{
 "cells": [
  {
   "cell_type": "code",
   "execution_count": 1,
   "id": "97f2ddeb-01d9-4ee0-82e7-071de49df1d4",
   "metadata": {},
   "outputs": [],
   "source": [
    "import pandas as pd\n",
    "import numpy as np\n",
    "\n",
    "import matplotlib.pyplot as plt\n",
    "from matplotlib.pyplot import figure\n",
    "\n",
    "from sklearn.model_selection import train_test_split, GridSearchCV, cross_val_score\n",
    "from sklearn.preprocessing import StandardScaler, PolynomialFeatures\n",
    "from sklearn.linear_model import LinearRegression, Lasso, Ridge\n",
    "from sklearn.pipeline import Pipeline"
   ]
  },
  {
   "cell_type": "markdown",
   "id": "96c3e8b2-480f-40a4-af9b-2085264c8a41",
   "metadata": {},
   "source": [
    "## Building/Cleaning Data to Create CSV/DataFrames"
   ]
  },
  {
   "cell_type": "code",
   "execution_count": 2,
   "id": "db8473ce-3bbc-4d1e-83ce-c0f616b71176",
   "metadata": {},
   "outputs": [],
   "source": [
    "df = pd.read_csv('data/Indonesia/Indonesia.csv')"
   ]
  },
  {
   "cell_type": "code",
   "execution_count": 3,
   "id": "2c3481b0-2221-4eb6-85c2-144b318428ed",
   "metadata": {},
   "outputs": [],
   "source": [
    "df.drop('Unnamed: 0', axis=1, inplace=True)"
   ]
  },
  {
   "cell_type": "code",
   "execution_count": 4,
   "id": "40185371-8a56-4fd9-ae7d-2505b2c2f3b2",
   "metadata": {},
   "outputs": [],
   "source": [
    "# missing value for 2020\n",
    "# filling with 75th percentile\n",
    "\n",
    "df['Ind_prod_60kg_bags'].fillna(df['Ind_prod_60kg_bags'].quantile(.75), inplace=True)"
   ]
  },
  {
   "cell_type": "code",
   "execution_count": 5,
   "id": "aacb9308-ec95-4b16-acb4-b5703d480457",
   "metadata": {},
   "outputs": [],
   "source": [
    "df['ind_prod_lbs'] = [(each*1000)*2.2 for each in df['Ind_prod_60kg_bags']]"
   ]
  },
  {
   "cell_type": "code",
   "execution_count": 6,
   "id": "a8691924-2cc2-47f6-a31e-9137be619fe1",
   "metadata": {},
   "outputs": [],
   "source": [
    "df.drop('Ind_prod_60kg_bags', axis=1, inplace=True)"
   ]
  },
  {
   "cell_type": "code",
   "execution_count": 7,
   "id": "45ef7aea-22fc-439a-b7ec-bfcd9327da06",
   "metadata": {},
   "outputs": [],
   "source": [
    "# df.to_csv('data/Indonesia/Indonesia2.csv')"
   ]
  },
  {
   "cell_type": "code",
   "execution_count": null,
   "id": "e90f9700-e47f-4854-b030-8f55e68fa6c3",
   "metadata": {},
   "outputs": [],
   "source": []
  },
  {
   "cell_type": "code",
   "execution_count": 8,
   "id": "291098f0-732e-4ce6-b7e1-261fa25e3f6b",
   "metadata": {},
   "outputs": [],
   "source": [
    "avg_temp = pd.read_csv('data/Indonesia/tas_timeseries_annual_cru_1901-2021_IDN.csv')"
   ]
  },
  {
   "cell_type": "code",
   "execution_count": 9,
   "id": "dc1d66d9-062b-453f-84a2-e3f23dea0fb2",
   "metadata": {},
   "outputs": [],
   "source": [
    "avg_temp.drop(avg_temp.columns[[1,3,4,5,6,7,8,9,10,11,12,13,14,15,16,17,18,19,20,21,22,23,24,25,26,27,28,29,30,31,32,33,34]], axis=1, inplace=True)"
   ]
  },
  {
   "cell_type": "code",
   "execution_count": 10,
   "id": "14d050d0-2d67-4cc3-ab0d-7465cabc0c04",
   "metadata": {},
   "outputs": [],
   "source": [
    "avg_temp.drop(avg_temp.columns[[2]], axis=1, inplace=True)"
   ]
  },
  {
   "cell_type": "code",
   "execution_count": 11,
   "id": "d12deb6b-5698-488c-88eb-82d47e523bee",
   "metadata": {},
   "outputs": [],
   "source": [
    "avg_temp2 = avg_temp.drop(avg_temp.index[0:89])"
   ]
  },
  {
   "cell_type": "code",
   "execution_count": 12,
   "id": "d73f92d2-5313-481f-81ae-48fe9150e0af",
   "metadata": {},
   "outputs": [],
   "source": [
    "avg_temp3 = avg_temp2.drop(avg_temp2.index[31])"
   ]
  },
  {
   "cell_type": "code",
   "execution_count": 13,
   "id": "b03791d5-a85d-44f0-82fd-95e62466290c",
   "metadata": {},
   "outputs": [],
   "source": [
    "avg_temp3.rename(columns={'Variable:': 'Year'}, inplace=True)"
   ]
  },
  {
   "cell_type": "code",
   "execution_count": 14,
   "id": "1110741a-66ae-40c8-a5f6-5935abb14e21",
   "metadata": {},
   "outputs": [],
   "source": [
    "avg_temp3.rename(columns={'Indonesia': 'ind_avg_temp_celsius'}, inplace=True)"
   ]
  },
  {
   "cell_type": "code",
   "execution_count": 15,
   "id": "a6a4dcea-f4cf-4637-aae3-15d49b52c5d8",
   "metadata": {},
   "outputs": [],
   "source": [
    "ind = pd.merge(df, avg_temp3, on='Year')"
   ]
  },
  {
   "cell_type": "code",
   "execution_count": 16,
   "id": "8449fe51-b4a1-44f1-8a0e-17b9347dd06e",
   "metadata": {},
   "outputs": [],
   "source": [
    "ind = ind[['Year', 'Temp Change', 'ind_avg_temp_celsius', 'ind_prod_lbs']]"
   ]
  },
  {
   "cell_type": "code",
   "execution_count": 17,
   "id": "cadb60e3-46d4-4e2c-b4e2-9e43939c1d5b",
   "metadata": {},
   "outputs": [],
   "source": [
    "ind.rename(columns={'Year': 'year', 'Temp Change': 'temp_change'}, inplace=True)"
   ]
  },
  {
   "cell_type": "code",
   "execution_count": 18,
   "id": "33c443ff-85ee-40f8-85f1-808b0ede4eb5",
   "metadata": {},
   "outputs": [],
   "source": [
    "# ind.to_csv('data/Indonesia/ind_final.csv')"
   ]
  },
  {
   "cell_type": "code",
   "execution_count": null,
   "id": "8eddc2e2-271f-4596-ab84-4744f21e514c",
   "metadata": {},
   "outputs": [],
   "source": []
  },
  {
   "cell_type": "code",
   "execution_count": 19,
   "id": "d17e2adb-33b9-4bb3-a62d-97e9961c0bdf",
   "metadata": {},
   "outputs": [],
   "source": [
    "df = pd.read_csv('data/Indonesia/ind_final.csv')"
   ]
  },
  {
   "cell_type": "code",
   "execution_count": 20,
   "id": "936391d4-c4cd-4564-9e77-5ecb067fb4e2",
   "metadata": {},
   "outputs": [],
   "source": [
    "df.drop(df.columns[[0]], axis=1, inplace=True)"
   ]
  },
  {
   "cell_type": "code",
   "execution_count": 21,
   "id": "370a31f6-190c-4de8-a633-982fd66d6ff1",
   "metadata": {},
   "outputs": [],
   "source": [
    "df2 = pd.read_csv('data/cleaned_merged_df.csv')"
   ]
  },
  {
   "cell_type": "code",
   "execution_count": 22,
   "id": "bc438d80-7d98-4d7a-9db0-de7041ce37f5",
   "metadata": {},
   "outputs": [],
   "source": [
    "df.rename(columns={'temp_change': 'ind_annual_celcsius_change'}, inplace=True)"
   ]
  },
  {
   "cell_type": "code",
   "execution_count": 23,
   "id": "c04ea3e9-5335-4931-89ae-beb462a792c7",
   "metadata": {},
   "outputs": [],
   "source": [
    "cleaned_merged_df2 = pd.merge(df, df2, on='year')"
   ]
  },
  {
   "cell_type": "code",
   "execution_count": 24,
   "id": "0a41b3f6-6daa-4df1-8f3b-a63b7c4fef74",
   "metadata": {},
   "outputs": [
    {
     "data": {
      "text/html": [
       "<div>\n",
       "<style scoped>\n",
       "    .dataframe tbody tr th:only-of-type {\n",
       "        vertical-align: middle;\n",
       "    }\n",
       "\n",
       "    .dataframe tbody tr th {\n",
       "        vertical-align: top;\n",
       "    }\n",
       "\n",
       "    .dataframe thead th {\n",
       "        text-align: right;\n",
       "    }\n",
       "</style>\n",
       "<table border=\"1\" class=\"dataframe\">\n",
       "  <thead>\n",
       "    <tr style=\"text-align: right;\">\n",
       "      <th></th>\n",
       "      <th>year</th>\n",
       "      <th>ind_annual_celcsius_change</th>\n",
       "      <th>ind_avg_temp_celsius</th>\n",
       "      <th>ind_prod_lbs</th>\n",
       "      <th>b_hectares_harvested</th>\n",
       "      <th>b_hectograms_per_hectare_yield</th>\n",
       "      <th>b_tonnes_produced</th>\n",
       "      <th>usa_retail_price</th>\n",
       "      <th>b_annual_avg_temp</th>\n",
       "      <th>col_production_lbs</th>\n",
       "      <th>col_annual_celsius_change</th>\n",
       "      <th>global_change_in_celsius</th>\n",
       "      <th>e_prod</th>\n",
       "      <th>e_temp_change</th>\n",
       "      <th>e_export</th>\n",
       "      <th>e_consumption</th>\n",
       "      <th>us_consumption_lbs</th>\n",
       "      <th>col_avg_temp_celsius</th>\n",
       "      <th>b_annual_celsius_change</th>\n",
       "    </tr>\n",
       "  </thead>\n",
       "  <tbody>\n",
       "    <tr>\n",
       "      <th>0</th>\n",
       "      <td>1990</td>\n",
       "      <td>0.120</td>\n",
       "      <td>25.43</td>\n",
       "      <td>1.637104e+07</td>\n",
       "      <td>2908960</td>\n",
       "      <td>5036</td>\n",
       "      <td>1464856</td>\n",
       "      <td>2.970000</td>\n",
       "      <td>25.120</td>\n",
       "      <td>31671200.00</td>\n",
       "      <td>0.258</td>\n",
       "      <td>0.66</td>\n",
       "      <td>2909.451000</td>\n",
       "      <td>0.244</td>\n",
       "      <td>1074.101000</td>\n",
       "      <td>1200.0</td>\n",
       "      <td>40254757.40</td>\n",
       "      <td>24.77</td>\n",
       "      <td>0.440</td>\n",
       "    </tr>\n",
       "    <tr>\n",
       "      <th>1</th>\n",
       "      <td>1991</td>\n",
       "      <td>0.203</td>\n",
       "      <td>25.32</td>\n",
       "      <td>1.868503e+07</td>\n",
       "      <td>2763440</td>\n",
       "      <td>5502</td>\n",
       "      <td>1520382</td>\n",
       "      <td>2.810000</td>\n",
       "      <td>25.050</td>\n",
       "      <td>39556873.40</td>\n",
       "      <td>0.347</td>\n",
       "      <td>0.53</td>\n",
       "      <td>2924.664000</td>\n",
       "      <td>0.244</td>\n",
       "      <td>841.329000</td>\n",
       "      <td>1264.0</td>\n",
       "      <td>41054596.00</td>\n",
       "      <td>24.82</td>\n",
       "      <td>0.470</td>\n",
       "    </tr>\n",
       "    <tr>\n",
       "      <th>2</th>\n",
       "      <td>1992</td>\n",
       "      <td>0.264</td>\n",
       "      <td>25.28</td>\n",
       "      <td>1.225285e+07</td>\n",
       "      <td>2500320</td>\n",
       "      <td>5177</td>\n",
       "      <td>1294373</td>\n",
       "      <td>2.580000</td>\n",
       "      <td>24.910</td>\n",
       "      <td>32883131.60</td>\n",
       "      <td>0.532</td>\n",
       "      <td>0.25</td>\n",
       "      <td>1825.171000</td>\n",
       "      <td>0.244</td>\n",
       "      <td>734.461000</td>\n",
       "      <td>1331.0</td>\n",
       "      <td>40238996.60</td>\n",
       "      <td>24.95</td>\n",
       "      <td>0.381</td>\n",
       "    </tr>\n",
       "    <tr>\n",
       "      <th>3</th>\n",
       "      <td>1993</td>\n",
       "      <td>0.206</td>\n",
       "      <td>25.17</td>\n",
       "      <td>1.483523e+07</td>\n",
       "      <td>2259330</td>\n",
       "      <td>5660</td>\n",
       "      <td>1278759</td>\n",
       "      <td>2.470000</td>\n",
       "      <td>25.020</td>\n",
       "      <td>25129328.40</td>\n",
       "      <td>0.157</td>\n",
       "      <td>0.36</td>\n",
       "      <td>2967.004000</td>\n",
       "      <td>0.244</td>\n",
       "      <td>1166.778000</td>\n",
       "      <td>1402.0</td>\n",
       "      <td>42277701.40</td>\n",
       "      <td>24.80</td>\n",
       "      <td>0.522</td>\n",
       "    </tr>\n",
       "    <tr>\n",
       "      <th>4</th>\n",
       "      <td>1994</td>\n",
       "      <td>0.267</td>\n",
       "      <td>25.25</td>\n",
       "      <td>1.180933e+07</td>\n",
       "      <td>2097650</td>\n",
       "      <td>6232</td>\n",
       "      <td>1307289</td>\n",
       "      <td>3.400000</td>\n",
       "      <td>25.140</td>\n",
       "      <td>28520800.00</td>\n",
       "      <td>0.162</td>\n",
       "      <td>0.49</td>\n",
       "      <td>2762.730000</td>\n",
       "      <td>0.599</td>\n",
       "      <td>1475.325000</td>\n",
       "      <td>1476.0</td>\n",
       "      <td>38117428.80</td>\n",
       "      <td>24.77</td>\n",
       "      <td>0.612</td>\n",
       "    </tr>\n",
       "    <tr>\n",
       "      <th>5</th>\n",
       "      <td>1995</td>\n",
       "      <td>0.344</td>\n",
       "      <td>25.31</td>\n",
       "      <td>1.006154e+07</td>\n",
       "      <td>1869980</td>\n",
       "      <td>4974</td>\n",
       "      <td>930135</td>\n",
       "      <td>4.040000</td>\n",
       "      <td>25.270</td>\n",
       "      <td>28463639.60</td>\n",
       "      <td>0.431</td>\n",
       "      <td>0.78</td>\n",
       "      <td>3165.322000</td>\n",
       "      <td>0.815</td>\n",
       "      <td>1276.118000</td>\n",
       "      <td>1555.0</td>\n",
       "      <td>38198316.20</td>\n",
       "      <td>24.97</td>\n",
       "      <td>0.781</td>\n",
       "    </tr>\n",
       "    <tr>\n",
       "      <th>6</th>\n",
       "      <td>1996</td>\n",
       "      <td>0.387</td>\n",
       "      <td>25.26</td>\n",
       "      <td>1.808528e+07</td>\n",
       "      <td>1920250</td>\n",
       "      <td>7130</td>\n",
       "      <td>1369196</td>\n",
       "      <td>3.430000</td>\n",
       "      <td>25.050</td>\n",
       "      <td>23713470.00</td>\n",
       "      <td>0.057</td>\n",
       "      <td>0.35</td>\n",
       "      <td>3407.442000</td>\n",
       "      <td>0.775</td>\n",
       "      <td>1838.231000</td>\n",
       "      <td>1637.0</td>\n",
       "      <td>39729800.00</td>\n",
       "      <td>24.63</td>\n",
       "      <td>0.506</td>\n",
       "    </tr>\n",
       "    <tr>\n",
       "      <th>7</th>\n",
       "      <td>1997</td>\n",
       "      <td>0.397</td>\n",
       "      <td>25.52</td>\n",
       "      <td>1.676571e+07</td>\n",
       "      <td>1988190</td>\n",
       "      <td>6179</td>\n",
       "      <td>1228513</td>\n",
       "      <td>4.110000</td>\n",
       "      <td>25.280</td>\n",
       "      <td>26669491.20</td>\n",
       "      <td>0.431</td>\n",
       "      <td>0.65</td>\n",
       "      <td>3056.864000</td>\n",
       "      <td>0.713</td>\n",
       "      <td>1979.733000</td>\n",
       "      <td>1724.0</td>\n",
       "      <td>39149983.40</td>\n",
       "      <td>25.01</td>\n",
       "      <td>0.694</td>\n",
       "    </tr>\n",
       "    <tr>\n",
       "      <th>8</th>\n",
       "      <td>1998</td>\n",
       "      <td>0.997</td>\n",
       "      <td>25.89</td>\n",
       "      <td>1.605110e+07</td>\n",
       "      <td>2070410</td>\n",
       "      <td>8160</td>\n",
       "      <td>1689366</td>\n",
       "      <td>3.770000</td>\n",
       "      <td>25.680</td>\n",
       "      <td>23909516.40</td>\n",
       "      <td>0.848</td>\n",
       "      <td>0.99</td>\n",
       "      <td>2927.725000</td>\n",
       "      <td>0.806</td>\n",
       "      <td>1917.061000</td>\n",
       "      <td>1816.0</td>\n",
       "      <td>40928357.80</td>\n",
       "      <td>25.30</td>\n",
       "      <td>1.282</td>\n",
       "    </tr>\n",
       "    <tr>\n",
       "      <th>9</th>\n",
       "      <td>1999</td>\n",
       "      <td>0.265</td>\n",
       "      <td>25.13</td>\n",
       "      <td>1.442555e+07</td>\n",
       "      <td>2222925</td>\n",
       "      <td>7341</td>\n",
       "      <td>1631852</td>\n",
       "      <td>3.430000</td>\n",
       "      <td>25.150</td>\n",
       "      <td>20926940.98</td>\n",
       "      <td>-0.105</td>\n",
       "      <td>0.79</td>\n",
       "      <td>3784.051000</td>\n",
       "      <td>0.314</td>\n",
       "      <td>1818.087000</td>\n",
       "      <td>1912.0</td>\n",
       "      <td>42590741.60</td>\n",
       "      <td>24.46</td>\n",
       "      <td>0.602</td>\n",
       "    </tr>\n",
       "    <tr>\n",
       "      <th>10</th>\n",
       "      <td>2000</td>\n",
       "      <td>0.271</td>\n",
       "      <td>25.35</td>\n",
       "      <td>1.537193e+07</td>\n",
       "      <td>2267968</td>\n",
       "      <td>8393</td>\n",
       "      <td>1903562</td>\n",
       "      <td>3.450000</td>\n",
       "      <td>25.090</td>\n",
       "      <td>23142574.40</td>\n",
       "      <td>-0.144</td>\n",
       "      <td>0.63</td>\n",
       "      <td>3115.149000</td>\n",
       "      <td>0.572</td>\n",
       "      <td>1981.856000</td>\n",
       "      <td>2014.0</td>\n",
       "      <td>41240240.80</td>\n",
       "      <td>24.48</td>\n",
       "      <td>0.552</td>\n",
       "    </tr>\n",
       "    <tr>\n",
       "      <th>11</th>\n",
       "      <td>2001</td>\n",
       "      <td>0.515</td>\n",
       "      <td>25.47</td>\n",
       "      <td>1.503338e+07</td>\n",
       "      <td>2336031</td>\n",
       "      <td>7789</td>\n",
       "      <td>1819569</td>\n",
       "      <td>3.090000</td>\n",
       "      <td>25.360</td>\n",
       "      <td>26290622.60</td>\n",
       "      <td>0.344</td>\n",
       "      <td>0.86</td>\n",
       "      <td>4044.240000</td>\n",
       "      <td>0.732</td>\n",
       "      <td>1376.062000</td>\n",
       "      <td>2121.0</td>\n",
       "      <td>43018038.80</td>\n",
       "      <td>24.88</td>\n",
       "      <td>0.759</td>\n",
       "    </tr>\n",
       "    <tr>\n",
       "      <th>12</th>\n",
       "      <td>2002</td>\n",
       "      <td>0.608</td>\n",
       "      <td>25.79</td>\n",
       "      <td>1.480903e+07</td>\n",
       "      <td>2370891</td>\n",
       "      <td>11011</td>\n",
       "      <td>2610524</td>\n",
       "      <td>2.920000</td>\n",
       "      <td>25.630</td>\n",
       "      <td>25766488.00</td>\n",
       "      <td>0.567</td>\n",
       "      <td>0.97</td>\n",
       "      <td>4093.902000</td>\n",
       "      <td>1.094</td>\n",
       "      <td>2054.678000</td>\n",
       "      <td>2234.0</td>\n",
       "      <td>42073926.40</td>\n",
       "      <td>25.01</td>\n",
       "      <td>1.059</td>\n",
       "    </tr>\n",
       "    <tr>\n",
       "      <th>13</th>\n",
       "      <td>2003</td>\n",
       "      <td>0.567</td>\n",
       "      <td>25.60</td>\n",
       "      <td>1.408897e+07</td>\n",
       "      <td>2395501</td>\n",
       "      <td>8295</td>\n",
       "      <td>1987074</td>\n",
       "      <td>2.920000</td>\n",
       "      <td>25.430</td>\n",
       "      <td>24315772.80</td>\n",
       "      <td>0.621</td>\n",
       "      <td>0.96</td>\n",
       "      <td>4393.717000</td>\n",
       "      <td>1.109</td>\n",
       "      <td>2229.143000</td>\n",
       "      <td>2353.0</td>\n",
       "      <td>44423891.60</td>\n",
       "      <td>25.09</td>\n",
       "      <td>0.975</td>\n",
       "    </tr>\n",
       "    <tr>\n",
       "      <th>14</th>\n",
       "      <td>2004</td>\n",
       "      <td>0.524</td>\n",
       "      <td>25.58</td>\n",
       "      <td>1.658002e+07</td>\n",
       "      <td>2368040</td>\n",
       "      <td>10412</td>\n",
       "      <td>2465710</td>\n",
       "      <td>2.850000</td>\n",
       "      <td>25.350</td>\n",
       "      <td>25143483.20</td>\n",
       "      <td>0.519</td>\n",
       "      <td>0.83</td>\n",
       "      <td>5212.951000</td>\n",
       "      <td>0.874</td>\n",
       "      <td>2490.944000</td>\n",
       "      <td>2478.0</td>\n",
       "      <td>46140080.80</td>\n",
       "      <td>24.91</td>\n",
       "      <td>0.804</td>\n",
       "    </tr>\n",
       "    <tr>\n",
       "      <th>15</th>\n",
       "      <td>2005</td>\n",
       "      <td>0.702</td>\n",
       "      <td>25.54</td>\n",
       "      <td>2.014971e+07</td>\n",
       "      <td>2325920</td>\n",
       "      <td>9201</td>\n",
       "      <td>2140169</td>\n",
       "      <td>3.260000</td>\n",
       "      <td>25.610</td>\n",
       "      <td>26295059.34</td>\n",
       "      <td>0.605</td>\n",
       "      <td>1.10</td>\n",
       "      <td>4779.486000</td>\n",
       "      <td>1.119</td>\n",
       "      <td>2435.069000</td>\n",
       "      <td>2609.0</td>\n",
       "      <td>46194599.00</td>\n",
       "      <td>25.00</td>\n",
       "      <td>1.117</td>\n",
       "    </tr>\n",
       "    <tr>\n",
       "      <th>16</th>\n",
       "      <td>2006</td>\n",
       "      <td>0.416</td>\n",
       "      <td>25.34</td>\n",
       "      <td>1.646188e+07</td>\n",
       "      <td>2312157</td>\n",
       "      <td>11130</td>\n",
       "      <td>2573368</td>\n",
       "      <td>3.200000</td>\n",
       "      <td>25.420</td>\n",
       "      <td>26761223.72</td>\n",
       "      <td>0.471</td>\n",
       "      <td>0.98</td>\n",
       "      <td>5550.740000</td>\n",
       "      <td>0.971</td>\n",
       "      <td>2935.560000</td>\n",
       "      <td>2748.0</td>\n",
       "      <td>45468233.80</td>\n",
       "      <td>24.87</td>\n",
       "      <td>0.817</td>\n",
       "    </tr>\n",
       "    <tr>\n",
       "      <th>17</th>\n",
       "      <td>2007</td>\n",
       "      <td>0.485</td>\n",
       "      <td>25.34</td>\n",
       "      <td>1.710842e+07</td>\n",
       "      <td>2264129</td>\n",
       "      <td>9933</td>\n",
       "      <td>2249011</td>\n",
       "      <td>3.470000</td>\n",
       "      <td>25.540</td>\n",
       "      <td>27533214.28</td>\n",
       "      <td>0.567</td>\n",
       "      <td>1.13</td>\n",
       "      <td>5966.679600</td>\n",
       "      <td>0.847</td>\n",
       "      <td>2604.008000</td>\n",
       "      <td>2894.0</td>\n",
       "      <td>46273200.60</td>\n",
       "      <td>24.80</td>\n",
       "      <td>0.980</td>\n",
       "    </tr>\n",
       "    <tr>\n",
       "      <th>18</th>\n",
       "      <td>2008</td>\n",
       "      <td>0.278</td>\n",
       "      <td>25.23</td>\n",
       "      <td>2.114716e+07</td>\n",
       "      <td>2222224</td>\n",
       "      <td>12586</td>\n",
       "      <td>2796927</td>\n",
       "      <td>3.760736</td>\n",
       "      <td>25.240</td>\n",
       "      <td>19061438.66</td>\n",
       "      <td>0.249</td>\n",
       "      <td>0.90</td>\n",
       "      <td>4948.986900</td>\n",
       "      <td>0.756</td>\n",
       "      <td>2851.920970</td>\n",
       "      <td>3048.0</td>\n",
       "      <td>47635341.60</td>\n",
       "      <td>24.52</td>\n",
       "      <td>0.720</td>\n",
       "    </tr>\n",
       "    <tr>\n",
       "      <th>19</th>\n",
       "      <td>2009</td>\n",
       "      <td>0.586</td>\n",
       "      <td>25.46</td>\n",
       "      <td>2.503527e+07</td>\n",
       "      <td>2135508</td>\n",
       "      <td>11426</td>\n",
       "      <td>2440056</td>\n",
       "      <td>3.670000</td>\n",
       "      <td>25.440</td>\n",
       "      <td>17814689.42</td>\n",
       "      <td>0.723</td>\n",
       "      <td>0.92</td>\n",
       "      <td>6830.199000</td>\n",
       "      <td>1.336</td>\n",
       "      <td>1851.497453</td>\n",
       "      <td>3109.0</td>\n",
       "      <td>47159127.40</td>\n",
       "      <td>24.98</td>\n",
       "      <td>0.941</td>\n",
       "    </tr>\n",
       "    <tr>\n",
       "      <th>20</th>\n",
       "      <td>2010</td>\n",
       "      <td>0.797</td>\n",
       "      <td>25.82</td>\n",
       "      <td>2.008273e+07</td>\n",
       "      <td>2159785</td>\n",
       "      <td>13461</td>\n",
       "      <td>2907265</td>\n",
       "      <td>3.910000</td>\n",
       "      <td>25.680</td>\n",
       "      <td>18749850.68</td>\n",
       "      <td>0.885</td>\n",
       "      <td>1.16</td>\n",
       "      <td>5560.384800</td>\n",
       "      <td>1.259</td>\n",
       "      <td>3324.102551</td>\n",
       "      <td>3171.0</td>\n",
       "      <td>47923605.40</td>\n",
       "      <td>25.20</td>\n",
       "      <td>1.107</td>\n",
       "    </tr>\n",
       "    <tr>\n",
       "      <th>21</th>\n",
       "      <td>2011</td>\n",
       "      <td>0.349</td>\n",
       "      <td>25.41</td>\n",
       "      <td>1.515563e+07</td>\n",
       "      <td>2148775</td>\n",
       "      <td>12568</td>\n",
       "      <td>2700540</td>\n",
       "      <td>5.190000</td>\n",
       "      <td>25.360</td>\n",
       "      <td>16837333.92</td>\n",
       "      <td>0.310</td>\n",
       "      <td>0.93</td>\n",
       "      <td>5650.409900</td>\n",
       "      <td>1.137</td>\n",
       "      <td>2675.419013</td>\n",
       "      <td>3235.0</td>\n",
       "      <td>48496560.20</td>\n",
       "      <td>24.85</td>\n",
       "      <td>0.812</td>\n",
       "    </tr>\n",
       "    <tr>\n",
       "      <th>22</th>\n",
       "      <td>2012</td>\n",
       "      <td>0.443</td>\n",
       "      <td>25.58</td>\n",
       "      <td>2.875408e+07</td>\n",
       "      <td>2120080</td>\n",
       "      <td>14327</td>\n",
       "      <td>3037534</td>\n",
       "      <td>5.680000</td>\n",
       "      <td>25.560</td>\n",
       "      <td>21839277.90</td>\n",
       "      <td>0.494</td>\n",
       "      <td>0.97</td>\n",
       "      <td>6132.006600</td>\n",
       "      <td>1.059</td>\n",
       "      <td>3202.592407</td>\n",
       "      <td>3299.0</td>\n",
       "      <td>48909660.80</td>\n",
       "      <td>25.01</td>\n",
       "      <td>1.052</td>\n",
       "    </tr>\n",
       "    <tr>\n",
       "      <th>23</th>\n",
       "      <td>2013</td>\n",
       "      <td>0.782</td>\n",
       "      <td>25.67</td>\n",
       "      <td>2.838209e+07</td>\n",
       "      <td>2085522</td>\n",
       "      <td>14215</td>\n",
       "      <td>2964538</td>\n",
       "      <td>5.450000</td>\n",
       "      <td>25.500</td>\n",
       "      <td>26672954.44</td>\n",
       "      <td>0.652</td>\n",
       "      <td>1.04</td>\n",
       "      <td>6242.443900</td>\n",
       "      <td>1.208</td>\n",
       "      <td>2870.075248</td>\n",
       "      <td>3365.0</td>\n",
       "      <td>51517400.00</td>\n",
       "      <td>25.20</td>\n",
       "      <td>0.963</td>\n",
       "    </tr>\n",
       "    <tr>\n",
       "      <th>24</th>\n",
       "      <td>2014</td>\n",
       "      <td>0.768</td>\n",
       "      <td>25.67</td>\n",
       "      <td>2.408181e+07</td>\n",
       "      <td>1997827</td>\n",
       "      <td>14036</td>\n",
       "      <td>2804070</td>\n",
       "      <td>4.990000</td>\n",
       "      <td>25.670</td>\n",
       "      <td>29333355.70</td>\n",
       "      <td>0.624</td>\n",
       "      <td>1.02</td>\n",
       "      <td>6383.261800</td>\n",
       "      <td>1.149</td>\n",
       "      <td>3116.690370</td>\n",
       "      <td>3433.0</td>\n",
       "      <td>52287400.00</td>\n",
       "      <td>25.32</td>\n",
       "      <td>1.169</td>\n",
       "    </tr>\n",
       "    <tr>\n",
       "      <th>25</th>\n",
       "      <td>2015</td>\n",
       "      <td>0.789</td>\n",
       "      <td>25.73</td>\n",
       "      <td>2.768805e+07</td>\n",
       "      <td>1977714</td>\n",
       "      <td>13387</td>\n",
       "      <td>2647504</td>\n",
       "      <td>4.720000</td>\n",
       "      <td>25.970</td>\n",
       "      <td>30819319.08</td>\n",
       "      <td>1.093</td>\n",
       "      <td>1.41</td>\n",
       "      <td>6514.975400</td>\n",
       "      <td>1.395</td>\n",
       "      <td>2984.974817</td>\n",
       "      <td>3501.0</td>\n",
       "      <td>53763600.00</td>\n",
       "      <td>25.62</td>\n",
       "      <td>1.600</td>\n",
       "    </tr>\n",
       "    <tr>\n",
       "      <th>26</th>\n",
       "      <td>2016</td>\n",
       "      <td>1.455</td>\n",
       "      <td>26.02</td>\n",
       "      <td>2.539026e+07</td>\n",
       "      <td>1996604</td>\n",
       "      <td>15148</td>\n",
       "      <td>3024466</td>\n",
       "      <td>4.390000</td>\n",
       "      <td>25.840</td>\n",
       "      <td>32195656.46</td>\n",
       "      <td>0.941</td>\n",
       "      <td>1.53</td>\n",
       "      <td>7142.979600</td>\n",
       "      <td>1.494</td>\n",
       "      <td>3000.724450</td>\n",
       "      <td>3571.0</td>\n",
       "      <td>55534600.00</td>\n",
       "      <td>25.65</td>\n",
       "      <td>1.490</td>\n",
       "    </tr>\n",
       "    <tr>\n",
       "      <th>27</th>\n",
       "      <td>2017</td>\n",
       "      <td>0.968</td>\n",
       "      <td>25.59</td>\n",
       "      <td>2.387509e+07</td>\n",
       "      <td>1802417</td>\n",
       "      <td>14894</td>\n",
       "      <td>2684508</td>\n",
       "      <td>4.450000</td>\n",
       "      <td>25.770</td>\n",
       "      <td>30412959.50</td>\n",
       "      <td>0.625</td>\n",
       "      <td>1.40</td>\n",
       "      <td>7346.733200</td>\n",
       "      <td>1.464</td>\n",
       "      <td>3773.406333</td>\n",
       "      <td>3643.0</td>\n",
       "      <td>57602600.00</td>\n",
       "      <td>25.11</td>\n",
       "      <td>1.348</td>\n",
       "    </tr>\n",
       "    <tr>\n",
       "      <th>28</th>\n",
       "      <td>2018</td>\n",
       "      <td>0.881</td>\n",
       "      <td>25.58</td>\n",
       "      <td>2.115871e+07</td>\n",
       "      <td>1863966</td>\n",
       "      <td>19060</td>\n",
       "      <td>3552729</td>\n",
       "      <td>4.300000</td>\n",
       "      <td>25.590</td>\n",
       "      <td>30505116.40</td>\n",
       "      <td>0.972</td>\n",
       "      <td>1.20</td>\n",
       "      <td>7511.223400</td>\n",
       "      <td>0.944</td>\n",
       "      <td>3589.048020</td>\n",
       "      <td>3685.0</td>\n",
       "      <td>58331521.60</td>\n",
       "      <td>25.04</td>\n",
       "      <td>1.170</td>\n",
       "    </tr>\n",
       "    <tr>\n",
       "      <th>29</th>\n",
       "      <td>2019</td>\n",
       "      <td>1.056</td>\n",
       "      <td>25.96</td>\n",
       "      <td>2.515247e+07</td>\n",
       "      <td>1825283</td>\n",
       "      <td>16500</td>\n",
       "      <td>3011745</td>\n",
       "      <td>4.141333</td>\n",
       "      <td>25.940</td>\n",
       "      <td>31020260.04</td>\n",
       "      <td>1.228</td>\n",
       "      <td>1.41</td>\n",
       "      <td>7343.432900</td>\n",
       "      <td>1.362</td>\n",
       "      <td>3921.249773</td>\n",
       "      <td>3781.0</td>\n",
       "      <td>59104449.80</td>\n",
       "      <td>25.42</td>\n",
       "      <td>1.532</td>\n",
       "    </tr>\n",
       "    <tr>\n",
       "      <th>30</th>\n",
       "      <td>2020</td>\n",
       "      <td>1.259</td>\n",
       "      <td>25.84</td>\n",
       "      <td>2.319600e+07</td>\n",
       "      <td>1898239</td>\n",
       "      <td>19493</td>\n",
       "      <td>3700231</td>\n",
       "      <td>3.760736</td>\n",
       "      <td>25.422</td>\n",
       "      <td>30143058.55</td>\n",
       "      <td>1.391</td>\n",
       "      <td>1.57</td>\n",
       "      <td>6214.834575</td>\n",
       "      <td>1.358</td>\n",
       "      <td>2972.621113</td>\n",
       "      <td>3283.0</td>\n",
       "      <td>48806385.65</td>\n",
       "      <td>25.36</td>\n",
       "      <td>1.449</td>\n",
       "    </tr>\n",
       "  </tbody>\n",
       "</table>\n",
       "</div>"
      ],
      "text/plain": [
       "    year  ind_annual_celcsius_change  ind_avg_temp_celsius  ind_prod_lbs  \\\n",
       "0   1990                       0.120                 25.43  1.637104e+07   \n",
       "1   1991                       0.203                 25.32  1.868503e+07   \n",
       "2   1992                       0.264                 25.28  1.225285e+07   \n",
       "3   1993                       0.206                 25.17  1.483523e+07   \n",
       "4   1994                       0.267                 25.25  1.180933e+07   \n",
       "5   1995                       0.344                 25.31  1.006154e+07   \n",
       "6   1996                       0.387                 25.26  1.808528e+07   \n",
       "7   1997                       0.397                 25.52  1.676571e+07   \n",
       "8   1998                       0.997                 25.89  1.605110e+07   \n",
       "9   1999                       0.265                 25.13  1.442555e+07   \n",
       "10  2000                       0.271                 25.35  1.537193e+07   \n",
       "11  2001                       0.515                 25.47  1.503338e+07   \n",
       "12  2002                       0.608                 25.79  1.480903e+07   \n",
       "13  2003                       0.567                 25.60  1.408897e+07   \n",
       "14  2004                       0.524                 25.58  1.658002e+07   \n",
       "15  2005                       0.702                 25.54  2.014971e+07   \n",
       "16  2006                       0.416                 25.34  1.646188e+07   \n",
       "17  2007                       0.485                 25.34  1.710842e+07   \n",
       "18  2008                       0.278                 25.23  2.114716e+07   \n",
       "19  2009                       0.586                 25.46  2.503527e+07   \n",
       "20  2010                       0.797                 25.82  2.008273e+07   \n",
       "21  2011                       0.349                 25.41  1.515563e+07   \n",
       "22  2012                       0.443                 25.58  2.875408e+07   \n",
       "23  2013                       0.782                 25.67  2.838209e+07   \n",
       "24  2014                       0.768                 25.67  2.408181e+07   \n",
       "25  2015                       0.789                 25.73  2.768805e+07   \n",
       "26  2016                       1.455                 26.02  2.539026e+07   \n",
       "27  2017                       0.968                 25.59  2.387509e+07   \n",
       "28  2018                       0.881                 25.58  2.115871e+07   \n",
       "29  2019                       1.056                 25.96  2.515247e+07   \n",
       "30  2020                       1.259                 25.84  2.319600e+07   \n",
       "\n",
       "    b_hectares_harvested  b_hectograms_per_hectare_yield  b_tonnes_produced  \\\n",
       "0                2908960                            5036            1464856   \n",
       "1                2763440                            5502            1520382   \n",
       "2                2500320                            5177            1294373   \n",
       "3                2259330                            5660            1278759   \n",
       "4                2097650                            6232            1307289   \n",
       "5                1869980                            4974             930135   \n",
       "6                1920250                            7130            1369196   \n",
       "7                1988190                            6179            1228513   \n",
       "8                2070410                            8160            1689366   \n",
       "9                2222925                            7341            1631852   \n",
       "10               2267968                            8393            1903562   \n",
       "11               2336031                            7789            1819569   \n",
       "12               2370891                           11011            2610524   \n",
       "13               2395501                            8295            1987074   \n",
       "14               2368040                           10412            2465710   \n",
       "15               2325920                            9201            2140169   \n",
       "16               2312157                           11130            2573368   \n",
       "17               2264129                            9933            2249011   \n",
       "18               2222224                           12586            2796927   \n",
       "19               2135508                           11426            2440056   \n",
       "20               2159785                           13461            2907265   \n",
       "21               2148775                           12568            2700540   \n",
       "22               2120080                           14327            3037534   \n",
       "23               2085522                           14215            2964538   \n",
       "24               1997827                           14036            2804070   \n",
       "25               1977714                           13387            2647504   \n",
       "26               1996604                           15148            3024466   \n",
       "27               1802417                           14894            2684508   \n",
       "28               1863966                           19060            3552729   \n",
       "29               1825283                           16500            3011745   \n",
       "30               1898239                           19493            3700231   \n",
       "\n",
       "    usa_retail_price  b_annual_avg_temp  col_production_lbs  \\\n",
       "0           2.970000             25.120         31671200.00   \n",
       "1           2.810000             25.050         39556873.40   \n",
       "2           2.580000             24.910         32883131.60   \n",
       "3           2.470000             25.020         25129328.40   \n",
       "4           3.400000             25.140         28520800.00   \n",
       "5           4.040000             25.270         28463639.60   \n",
       "6           3.430000             25.050         23713470.00   \n",
       "7           4.110000             25.280         26669491.20   \n",
       "8           3.770000             25.680         23909516.40   \n",
       "9           3.430000             25.150         20926940.98   \n",
       "10          3.450000             25.090         23142574.40   \n",
       "11          3.090000             25.360         26290622.60   \n",
       "12          2.920000             25.630         25766488.00   \n",
       "13          2.920000             25.430         24315772.80   \n",
       "14          2.850000             25.350         25143483.20   \n",
       "15          3.260000             25.610         26295059.34   \n",
       "16          3.200000             25.420         26761223.72   \n",
       "17          3.470000             25.540         27533214.28   \n",
       "18          3.760736             25.240         19061438.66   \n",
       "19          3.670000             25.440         17814689.42   \n",
       "20          3.910000             25.680         18749850.68   \n",
       "21          5.190000             25.360         16837333.92   \n",
       "22          5.680000             25.560         21839277.90   \n",
       "23          5.450000             25.500         26672954.44   \n",
       "24          4.990000             25.670         29333355.70   \n",
       "25          4.720000             25.970         30819319.08   \n",
       "26          4.390000             25.840         32195656.46   \n",
       "27          4.450000             25.770         30412959.50   \n",
       "28          4.300000             25.590         30505116.40   \n",
       "29          4.141333             25.940         31020260.04   \n",
       "30          3.760736             25.422         30143058.55   \n",
       "\n",
       "    col_annual_celsius_change  global_change_in_celsius       e_prod  \\\n",
       "0                       0.258                      0.66  2909.451000   \n",
       "1                       0.347                      0.53  2924.664000   \n",
       "2                       0.532                      0.25  1825.171000   \n",
       "3                       0.157                      0.36  2967.004000   \n",
       "4                       0.162                      0.49  2762.730000   \n",
       "5                       0.431                      0.78  3165.322000   \n",
       "6                       0.057                      0.35  3407.442000   \n",
       "7                       0.431                      0.65  3056.864000   \n",
       "8                       0.848                      0.99  2927.725000   \n",
       "9                      -0.105                      0.79  3784.051000   \n",
       "10                     -0.144                      0.63  3115.149000   \n",
       "11                      0.344                      0.86  4044.240000   \n",
       "12                      0.567                      0.97  4093.902000   \n",
       "13                      0.621                      0.96  4393.717000   \n",
       "14                      0.519                      0.83  5212.951000   \n",
       "15                      0.605                      1.10  4779.486000   \n",
       "16                      0.471                      0.98  5550.740000   \n",
       "17                      0.567                      1.13  5966.679600   \n",
       "18                      0.249                      0.90  4948.986900   \n",
       "19                      0.723                      0.92  6830.199000   \n",
       "20                      0.885                      1.16  5560.384800   \n",
       "21                      0.310                      0.93  5650.409900   \n",
       "22                      0.494                      0.97  6132.006600   \n",
       "23                      0.652                      1.04  6242.443900   \n",
       "24                      0.624                      1.02  6383.261800   \n",
       "25                      1.093                      1.41  6514.975400   \n",
       "26                      0.941                      1.53  7142.979600   \n",
       "27                      0.625                      1.40  7346.733200   \n",
       "28                      0.972                      1.20  7511.223400   \n",
       "29                      1.228                      1.41  7343.432900   \n",
       "30                      1.391                      1.57  6214.834575   \n",
       "\n",
       "    e_temp_change     e_export  e_consumption  us_consumption_lbs  \\\n",
       "0           0.244  1074.101000         1200.0         40254757.40   \n",
       "1           0.244   841.329000         1264.0         41054596.00   \n",
       "2           0.244   734.461000         1331.0         40238996.60   \n",
       "3           0.244  1166.778000         1402.0         42277701.40   \n",
       "4           0.599  1475.325000         1476.0         38117428.80   \n",
       "5           0.815  1276.118000         1555.0         38198316.20   \n",
       "6           0.775  1838.231000         1637.0         39729800.00   \n",
       "7           0.713  1979.733000         1724.0         39149983.40   \n",
       "8           0.806  1917.061000         1816.0         40928357.80   \n",
       "9           0.314  1818.087000         1912.0         42590741.60   \n",
       "10          0.572  1981.856000         2014.0         41240240.80   \n",
       "11          0.732  1376.062000         2121.0         43018038.80   \n",
       "12          1.094  2054.678000         2234.0         42073926.40   \n",
       "13          1.109  2229.143000         2353.0         44423891.60   \n",
       "14          0.874  2490.944000         2478.0         46140080.80   \n",
       "15          1.119  2435.069000         2609.0         46194599.00   \n",
       "16          0.971  2935.560000         2748.0         45468233.80   \n",
       "17          0.847  2604.008000         2894.0         46273200.60   \n",
       "18          0.756  2851.920970         3048.0         47635341.60   \n",
       "19          1.336  1851.497453         3109.0         47159127.40   \n",
       "20          1.259  3324.102551         3171.0         47923605.40   \n",
       "21          1.137  2675.419013         3235.0         48496560.20   \n",
       "22          1.059  3202.592407         3299.0         48909660.80   \n",
       "23          1.208  2870.075248         3365.0         51517400.00   \n",
       "24          1.149  3116.690370         3433.0         52287400.00   \n",
       "25          1.395  2984.974817         3501.0         53763600.00   \n",
       "26          1.494  3000.724450         3571.0         55534600.00   \n",
       "27          1.464  3773.406333         3643.0         57602600.00   \n",
       "28          0.944  3589.048020         3685.0         58331521.60   \n",
       "29          1.362  3921.249773         3781.0         59104449.80   \n",
       "30          1.358  2972.621113         3283.0         48806385.65   \n",
       "\n",
       "    col_avg_temp_celsius  b_annual_celsius_change  \n",
       "0                  24.77                    0.440  \n",
       "1                  24.82                    0.470  \n",
       "2                  24.95                    0.381  \n",
       "3                  24.80                    0.522  \n",
       "4                  24.77                    0.612  \n",
       "5                  24.97                    0.781  \n",
       "6                  24.63                    0.506  \n",
       "7                  25.01                    0.694  \n",
       "8                  25.30                    1.282  \n",
       "9                  24.46                    0.602  \n",
       "10                 24.48                    0.552  \n",
       "11                 24.88                    0.759  \n",
       "12                 25.01                    1.059  \n",
       "13                 25.09                    0.975  \n",
       "14                 24.91                    0.804  \n",
       "15                 25.00                    1.117  \n",
       "16                 24.87                    0.817  \n",
       "17                 24.80                    0.980  \n",
       "18                 24.52                    0.720  \n",
       "19                 24.98                    0.941  \n",
       "20                 25.20                    1.107  \n",
       "21                 24.85                    0.812  \n",
       "22                 25.01                    1.052  \n",
       "23                 25.20                    0.963  \n",
       "24                 25.32                    1.169  \n",
       "25                 25.62                    1.600  \n",
       "26                 25.65                    1.490  \n",
       "27                 25.11                    1.348  \n",
       "28                 25.04                    1.170  \n",
       "29                 25.42                    1.532  \n",
       "30                 25.36                    1.449  "
      ]
     },
     "execution_count": 24,
     "metadata": {},
     "output_type": "execute_result"
    }
   ],
   "source": [
    "cleaned_merged_df2"
   ]
  },
  {
   "cell_type": "code",
   "execution_count": 25,
   "id": "b8f65b01-7403-49d2-8408-83219821ad93",
   "metadata": {},
   "outputs": [],
   "source": [
    "# cleaned_merged_df2.to_csv('data/cleaned_merged_df2.csv')"
   ]
  },
  {
   "cell_type": "code",
   "execution_count": null,
   "id": "eafd1bb1-02f6-413b-8c03-3e9821986ee1",
   "metadata": {},
   "outputs": [],
   "source": []
  },
  {
   "cell_type": "code",
   "execution_count": 26,
   "id": "71b7d13d-0937-4e5b-a4c3-fe8a217d3928",
   "metadata": {},
   "outputs": [],
   "source": [
    "df2 = pd.read_csv('data/cleaned_merged_df3.csv')"
   ]
  },
  {
   "cell_type": "code",
   "execution_count": null,
   "id": "376a33d8-c982-4152-b3a5-b8b25b403798",
   "metadata": {},
   "outputs": [],
   "source": []
  },
  {
   "cell_type": "code",
   "execution_count": 27,
   "id": "449aa76b-1d2e-4542-863a-ffb3bd1af435",
   "metadata": {},
   "outputs": [],
   "source": [
    "b_prod = pd.read_csv('data/production.csv')"
   ]
  },
  {
   "cell_type": "code",
   "execution_count": 28,
   "id": "76dc2e13-6f28-4491-949c-b0874aadb467",
   "metadata": {},
   "outputs": [],
   "source": [
    "b_prod.drop(b_prod.columns[[0]], axis=1, inplace=True)"
   ]
  },
  {
   "cell_type": "code",
   "execution_count": 29,
   "id": "96e09e30-9f6f-4945-b044-3eaa959f65af",
   "metadata": {},
   "outputs": [],
   "source": [
    "b_prod.drop(b_prod.index[0:2], inplace=True)"
   ]
  },
  {
   "cell_type": "code",
   "execution_count": 30,
   "id": "8bdc9c5c-eb38-47c6-a8cc-bba7dae52f2b",
   "metadata": {},
   "outputs": [],
   "source": [
    "b_prod.drop(b_prod.index[1:56], inplace=True)"
   ]
  },
  {
   "cell_type": "code",
   "execution_count": 31,
   "id": "a29f6585-745a-43ed-818e-cc732b641a60",
   "metadata": {},
   "outputs": [],
   "source": [
    "df = b_prod.transpose()"
   ]
  },
  {
   "cell_type": "code",
   "execution_count": 32,
   "id": "ea3a9886-eb33-4ce1-933c-f1c39c48af11",
   "metadata": {},
   "outputs": [],
   "source": [
    "new_header = df.iloc[0]\n",
    "df = df[1:]\n",
    "df.columns = new_header"
   ]
  },
  {
   "cell_type": "code",
   "execution_count": 33,
   "id": "be60dfca-82fe-4025-96c2-1151f58d2297",
   "metadata": {},
   "outputs": [],
   "source": [
    "df = df.reset_index()"
   ]
  },
  {
   "cell_type": "code",
   "execution_count": 34,
   "id": "8f1046c8-6598-454e-8577-9735c9c473d0",
   "metadata": {},
   "outputs": [],
   "source": [
    "df.rename(columns={'index': 'year', 'Brazil': 'b_prod_60kg_bags'}, inplace=True)"
   ]
  },
  {
   "cell_type": "code",
   "execution_count": 35,
   "id": "499ef749-fd61-45d3-b0c7-2b90ac035c8c",
   "metadata": {},
   "outputs": [
    {
     "data": {
      "text/plain": [
       "Crop year\n",
       "year                object\n",
       "b_prod_60kg_bags    object\n",
       "dtype: object"
      ]
     },
     "execution_count": 35,
     "metadata": {},
     "output_type": "execute_result"
    }
   ],
   "source": [
    "df.dtypes"
   ]
  },
  {
   "cell_type": "code",
   "execution_count": 36,
   "id": "6ad378bd-14f8-461e-b399-eab760686f10",
   "metadata": {},
   "outputs": [],
   "source": [
    "df['b_prod_lbs'] = [(each*1000)*2.2 for each in df['b_prod_60kg_bags']]"
   ]
  },
  {
   "cell_type": "code",
   "execution_count": 37,
   "id": "e3f8af0e-0eb3-44a1-8683-e414dc0f50b6",
   "metadata": {},
   "outputs": [],
   "source": [
    "df.drop(df.columns[[1]], axis=1, inplace=True)"
   ]
  },
  {
   "cell_type": "code",
   "execution_count": 38,
   "id": "4adb2cb7-f030-49dd-afa6-e1ac556db5a3",
   "metadata": {},
   "outputs": [],
   "source": [
    "df['year'] = df['year'].str[:-3]"
   ]
  },
  {
   "cell_type": "code",
   "execution_count": 39,
   "id": "b9881858-55f0-4bb2-a712-4935a5026834",
   "metadata": {},
   "outputs": [],
   "source": [
    "df['year'] = df['year'].astype(int)"
   ]
  },
  {
   "cell_type": "code",
   "execution_count": 40,
   "id": "0188137b-ec93-407f-97b2-10af6ca4d6de",
   "metadata": {},
   "outputs": [],
   "source": [
    "cleaned_merged_df4 = pd.merge(df, df2, on='year')"
   ]
  },
  {
   "cell_type": "code",
   "execution_count": 41,
   "id": "312d588d-1500-4b4c-b5d1-113dd7b8f0e6",
   "metadata": {},
   "outputs": [],
   "source": [
    "cleaned_merged_df4.drop(cleaned_merged_df4.columns[[2, 3]], axis=1, inplace=True)"
   ]
  },
  {
   "cell_type": "code",
   "execution_count": 42,
   "id": "e4f033dc-27d7-4e60-aec1-f91bef1216ab",
   "metadata": {},
   "outputs": [
    {
     "data": {
      "text/html": [
       "<div>\n",
       "<style scoped>\n",
       "    .dataframe tbody tr th:only-of-type {\n",
       "        vertical-align: middle;\n",
       "    }\n",
       "\n",
       "    .dataframe tbody tr th {\n",
       "        vertical-align: top;\n",
       "    }\n",
       "\n",
       "    .dataframe thead th {\n",
       "        text-align: right;\n",
       "    }\n",
       "</style>\n",
       "<table border=\"1\" class=\"dataframe\">\n",
       "  <thead>\n",
       "    <tr style=\"text-align: right;\">\n",
       "      <th></th>\n",
       "      <th>year</th>\n",
       "      <th>b_prod_lbs</th>\n",
       "      <th>ind_annual_celcsius_change</th>\n",
       "      <th>ind_avg_temp_celsius</th>\n",
       "      <th>ind_prod_lbs</th>\n",
       "      <th>b_hectares_harvested</th>\n",
       "      <th>b_hectograms_per_hectare_yield</th>\n",
       "      <th>b_tonnes_produced</th>\n",
       "      <th>usa_retail_price</th>\n",
       "      <th>b_annual_avg_temp</th>\n",
       "      <th>...</th>\n",
       "      <th>col_annual_celsius_change</th>\n",
       "      <th>global_change_in_celsius</th>\n",
       "      <th>e_prod</th>\n",
       "      <th>e_temp_change</th>\n",
       "      <th>e_export</th>\n",
       "      <th>e_consumption</th>\n",
       "      <th>us_consumption_lbs</th>\n",
       "      <th>col_avg_temp_celsius</th>\n",
       "      <th>b_annual_celsius_change</th>\n",
       "      <th>e_avg_temp</th>\n",
       "    </tr>\n",
       "  </thead>\n",
       "  <tbody>\n",
       "    <tr>\n",
       "      <th>0</th>\n",
       "      <td>1990</td>\n",
       "      <td>60028382.92</td>\n",
       "      <td>0.120</td>\n",
       "      <td>25.43</td>\n",
       "      <td>16371042.6</td>\n",
       "      <td>2908960</td>\n",
       "      <td>5036</td>\n",
       "      <td>1464856</td>\n",
       "      <td>2.97</td>\n",
       "      <td>25.12</td>\n",
       "      <td>...</td>\n",
       "      <td>0.258</td>\n",
       "      <td>0.66</td>\n",
       "      <td>2909.451</td>\n",
       "      <td>0.244</td>\n",
       "      <td>1074.101</td>\n",
       "      <td>1200.0</td>\n",
       "      <td>40254757.4</td>\n",
       "      <td>24.77</td>\n",
       "      <td>0.440</td>\n",
       "      <td>23.04</td>\n",
       "    </tr>\n",
       "    <tr>\n",
       "      <th>1</th>\n",
       "      <td>1991</td>\n",
       "      <td>60045685.48</td>\n",
       "      <td>0.203</td>\n",
       "      <td>25.32</td>\n",
       "      <td>18685031.2</td>\n",
       "      <td>2763440</td>\n",
       "      <td>5502</td>\n",
       "      <td>1520382</td>\n",
       "      <td>2.81</td>\n",
       "      <td>25.05</td>\n",
       "      <td>...</td>\n",
       "      <td>0.347</td>\n",
       "      <td>0.53</td>\n",
       "      <td>2924.664</td>\n",
       "      <td>0.244</td>\n",
       "      <td>841.329</td>\n",
       "      <td>1264.0</td>\n",
       "      <td>41054596.0</td>\n",
       "      <td>24.82</td>\n",
       "      <td>0.470</td>\n",
       "      <td>23.13</td>\n",
       "    </tr>\n",
       "    <tr>\n",
       "      <th>2</th>\n",
       "      <td>1992</td>\n",
       "      <td>76127379.24</td>\n",
       "      <td>0.264</td>\n",
       "      <td>25.28</td>\n",
       "      <td>12252851.6</td>\n",
       "      <td>2500320</td>\n",
       "      <td>5177</td>\n",
       "      <td>1294373</td>\n",
       "      <td>2.58</td>\n",
       "      <td>24.91</td>\n",
       "      <td>...</td>\n",
       "      <td>0.532</td>\n",
       "      <td>0.25</td>\n",
       "      <td>1825.171</td>\n",
       "      <td>0.244</td>\n",
       "      <td>734.461</td>\n",
       "      <td>1331.0</td>\n",
       "      <td>40238996.6</td>\n",
       "      <td>24.95</td>\n",
       "      <td>0.381</td>\n",
       "      <td>22.79</td>\n",
       "    </tr>\n",
       "    <tr>\n",
       "      <th>3</th>\n",
       "      <td>1993</td>\n",
       "      <td>61967352.92</td>\n",
       "      <td>0.206</td>\n",
       "      <td>25.17</td>\n",
       "      <td>14835233.6</td>\n",
       "      <td>2259330</td>\n",
       "      <td>5660</td>\n",
       "      <td>1278759</td>\n",
       "      <td>2.47</td>\n",
       "      <td>25.02</td>\n",
       "      <td>...</td>\n",
       "      <td>0.157</td>\n",
       "      <td>0.36</td>\n",
       "      <td>2967.004</td>\n",
       "      <td>0.244</td>\n",
       "      <td>1166.778</td>\n",
       "      <td>1402.0</td>\n",
       "      <td>42277701.4</td>\n",
       "      <td>24.80</td>\n",
       "      <td>0.522</td>\n",
       "      <td>22.82</td>\n",
       "    </tr>\n",
       "    <tr>\n",
       "      <th>4</th>\n",
       "      <td>1994</td>\n",
       "      <td>62022503.40</td>\n",
       "      <td>0.267</td>\n",
       "      <td>25.25</td>\n",
       "      <td>11809331.6</td>\n",
       "      <td>2097650</td>\n",
       "      <td>6232</td>\n",
       "      <td>1307289</td>\n",
       "      <td>3.40</td>\n",
       "      <td>25.14</td>\n",
       "      <td>...</td>\n",
       "      <td>0.162</td>\n",
       "      <td>0.49</td>\n",
       "      <td>2762.730</td>\n",
       "      <td>0.599</td>\n",
       "      <td>1475.325</td>\n",
       "      <td>1476.0</td>\n",
       "      <td>38117428.8</td>\n",
       "      <td>24.77</td>\n",
       "      <td>0.612</td>\n",
       "      <td>22.91</td>\n",
       "    </tr>\n",
       "  </tbody>\n",
       "</table>\n",
       "<p>5 rows × 21 columns</p>\n",
       "</div>"
      ],
      "text/plain": [
       "   year   b_prod_lbs  ind_annual_celcsius_change  ind_avg_temp_celsius  \\\n",
       "0  1990  60028382.92                       0.120                 25.43   \n",
       "1  1991  60045685.48                       0.203                 25.32   \n",
       "2  1992  76127379.24                       0.264                 25.28   \n",
       "3  1993  61967352.92                       0.206                 25.17   \n",
       "4  1994  62022503.40                       0.267                 25.25   \n",
       "\n",
       "   ind_prod_lbs  b_hectares_harvested  b_hectograms_per_hectare_yield  \\\n",
       "0    16371042.6               2908960                            5036   \n",
       "1    18685031.2               2763440                            5502   \n",
       "2    12252851.6               2500320                            5177   \n",
       "3    14835233.6               2259330                            5660   \n",
       "4    11809331.6               2097650                            6232   \n",
       "\n",
       "   b_tonnes_produced  usa_retail_price  b_annual_avg_temp  ...  \\\n",
       "0            1464856              2.97              25.12  ...   \n",
       "1            1520382              2.81              25.05  ...   \n",
       "2            1294373              2.58              24.91  ...   \n",
       "3            1278759              2.47              25.02  ...   \n",
       "4            1307289              3.40              25.14  ...   \n",
       "\n",
       "   col_annual_celsius_change  global_change_in_celsius    e_prod  \\\n",
       "0                      0.258                      0.66  2909.451   \n",
       "1                      0.347                      0.53  2924.664   \n",
       "2                      0.532                      0.25  1825.171   \n",
       "3                      0.157                      0.36  2967.004   \n",
       "4                      0.162                      0.49  2762.730   \n",
       "\n",
       "   e_temp_change  e_export  e_consumption  us_consumption_lbs  \\\n",
       "0          0.244  1074.101         1200.0          40254757.4   \n",
       "1          0.244   841.329         1264.0          41054596.0   \n",
       "2          0.244   734.461         1331.0          40238996.6   \n",
       "3          0.244  1166.778         1402.0          42277701.4   \n",
       "4          0.599  1475.325         1476.0          38117428.8   \n",
       "\n",
       "   col_avg_temp_celsius  b_annual_celsius_change  e_avg_temp  \n",
       "0                 24.77                    0.440       23.04  \n",
       "1                 24.82                    0.470       23.13  \n",
       "2                 24.95                    0.381       22.79  \n",
       "3                 24.80                    0.522       22.82  \n",
       "4                 24.77                    0.612       22.91  \n",
       "\n",
       "[5 rows x 21 columns]"
      ]
     },
     "execution_count": 42,
     "metadata": {},
     "output_type": "execute_result"
    }
   ],
   "source": [
    "cleaned_merged_df4.head()"
   ]
  },
  {
   "cell_type": "code",
   "execution_count": 43,
   "id": "79f9df92-fc4f-418f-a48e-c411719c237f",
   "metadata": {},
   "outputs": [],
   "source": [
    "# cleaned_merged_df4.to_csv('data/cleaned_merged_df4.csv')"
   ]
  },
  {
   "cell_type": "markdown",
   "id": "69878bf4-e8d0-4ce2-928b-9dd94f5ec700",
   "metadata": {},
   "source": [
    "# Modeling"
   ]
  },
  {
   "cell_type": "markdown",
   "id": "a1cfc605-7695-45ef-9fbc-6cab3b9d3060",
   "metadata": {},
   "source": [
    "### Loading Data"
   ]
  },
  {
   "cell_type": "code",
   "execution_count": 44,
   "id": "98fe449e-c266-46ad-a0a6-13fbaaf96ee8",
   "metadata": {},
   "outputs": [],
   "source": [
    "df = pd.read_csv('data/cleaned_merged_df4.csv')"
   ]
  },
  {
   "cell_type": "code",
   "execution_count": 45,
   "id": "a2181417-a801-4848-9828-3779b2f7ab28",
   "metadata": {},
   "outputs": [],
   "source": [
    "df.drop(df.columns[[0]], axis=1, inplace=True)"
   ]
  },
  {
   "cell_type": "code",
   "execution_count": 46,
   "id": "a2b3d631-43e0-4585-8371-0c162df6e465",
   "metadata": {},
   "outputs": [
    {
     "data": {
      "text/html": [
       "<div>\n",
       "<style scoped>\n",
       "    .dataframe tbody tr th:only-of-type {\n",
       "        vertical-align: middle;\n",
       "    }\n",
       "\n",
       "    .dataframe tbody tr th {\n",
       "        vertical-align: top;\n",
       "    }\n",
       "\n",
       "    .dataframe thead th {\n",
       "        text-align: right;\n",
       "    }\n",
       "</style>\n",
       "<table border=\"1\" class=\"dataframe\">\n",
       "  <thead>\n",
       "    <tr style=\"text-align: right;\">\n",
       "      <th></th>\n",
       "      <th>year</th>\n",
       "      <th>b_prod_lbs</th>\n",
       "      <th>ind_annual_celcsius_change</th>\n",
       "      <th>ind_avg_temp_celsius</th>\n",
       "      <th>ind_prod_lbs</th>\n",
       "      <th>b_hectares_harvested</th>\n",
       "      <th>b_hectograms_per_hectare_yield</th>\n",
       "      <th>b_tonnes_produced</th>\n",
       "      <th>usa_retail_price</th>\n",
       "      <th>b_annual_avg_temp</th>\n",
       "      <th>...</th>\n",
       "      <th>col_annual_celsius_change</th>\n",
       "      <th>global_change_in_celsius</th>\n",
       "      <th>e_prod</th>\n",
       "      <th>e_temp_change</th>\n",
       "      <th>e_export</th>\n",
       "      <th>e_consumption</th>\n",
       "      <th>us_consumption_lbs</th>\n",
       "      <th>col_avg_temp_celsius</th>\n",
       "      <th>b_annual_celsius_change</th>\n",
       "      <th>e_avg_temp</th>\n",
       "    </tr>\n",
       "  </thead>\n",
       "  <tbody>\n",
       "    <tr>\n",
       "      <th>27</th>\n",
       "      <td>2017</td>\n",
       "      <td>1.160276e+08</td>\n",
       "      <td>0.968</td>\n",
       "      <td>25.59</td>\n",
       "      <td>23875093.66</td>\n",
       "      <td>1802417</td>\n",
       "      <td>14894</td>\n",
       "      <td>2684508</td>\n",
       "      <td>4.450000</td>\n",
       "      <td>25.77</td>\n",
       "      <td>...</td>\n",
       "      <td>0.625</td>\n",
       "      <td>1.40</td>\n",
       "      <td>7346.7332</td>\n",
       "      <td>1.464</td>\n",
       "      <td>3773.406333</td>\n",
       "      <td>3643.0</td>\n",
       "      <td>57602600.0</td>\n",
       "      <td>25.11</td>\n",
       "      <td>1.348</td>\n",
       "      <td>23.65</td>\n",
       "    </tr>\n",
       "    <tr>\n",
       "      <th>28</th>\n",
       "      <td>2018</td>\n",
       "      <td>1.432878e+08</td>\n",
       "      <td>0.881</td>\n",
       "      <td>25.58</td>\n",
       "      <td>21158707.24</td>\n",
       "      <td>1863966</td>\n",
       "      <td>19060</td>\n",
       "      <td>3552729</td>\n",
       "      <td>4.300000</td>\n",
       "      <td>25.59</td>\n",
       "      <td>...</td>\n",
       "      <td>0.972</td>\n",
       "      <td>1.20</td>\n",
       "      <td>7511.2234</td>\n",
       "      <td>0.944</td>\n",
       "      <td>3589.048020</td>\n",
       "      <td>3685.0</td>\n",
       "      <td>58331521.6</td>\n",
       "      <td>25.04</td>\n",
       "      <td>1.170</td>\n",
       "      <td>23.27</td>\n",
       "    </tr>\n",
       "    <tr>\n",
       "      <th>29</th>\n",
       "      <td>2019</td>\n",
       "      <td>1.280636e+08</td>\n",
       "      <td>1.056</td>\n",
       "      <td>25.96</td>\n",
       "      <td>25152473.50</td>\n",
       "      <td>1825283</td>\n",
       "      <td>16500</td>\n",
       "      <td>3011745</td>\n",
       "      <td>4.141333</td>\n",
       "      <td>25.94</td>\n",
       "      <td>...</td>\n",
       "      <td>1.228</td>\n",
       "      <td>1.41</td>\n",
       "      <td>7343.4329</td>\n",
       "      <td>1.362</td>\n",
       "      <td>3921.249773</td>\n",
       "      <td>3781.0</td>\n",
       "      <td>59104449.8</td>\n",
       "      <td>25.42</td>\n",
       "      <td>1.532</td>\n",
       "      <td>23.41</td>\n",
       "    </tr>\n",
       "  </tbody>\n",
       "</table>\n",
       "<p>3 rows × 21 columns</p>\n",
       "</div>"
      ],
      "text/plain": [
       "    year    b_prod_lbs  ind_annual_celcsius_change  ind_avg_temp_celsius  \\\n",
       "27  2017  1.160276e+08                       0.968                 25.59   \n",
       "28  2018  1.432878e+08                       0.881                 25.58   \n",
       "29  2019  1.280636e+08                       1.056                 25.96   \n",
       "\n",
       "    ind_prod_lbs  b_hectares_harvested  b_hectograms_per_hectare_yield  \\\n",
       "27   23875093.66               1802417                           14894   \n",
       "28   21158707.24               1863966                           19060   \n",
       "29   25152473.50               1825283                           16500   \n",
       "\n",
       "    b_tonnes_produced  usa_retail_price  b_annual_avg_temp  ...  \\\n",
       "27            2684508          4.450000              25.77  ...   \n",
       "28            3552729          4.300000              25.59  ...   \n",
       "29            3011745          4.141333              25.94  ...   \n",
       "\n",
       "    col_annual_celsius_change  global_change_in_celsius     e_prod  \\\n",
       "27                      0.625                      1.40  7346.7332   \n",
       "28                      0.972                      1.20  7511.2234   \n",
       "29                      1.228                      1.41  7343.4329   \n",
       "\n",
       "    e_temp_change     e_export  e_consumption  us_consumption_lbs  \\\n",
       "27          1.464  3773.406333         3643.0          57602600.0   \n",
       "28          0.944  3589.048020         3685.0          58331521.6   \n",
       "29          1.362  3921.249773         3781.0          59104449.8   \n",
       "\n",
       "    col_avg_temp_celsius  b_annual_celsius_change  e_avg_temp  \n",
       "27                 25.11                    1.348       23.65  \n",
       "28                 25.04                    1.170       23.27  \n",
       "29                 25.42                    1.532       23.41  \n",
       "\n",
       "[3 rows x 21 columns]"
      ]
     },
     "execution_count": 46,
     "metadata": {},
     "output_type": "execute_result"
    }
   ],
   "source": [
    "df.tail(3)"
   ]
  },
  {
   "cell_type": "markdown",
   "id": "9c47d19f-9d2e-497c-988e-b579d0715123",
   "metadata": {},
   "source": [
    "### Train/Test Split for Temp (all 4 countries)"
   ]
  },
  {
   "cell_type": "code",
   "execution_count": 47,
   "id": "e61e1d43-98fb-42d6-b20d-0c08223640e4",
   "metadata": {},
   "outputs": [],
   "source": [
    "temp_features = [\n",
    "    'ind_avg_temp_celsius', \n",
    "    'e_avg_temp', \n",
    "    'col_avg_temp_celsius',\n",
    "    'b_annual_avg_temp'\n",
    "]"
   ]
  },
  {
   "cell_type": "code",
   "execution_count": 48,
   "id": "e628ed3f-d820-4e7f-875f-a8d8091bc06b",
   "metadata": {},
   "outputs": [
    {
     "data": {
      "text/plain": [
       "ind_avg_temp_celsius    0\n",
       "e_avg_temp              0\n",
       "col_avg_temp_celsius    0\n",
       "b_annual_avg_temp       0\n",
       "dtype: int64"
      ]
     },
     "execution_count": 48,
     "metadata": {},
     "output_type": "execute_result"
    }
   ],
   "source": [
    "df[temp_features].isnull().sum()"
   ]
  },
  {
   "cell_type": "code",
   "execution_count": 49,
   "id": "d03647a5-bf02-4b5d-8bf5-8d18b7e12371",
   "metadata": {},
   "outputs": [],
   "source": [
    "X = df[temp_features]\n",
    "y = df['usa_retail_price']\n",
    "\n",
    "X_train, X_test, y_train, y_test = train_test_split(X, y, random_state=42)"
   ]
  },
  {
   "cell_type": "markdown",
   "id": "0104904d-df3f-4040-9154-68fca4f3b58f",
   "metadata": {},
   "source": [
    "### Scaling"
   ]
  },
  {
   "cell_type": "code",
   "execution_count": 50,
   "id": "b2733e1b-534c-4dc8-8f15-92d9b04700d1",
   "metadata": {},
   "outputs": [
    {
     "name": "stdout",
     "output_type": "stream",
     "text": [
      "StandardScaler()\n"
     ]
    }
   ],
   "source": [
    "ss = StandardScaler()\n",
    "print(ss.fit(X_train))"
   ]
  },
  {
   "cell_type": "code",
   "execution_count": 51,
   "id": "9edc6358-7608-4e92-9d65-842c115fc7f2",
   "metadata": {},
   "outputs": [
    {
     "name": "stdout",
     "output_type": "stream",
     "text": [
      "StandardScaler()\n"
     ]
    }
   ],
   "source": [
    "ss = StandardScaler()\n",
    "print(ss.fit(X_test))"
   ]
  },
  {
   "cell_type": "markdown",
   "id": "1dc2b9c7-bb69-4701-bc3d-18e7ce161361",
   "metadata": {},
   "source": [
    "### Linear Regression for Temp (all 4 counties)"
   ]
  },
  {
   "cell_type": "code",
   "execution_count": 52,
   "id": "6b3a8e80-159b-46f8-8ae7-f133523ddf2d",
   "metadata": {},
   "outputs": [
    {
     "name": "stdout",
     "output_type": "stream",
     "text": [
      "MLR score: 0.3734732342375028 -0.40131170280052086\n",
      "MLR intercept: -21.112368586285967\n",
      "MLR coeffs: [-1.88830049 -0.02702171 -0.20196791  3.09609429]\n"
     ]
    }
   ],
   "source": [
    "mlr = LinearRegression()\n",
    "mlr.fit(X_train, y_train)\n",
    "\n",
    "y_pred = mlr.predict(X_test)\n",
    "\n",
    "print('MLR score:', mlr.score(X_train, y_train), mlr.score(X_test, y_test))\n",
    "print('MLR intercept:', mlr.intercept_)\n",
    "print('MLR coeffs:', mlr.coef_)"
   ]
  },
  {
   "cell_type": "markdown",
   "id": "8751abcf-68f6-451f-9324-75a76f16f830",
   "metadata": {},
   "source": [
    "### Lasso for Temp (all 4 countries)"
   ]
  },
  {
   "cell_type": "code",
   "execution_count": 53,
   "id": "c99b5161-1404-44ab-888f-44f75046d8e4",
   "metadata": {},
   "outputs": [
    {
     "name": "stdout",
     "output_type": "stream",
     "text": [
      "Lasso score: 0.0 -0.4836121805558744\n",
      "Lasso intercept: 3.622821300940439\n",
      "Lasso coeffs: [0. 0. 0. 0.]\n"
     ]
    }
   ],
   "source": [
    "lasso = Lasso()\n",
    "lasso.fit(X_train, y_train)\n",
    "\n",
    "y_pred = lasso.predict(X_test)\n",
    "\n",
    "print('Lasso score:', lasso.score(X_train, y_train), lasso.score(X_test, y_test))\n",
    "print('Lasso intercept:', lasso.intercept_)\n",
    "print('Lasso coeffs:', lasso.coef_)"
   ]
  },
  {
   "cell_type": "markdown",
   "id": "a2412784-36d9-43a6-863f-67bf62e9e983",
   "metadata": {},
   "source": [
    "### Ridge for Temp (all 4 countries)"
   ]
  },
  {
   "cell_type": "code",
   "execution_count": 54,
   "id": "f8a6c14c-fc87-4ff4-a98d-33c307d12863",
   "metadata": {},
   "outputs": [
    {
     "name": "stdout",
     "output_type": "stream",
     "text": [
      "Ridge score: 0.2740455820885115 -0.00419153000408401\n",
      "Ridge intercept: -26.580509811165854\n",
      "Ridge coeffs: [-0.02938096  0.39727081  0.16709224  0.69004647]\n"
     ]
    }
   ],
   "source": [
    "ridge = Ridge()\n",
    "ridge.fit(X_train, y_train)\n",
    "\n",
    "y_pred = lasso.predict(X_test)\n",
    "\n",
    "print('Ridge score:', ridge.score(X_train, y_train), ridge.score(X_test, y_test))\n",
    "print('Ridge intercept:', ridge.intercept_)\n",
    "print('Ridge coeffs:', ridge.coef_)"
   ]
  },
  {
   "cell_type": "markdown",
   "id": "85e9d4ea-156c-4eea-b596-f300fcb3f7e7",
   "metadata": {},
   "source": [
    "### Train/Test Split for Production (all 4 countries)"
   ]
  },
  {
   "cell_type": "code",
   "execution_count": 55,
   "id": "765569fb-b3cf-4dd3-ba4f-31db21b6b3f2",
   "metadata": {},
   "outputs": [],
   "source": [
    "prod_features = [\n",
    "    'ind_prod_lbs', \n",
    "    'col_production_lbs', \n",
    "    'e_prod',\n",
    "    'b_prod_lbs'\n",
    "]"
   ]
  },
  {
   "cell_type": "code",
   "execution_count": 56,
   "id": "50069e9c-438b-4eb2-94c7-b6314323e777",
   "metadata": {},
   "outputs": [
    {
     "data": {
      "text/plain": [
       "ind_prod_lbs          0\n",
       "col_production_lbs    0\n",
       "e_prod                0\n",
       "b_prod_lbs            0\n",
       "dtype: int64"
      ]
     },
     "execution_count": 56,
     "metadata": {},
     "output_type": "execute_result"
    }
   ],
   "source": [
    "df[prod_features].isnull().sum()"
   ]
  },
  {
   "cell_type": "code",
   "execution_count": 57,
   "id": "79833d0f-4e2b-4e4b-b94a-97e48c214112",
   "metadata": {},
   "outputs": [],
   "source": [
    "X = df[prod_features]\n",
    "y = df['usa_retail_price']\n",
    "\n",
    "X_train, X_test, y_train, y_test = train_test_split(X, y, random_state=42)"
   ]
  },
  {
   "cell_type": "markdown",
   "id": "3b1e91dd-7f2d-4ee3-85f2-0e19ead387d1",
   "metadata": {},
   "source": [
    "### Linear Regression for Production (all 4 countries)"
   ]
  },
  {
   "cell_type": "code",
   "execution_count": 58,
   "id": "bd929277-27c2-4550-8b21-c6af1a0090e6",
   "metadata": {},
   "outputs": [
    {
     "name": "stdout",
     "output_type": "stream",
     "text": [
      "MLR score: 0.44353998819682683 0.45966424192158284\n",
      "MLR intercept: 2.843835978776019\n",
      "MLR coeffs: [ 6.72053432e-08 -3.46340339e-08  1.08976633e-04 -3.16729409e-10]\n"
     ]
    }
   ],
   "source": [
    "mlr = LinearRegression()\n",
    "mlr.fit(X_train, y_train)\n",
    "\n",
    "y_pred = mlr.predict(X_test)\n",
    "\n",
    "print('MLR score:', mlr.score(X_train, y_train), mlr.score(X_test, y_test))\n",
    "print('MLR intercept:', mlr.intercept_)\n",
    "print('MLR coeffs:', mlr.coef_)"
   ]
  },
  {
   "cell_type": "markdown",
   "id": "eae752fc-5095-4d08-893c-b82032d6d53b",
   "metadata": {},
   "source": [
    "#### Lasso for Production (all 4 countires)"
   ]
  },
  {
   "cell_type": "code",
   "execution_count": 59,
   "id": "efa54b55-d714-4fd4-84fa-38494c6dc8b3",
   "metadata": {},
   "outputs": [
    {
     "name": "stdout",
     "output_type": "stream",
     "text": [
      "Lasso score: 0.4435372753882937 0.4601123754468267\n",
      "Lasso intercept: 2.8448404561844898\n",
      "Lasso coeffs: [ 6.74330637e-08 -3.47007468e-08  1.07135712e-04 -2.59935580e-10]\n"
     ]
    }
   ],
   "source": [
    "lasso = Lasso()\n",
    "lasso.fit(X_train, y_train)\n",
    "\n",
    "y_pred = lasso.predict(X_test)\n",
    "\n",
    "print('Lasso score:', lasso.score(X_train, y_train), lasso.score(X_test, y_test))\n",
    "print('Lasso intercept:', lasso.intercept_)\n",
    "print('Lasso coeffs:', lasso.coef_)"
   ]
  },
  {
   "cell_type": "markdown",
   "id": "310ac7f4-8c18-4376-9494-2d3d5e69a6a2",
   "metadata": {},
   "source": [
    "#### Ridge for Production (all 4 countries)"
   ]
  },
  {
   "cell_type": "code",
   "execution_count": 60,
   "id": "c60ef19a-e0a7-45d6-9499-96006196308a",
   "metadata": {},
   "outputs": [
    {
     "name": "stdout",
     "output_type": "stream",
     "text": [
      "Ridge score: 0.4435399881968267 0.4596642441740758\n",
      "Ridge intercept: 2.843835983755618\n",
      "Ridge coeffs: [ 6.72053444e-08 -3.46340342e-08  1.08976624e-04 -3.16729128e-10]\n"
     ]
    }
   ],
   "source": [
    "ridge = Ridge()\n",
    "ridge.fit(X_train, y_train)\n",
    "\n",
    "y_pred = lasso.predict(X_test)\n",
    "\n",
    "print('Ridge score:', ridge.score(X_train, y_train), ridge.score(X_test, y_test))\n",
    "print('Ridge intercept:', ridge.intercept_)\n",
    "print('Ridge coeffs:', ridge.coef_)"
   ]
  },
  {
   "cell_type": "markdown",
   "id": "def6a07a-e667-427f-a45e-0651043ce0ca",
   "metadata": {},
   "source": [
    "### Linear Regression for Individual Country Production"
   ]
  },
  {
   "cell_type": "markdown",
   "id": "271d3689-8a45-40a8-86b5-091a035c0ff1",
   "metadata": {},
   "source": [
    "### Brazil"
   ]
  },
  {
   "cell_type": "code",
   "execution_count": 61,
   "id": "4ba087eb-883a-4352-ba9f-d0873570fb8b",
   "metadata": {},
   "outputs": [],
   "source": [
    "X = df[['b_prod_lbs']]\n",
    "y = df['usa_retail_price']\n",
    "\n",
    "X_train, X_test, y_train, y_test = train_test_split(X, y, random_state=42)"
   ]
  },
  {
   "cell_type": "markdown",
   "id": "887aeb9b-6526-4067-b365-6e1e3d09313a",
   "metadata": {},
   "source": [
    "#### Linear Regression for Brazil Production"
   ]
  },
  {
   "cell_type": "code",
   "execution_count": 62,
   "id": "b3bf88a7-7c04-40b1-8cfb-c6e45ac85a63",
   "metadata": {},
   "outputs": [
    {
     "name": "stdout",
     "output_type": "stream",
     "text": [
      "MLR score: 0.28947823626615643 0.3441955439413189\n",
      "MLR intercept: 2.194464598065048\n",
      "MLR coeffs: [1.64304545e-08]\n"
     ]
    }
   ],
   "source": [
    "mlr = LinearRegression()\n",
    "mlr.fit(X_train, y_train)\n",
    "\n",
    "y_pred = mlr.predict(X_test)\n",
    "\n",
    "print('MLR score:', mlr.score(X_train, y_train), mlr.score(X_test, y_test))\n",
    "print('MLR intercept:', mlr.intercept_)\n",
    "print('MLR coeffs:', mlr.coef_)"
   ]
  },
  {
   "cell_type": "markdown",
   "id": "8ab9d9b7-4dd3-4b6f-abc5-36c48dfd1a1f",
   "metadata": {},
   "source": [
    "#### Lasso for Brazil Production"
   ]
  },
  {
   "cell_type": "code",
   "execution_count": 63,
   "id": "3b1ff77e-c81d-49df-9a58-6e3a817fe118",
   "metadata": {},
   "outputs": [
    {
     "name": "stdout",
     "output_type": "stream",
     "text": [
      "Lasso score: 0.28947823626615465 0.3441955084919954\n",
      "Lasso intercept: 2.1944647175102343\n",
      "Lasso coeffs: [1.64304531e-08]\n"
     ]
    }
   ],
   "source": [
    "lasso = Lasso()\n",
    "lasso.fit(X_train, y_train)\n",
    "\n",
    "y_pred = lasso.predict(X_test)\n",
    "\n",
    "print('Lasso score:', lasso.score(X_train, y_train), lasso.score(X_test, y_test))\n",
    "print('Lasso intercept:', lasso.intercept_)\n",
    "print('Lasso coeffs:', lasso.coef_)"
   ]
  },
  {
   "cell_type": "markdown",
   "id": "a2c40c38-20d9-44e4-a9d5-1a9cfe1e84d1",
   "metadata": {},
   "source": [
    "#### Ridge for Brazil Production"
   ]
  },
  {
   "cell_type": "code",
   "execution_count": 64,
   "id": "5e2a262a-56c2-4d7f-a276-064d4d937651",
   "metadata": {},
   "outputs": [
    {
     "name": "stdout",
     "output_type": "stream",
     "text": [
      "Ridge score: 0.28947823626615654 0.3441955439413188\n",
      "Ridge intercept: 2.194464598065049\n",
      "Ridge coeffs: [1.64304545e-08]\n"
     ]
    }
   ],
   "source": [
    "ridge = Ridge()\n",
    "ridge.fit(X_train, y_train)\n",
    "\n",
    "y_pred = lasso.predict(X_test)\n",
    "\n",
    "print('Ridge score:', ridge.score(X_train, y_train), ridge.score(X_test, y_test))\n",
    "print('Ridge intercept:', ridge.intercept_)\n",
    "print('Ridge coeffs:', ridge.coef_)"
   ]
  },
  {
   "cell_type": "markdown",
   "id": "fa838984-ca13-471c-a05d-ef6a20896c64",
   "metadata": {},
   "source": [
    "### Ethiopia"
   ]
  },
  {
   "cell_type": "code",
   "execution_count": 65,
   "id": "70094390-eccd-4f22-a8e7-d6004267ecdf",
   "metadata": {},
   "outputs": [],
   "source": [
    "X = df[['e_prod']]\n",
    "y = df['usa_retail_price']\n",
    "\n",
    "X_train, X_test, y_train, y_test = train_test_split(X, y, random_state=42)"
   ]
  },
  {
   "cell_type": "markdown",
   "id": "89d1e925-e922-4def-8f10-b2e0b3649571",
   "metadata": {},
   "source": [
    "#### Linear Regression for Ethiopia Production"
   ]
  },
  {
   "cell_type": "code",
   "execution_count": 66,
   "id": "972661e5-464c-4e98-9fb7-40976257d4e9",
   "metadata": {},
   "outputs": [
    {
     "name": "stdout",
     "output_type": "stream",
     "text": [
      "MLR score: 0.360119810998626 0.24580471817671146\n",
      "MLR intercept: 2.2251372743615008\n",
      "MLR coeffs: [0.00030887]\n"
     ]
    }
   ],
   "source": [
    "mlr = LinearRegression()\n",
    "mlr.fit(X_train, y_train)\n",
    "\n",
    "y_pred = mlr.predict(X_test)\n",
    "\n",
    "print('MLR score:', mlr.score(X_train, y_train), mlr.score(X_test, y_test))\n",
    "print('MLR intercept:', mlr.intercept_)\n",
    "print('MLR coeffs:', mlr.coef_)"
   ]
  },
  {
   "cell_type": "markdown",
   "id": "d994e88e-45dc-4e04-8b43-7bf0bfaa7163",
   "metadata": {},
   "source": [
    "#### Lasso for Ethiopia Production"
   ]
  },
  {
   "cell_type": "code",
   "execution_count": 67,
   "id": "58fb99e2-d9a8-4f1a-a115-53e3115f781c",
   "metadata": {},
   "outputs": [
    {
     "name": "stdout",
     "output_type": "stream",
     "text": [
      "Lasso score: 0.36011923594717454 0.24565917938746085\n",
      "Lasso intercept: 2.226903470158761\n",
      "Lasso coeffs: [0.00030848]\n"
     ]
    }
   ],
   "source": [
    "lasso = Lasso()\n",
    "lasso.fit(X_train, y_train)\n",
    "\n",
    "y_pred = lasso.predict(X_test)\n",
    "\n",
    "print('Lasso score:', lasso.score(X_train, y_train), lasso.score(X_test, y_test))\n",
    "print('Lasso intercept:', lasso.intercept_)\n",
    "print('Lasso coeffs:', lasso.coef_)"
   ]
  },
  {
   "cell_type": "markdown",
   "id": "15fe9e1a-11fd-472e-b064-06ef13cdcc2a",
   "metadata": {},
   "source": [
    "#### Ridge for Ethiopia Production"
   ]
  },
  {
   "cell_type": "code",
   "execution_count": 68,
   "id": "c3d9f55f-f1fb-4395-855a-c26071392329",
   "metadata": {},
   "outputs": [
    {
     "name": "stdout",
     "output_type": "stream",
     "text": [
      "Ridge score: 0.3601198109986258 0.2458047161471879\n",
      "Ridge intercept: 2.2251372991582468\n",
      "Ridge coeffs: [0.00030887]\n"
     ]
    }
   ],
   "source": [
    "ridge = Ridge()\n",
    "ridge.fit(X_train, y_train)\n",
    "\n",
    "y_pred = lasso.predict(X_test)\n",
    "\n",
    "print('Ridge score:', ridge.score(X_train, y_train), ridge.score(X_test, y_test))\n",
    "print('Ridge intercept:', ridge.intercept_)\n",
    "print('Ridge coeffs:', ridge.coef_)"
   ]
  },
  {
   "cell_type": "markdown",
   "id": "0c010f42-8ca4-4d8b-ae49-87f20f6281dc",
   "metadata": {},
   "source": [
    "### Colombia"
   ]
  },
  {
   "cell_type": "code",
   "execution_count": 69,
   "id": "ccdd938c-59ab-4d88-b861-68ca9db45d06",
   "metadata": {},
   "outputs": [],
   "source": [
    "X = df[['col_production_lbs']]\n",
    "y = df['usa_retail_price']\n",
    "\n",
    "X_train, X_test, y_train, y_test = train_test_split(X, y, random_state=42)"
   ]
  },
  {
   "cell_type": "markdown",
   "id": "7802a62b-3fa0-43bd-ac80-6126f78ffed2",
   "metadata": {},
   "source": [
    "#### Linear Regression for Colombia Production"
   ]
  },
  {
   "cell_type": "code",
   "execution_count": 70,
   "id": "6c50563a-eef5-46f0-b9a7-93b8dd2b5ac3",
   "metadata": {},
   "outputs": [
    {
     "name": "stdout",
     "output_type": "stream",
     "text": [
      "MLR score: 0.10123686974918555 -0.7878982106086718\n",
      "MLR intercept: 4.88667404892861\n",
      "MLR coeffs: [-4.82415064e-08]\n"
     ]
    }
   ],
   "source": [
    "mlr = LinearRegression()\n",
    "mlr.fit(X_train, y_train)\n",
    "\n",
    "y_pred = mlr.predict(X_test)\n",
    "\n",
    "print('MLR score:', mlr.score(X_train, y_train), mlr.score(X_test, y_test))\n",
    "print('MLR intercept:', mlr.intercept_)\n",
    "print('MLR coeffs:', mlr.coef_)"
   ]
  },
  {
   "cell_type": "markdown",
   "id": "45948d26-17dd-489b-a676-ffa9eb324e0b",
   "metadata": {},
   "source": [
    "#### Lasso for Colombia Production"
   ]
  },
  {
   "cell_type": "code",
   "execution_count": 71,
   "id": "b98746e1-b4fa-4b7c-b4ff-807845f7e294",
   "metadata": {},
   "outputs": [
    {
     "name": "stdout",
     "output_type": "stream",
     "text": [
      "Lasso score: 0.1012368697491357 -0.7878979670005095\n",
      "Lasso intercept: 4.886673161615404\n",
      "Lasso coeffs: [-4.82414725e-08]\n"
     ]
    }
   ],
   "source": [
    "lasso = Lasso()\n",
    "lasso.fit(X_train, y_train)\n",
    "\n",
    "y_pred = lasso.predict(X_test)\n",
    "\n",
    "print('Lasso score:', lasso.score(X_train, y_train), lasso.score(X_test, y_test))\n",
    "print('Lasso intercept:', lasso.intercept_)\n",
    "print('Lasso coeffs:', lasso.coef_)"
   ]
  },
  {
   "cell_type": "markdown",
   "id": "107c35aa-f74d-462f-af3a-9c18130fe186",
   "metadata": {},
   "source": [
    "#### Ridge for Colombia Production"
   ]
  },
  {
   "cell_type": "code",
   "execution_count": 72,
   "id": "c1c84532-66e9-4a0d-a04e-e1b7491d5fa0",
   "metadata": {},
   "outputs": [
    {
     "name": "stdout",
     "output_type": "stream",
     "text": [
      "Ridge score: 0.10123686974918555 -0.7878982106086705\n",
      "Ridge intercept: 4.886674048928608\n",
      "Ridge coeffs: [-4.82415064e-08]\n"
     ]
    }
   ],
   "source": [
    "ridge = Ridge()\n",
    "ridge.fit(X_train, y_train)\n",
    "\n",
    "y_pred = lasso.predict(X_test)\n",
    "\n",
    "print('Ridge score:', ridge.score(X_train, y_train), ridge.score(X_test, y_test))\n",
    "print('Ridge intercept:', ridge.intercept_)\n",
    "print('Ridge coeffs:', ridge.coef_)"
   ]
  },
  {
   "cell_type": "markdown",
   "id": "a40c2745-a781-477a-a880-2652e25563b8",
   "metadata": {},
   "source": [
    "### Indonesia"
   ]
  },
  {
   "cell_type": "code",
   "execution_count": 73,
   "id": "ff9a1702-6656-4786-a131-de762f5c18a1",
   "metadata": {},
   "outputs": [],
   "source": [
    "X = df[['ind_prod_lbs']]\n",
    "y = df['usa_retail_price']\n",
    "\n",
    "X_train, X_test, y_train, y_test = train_test_split(X, y, random_state=42)"
   ]
  },
  {
   "cell_type": "markdown",
   "id": "593d8a6c-dc3e-49fc-b486-bfb473207586",
   "metadata": {},
   "source": [
    "#### Linear Regression for Indonesia Production"
   ]
  },
  {
   "cell_type": "code",
   "execution_count": 74,
   "id": "f14db027-9f96-471c-988b-8fc0de80b390",
   "metadata": {},
   "outputs": [
    {
     "name": "stdout",
     "output_type": "stream",
     "text": [
      "MLR score: 0.3538131649298706 0.5340857911865375\n",
      "MLR intercept: 1.890872405104997\n",
      "MLR coeffs: [9.53485117e-08]\n"
     ]
    }
   ],
   "source": [
    "mlr = LinearRegression()\n",
    "mlr.fit(X_train, y_train)\n",
    "\n",
    "y_pred = mlr.predict(X_test)\n",
    "\n",
    "print('MLR score:', mlr.score(X_train, y_train), mlr.score(X_test, y_test))\n",
    "print('MLR intercept:', mlr.intercept_)\n",
    "print('MLR coeffs:', mlr.coef_)"
   ]
  },
  {
   "cell_type": "markdown",
   "id": "70d891d0-ec26-4537-b469-46c0e98b3997",
   "metadata": {},
   "source": [
    "#### Lasso for Indoesia Production"
   ]
  },
  {
   "cell_type": "code",
   "execution_count": 75,
   "id": "c1730723-5312-49e9-ac3c-12f7247490e3",
   "metadata": {},
   "outputs": [
    {
     "name": "stdout",
     "output_type": "stream",
     "text": [
      "Lasso score: 0.35381316492981474 0.534085553947214\n",
      "Lasso intercept: 1.8908730927642938\n",
      "Lasso coeffs: [9.53484739e-08]\n"
     ]
    }
   ],
   "source": [
    "lasso = Lasso()\n",
    "lasso.fit(X_train, y_train)\n",
    "\n",
    "y_pred = lasso.predict(X_test)\n",
    "\n",
    "print('Lasso score:', lasso.score(X_train, y_train), lasso.score(X_test, y_test))\n",
    "print('Lasso intercept:', lasso.intercept_)\n",
    "print('Lasso coeffs:', lasso.coef_)"
   ]
  },
  {
   "cell_type": "markdown",
   "id": "318bfbb4-e88f-43d5-85a8-aacb823ad1f8",
   "metadata": {},
   "source": [
    "#### Ridge for Indonesia Production"
   ]
  },
  {
   "cell_type": "code",
   "execution_count": 76,
   "id": "26034fda-05b2-4415-989a-0261a7683f1f",
   "metadata": {},
   "outputs": [
    {
     "name": "stdout",
     "output_type": "stream",
     "text": [
      "Ridge score: 0.35381316492987025 0.5340857911865364\n",
      "Ridge intercept: 1.8908724051049999\n",
      "Ridge coeffs: [9.53485117e-08]\n"
     ]
    }
   ],
   "source": [
    "ridge = Ridge()\n",
    "ridge.fit(X_train, y_train)\n",
    "\n",
    "y_pred = lasso.predict(X_test)\n",
    "\n",
    "print('Ridge score:', ridge.score(X_train, y_train), ridge.score(X_test, y_test))\n",
    "print('Ridge intercept:', ridge.intercept_)\n",
    "print('Ridge coeffs:', ridge.coef_)"
   ]
  },
  {
   "cell_type": "markdown",
   "id": "a9a8a4a3-1d50-45bf-8d8a-ac36097d31e8",
   "metadata": {},
   "source": [
    "### Linear Regression for Temperature to predict production"
   ]
  },
  {
   "cell_type": "code",
   "execution_count": 77,
   "id": "3d85ac61-ca98-4e41-9b19-e5091b22bfee",
   "metadata": {},
   "outputs": [
    {
     "data": {
      "text/plain": [
       "Index(['year', 'b_prod_lbs', 'ind_annual_celcsius_change',\n",
       "       'ind_avg_temp_celsius', 'ind_prod_lbs', 'b_hectares_harvested',\n",
       "       'b_hectograms_per_hectare_yield', 'b_tonnes_produced',\n",
       "       'usa_retail_price', 'b_annual_avg_temp', 'col_production_lbs',\n",
       "       'col_annual_celsius_change', 'global_change_in_celsius', 'e_prod',\n",
       "       'e_temp_change', 'e_export', 'e_consumption', 'us_consumption_lbs',\n",
       "       'col_avg_temp_celsius', 'b_annual_celsius_change', 'e_avg_temp'],\n",
       "      dtype='object')"
      ]
     },
     "execution_count": 77,
     "metadata": {},
     "output_type": "execute_result"
    }
   ],
   "source": [
    "df.columns"
   ]
  },
  {
   "cell_type": "code",
   "execution_count": 78,
   "id": "2c6e0d94-decf-4c63-8e28-bbd6124000f5",
   "metadata": {},
   "outputs": [],
   "source": [
    "X = df[['b_annual_avg_temp']]\n",
    "y = df['b_prod_lbs']\n",
    "\n",
    "X_train, X_test, y_train, y_test = train_test_split(X, y, random_state=42)"
   ]
  },
  {
   "cell_type": "code",
   "execution_count": 79,
   "id": "004032f5-d527-4767-91ac-872ca03a160d",
   "metadata": {},
   "outputs": [
    {
     "name": "stdout",
     "output_type": "stream",
     "text": [
      "MLR score: 0.584081465553937 -0.35047492653032397\n",
      "MLR intercept: -1700137862.311876\n",
      "MLR coeffs: [70439074.95666267]\n"
     ]
    }
   ],
   "source": [
    "mlr = LinearRegression()\n",
    "mlr.fit(X_train, y_train)\n",
    "\n",
    "y_pred = mlr.predict(X_test)\n",
    "\n",
    "print('MLR score:', mlr.score(X_train, y_train), mlr.score(X_test, y_test))\n",
    "print('MLR intercept:', mlr.intercept_)\n",
    "print('MLR coeffs:', mlr.coef_)"
   ]
  },
  {
   "cell_type": "code",
   "execution_count": 80,
   "id": "03278f5d-f1bf-425e-b0ad-648c1c8d4582",
   "metadata": {},
   "outputs": [],
   "source": [
    "X = df[['ind_avg_temp_celsius']]\n",
    "y = df['ind_prod_lbs']\n",
    "\n",
    "X_train, X_test, y_train, y_test = train_test_split(X, y, random_state=42)"
   ]
  },
  {
   "cell_type": "code",
   "execution_count": 81,
   "id": "dffbd707-7beb-4a89-b644-789dd2e71b03",
   "metadata": {},
   "outputs": [
    {
     "name": "stdout",
     "output_type": "stream",
     "text": [
      "MLR score: 0.300836053859592 -0.0017423553829429839\n",
      "MLR intercept: -286233081.131289\n",
      "MLR coeffs: [11939710.23150827]\n"
     ]
    }
   ],
   "source": [
    "mlr = LinearRegression()\n",
    "mlr.fit(X_train, y_train)\n",
    "\n",
    "y_pred = mlr.predict(X_test)\n",
    "\n",
    "print('MLR score:', mlr.score(X_train, y_train), mlr.score(X_test, y_test))\n",
    "print('MLR intercept:', mlr.intercept_)\n",
    "print('MLR coeffs:', mlr.coef_)"
   ]
  },
  {
   "cell_type": "code",
   "execution_count": null,
   "id": "d9abbf21-3f50-4e3a-9952-ce06cd23a693",
   "metadata": {},
   "outputs": [],
   "source": []
  },
  {
   "cell_type": "code",
   "execution_count": 82,
   "id": "17b092d0-6db2-4c72-9ed4-17e90b86af96",
   "metadata": {},
   "outputs": [],
   "source": [
    "X = df[['col_avg_temp_celsius']]\n",
    "y = df['col_production_lbs']\n",
    "\n",
    "X_train, X_test, y_train, y_test = train_test_split(X, y, random_state=42)"
   ]
  },
  {
   "cell_type": "code",
   "execution_count": 83,
   "id": "9ea46a5b-deed-4f73-a3ae-3c0ab02604dc",
   "metadata": {},
   "outputs": [
    {
     "name": "stdout",
     "output_type": "stream",
     "text": [
      "MLR score: 0.08525694004260786 0.25288542208855647\n",
      "MLR intercept: -109115781.65241422\n",
      "MLR coeffs: [5420354.91238891]\n"
     ]
    }
   ],
   "source": [
    "mlr = LinearRegression()\n",
    "mlr.fit(X_train, y_train)\n",
    "\n",
    "y_pred = mlr.predict(X_test)\n",
    "\n",
    "print('MLR score:', mlr.score(X_train, y_train), mlr.score(X_test, y_test))\n",
    "print('MLR intercept:', mlr.intercept_)\n",
    "print('MLR coeffs:', mlr.coef_)"
   ]
  },
  {
   "cell_type": "code",
   "execution_count": null,
   "id": "79b6f545-0b84-4cb9-a734-c1b60850a8d5",
   "metadata": {},
   "outputs": [],
   "source": []
  },
  {
   "cell_type": "code",
   "execution_count": 84,
   "id": "431e023d-1e74-41dc-848d-3b6a6ee96099",
   "metadata": {},
   "outputs": [],
   "source": [
    "X = df[['e_avg_temp']]\n",
    "y = df['e_prod']\n",
    "\n",
    "X_train, X_test, y_train, y_test = train_test_split(X, y, random_state=42)"
   ]
  },
  {
   "cell_type": "code",
   "execution_count": 85,
   "id": "684728b9-70ba-4c92-b0ec-3a4bb2199887",
   "metadata": {},
   "outputs": [
    {
     "name": "stdout",
     "output_type": "stream",
     "text": [
      "MLR score: 0.7008018851469617 -0.17506875611057326\n",
      "MLR intercept: -88611.31762214666\n",
      "MLR coeffs: [3989.56698882]\n"
     ]
    }
   ],
   "source": [
    "mlr = LinearRegression()\n",
    "mlr.fit(X_train, y_train)\n",
    "\n",
    "y_pred = mlr.predict(X_test)\n",
    "\n",
    "print('MLR score:', mlr.score(X_train, y_train), mlr.score(X_test, y_test))\n",
    "print('MLR intercept:', mlr.intercept_)\n",
    "print('MLR coeffs:', mlr.coef_)"
   ]
  },
  {
   "cell_type": "markdown",
   "id": "dd2b209e-c353-4979-8dd6-dc28f3de472a",
   "metadata": {},
   "source": [
    "## Gridsearch"
   ]
  },
  {
   "cell_type": "code",
   "execution_count": 86,
   "id": "cebd1487-9ae2-4464-8203-6db0c1b9993d",
   "metadata": {},
   "outputs": [],
   "source": [
    "X = df.drop(['usa_retail_price'], axis=1)\n",
    "y = df['usa_retail_price']\n",
    "\n",
    "X_train, X_test, y_train, y_test = train_test_split(X, y, random_state=42)"
   ]
  },
  {
   "cell_type": "code",
   "execution_count": 87,
   "id": "005f47a5-5380-4c35-9719-795b7943fc3f",
   "metadata": {},
   "outputs": [
    {
     "name": "stdout",
     "output_type": "stream",
     "text": [
      "StandardScaler()\n"
     ]
    }
   ],
   "source": [
    "ss = StandardScaler()\n",
    "print(ss.fit(X_train))"
   ]
  },
  {
   "cell_type": "code",
   "execution_count": 88,
   "id": "bf375060-f276-4cf1-a8b1-6ac44c4b4b4d",
   "metadata": {},
   "outputs": [
    {
     "name": "stdout",
     "output_type": "stream",
     "text": [
      "StandardScaler()\n"
     ]
    }
   ],
   "source": [
    "ss = StandardScaler()\n",
    "print(ss.fit(X_test))"
   ]
  },
  {
   "cell_type": "code",
   "execution_count": 89,
   "id": "953ad2de-fccb-42df-b0a3-80d4056dadc4",
   "metadata": {},
   "outputs": [
    {
     "name": "stdout",
     "output_type": "stream",
     "text": [
      "MLR score: 0.7250897059769883 0.5427597031921797\n",
      "MLR intercept: 4.140800605134725\n",
      "MLR coeffs: [-0.00000000e+00 -9.75471108e-09 -0.00000000e+00 -0.00000000e+00\n",
      "  5.59114977e-08  2.11088806e-06  8.88897210e-04 -4.08801369e-06\n",
      " -0.00000000e+00  2.01487827e-08 -0.00000000e+00  0.00000000e+00\n",
      " -3.19789367e-04 -0.00000000e+00  0.00000000e+00  2.46499012e-03\n",
      " -2.28662790e-07  0.00000000e+00 -0.00000000e+00 -0.00000000e+00]\n"
     ]
    },
    {
     "name": "stderr",
     "output_type": "stream",
     "text": [
      "C:\\Users\\micha\\anaconda3\\lib\\site-packages\\sklearn\\linear_model\\_coordinate_descent.py:647: ConvergenceWarning: Objective did not converge. You might want to increase the number of iterations, check the scale of the features or consider increasing regularisation. Duality gap: 2.129e+00, tolerance: 1.493e-03\n",
      "  model = cd_fast.enet_coordinate_descent(\n"
     ]
    }
   ],
   "source": [
    "lasso = Lasso()\n",
    "lasso.fit(X_train, y_train)\n",
    "\n",
    "y_pred = lasso.predict(X_test)\n",
    "\n",
    "print('MLR score:', lasso.score(X_train, y_train), lasso.score(X_test, y_test))\n",
    "print('MLR intercept:',lasso.intercept_)\n",
    "print('MLR coeffs:', lasso.coef_)"
   ]
  },
  {
   "cell_type": "code",
   "execution_count": 90,
   "id": "42ef45e8-ca61-47d1-a1f5-dccf102e15ca",
   "metadata": {},
   "outputs": [
    {
     "name": "stdout",
     "output_type": "stream",
     "text": [
      "Fitting 5 folds for each of 32 candidates, totalling 160 fits\n"
     ]
    },
    {
     "data": {
      "text/plain": [
       "GridSearchCV(estimator=Pipeline(steps=[('ss', StandardScaler()),\n",
       "                                       ('lasso', Lasso())]),\n",
       "             param_grid={'lasso__alpha': [0.01, 0.1, 0.5, 1.0],\n",
       "                         'lasso__max_iter': [5000, 7500],\n",
       "                         'lasso__selection': ['cyclic', 'random'],\n",
       "                         'ss__with_mean': [True, False]},\n",
       "             verbose=1)"
      ]
     },
     "execution_count": 90,
     "metadata": {},
     "output_type": "execute_result"
    }
   ],
   "source": [
    "# Instantiate new pipeline object\n",
    "pipe = Pipeline([\n",
    "    ('ss', StandardScaler()),\n",
    "    ('lasso', Lasso())\n",
    "])\n",
    "\n",
    "# Define dictionary of hyperparameters\n",
    "pipe_params = {\n",
    "    'ss__with_mean': [True, False],\n",
    "    'lasso__max_iter': [5000, 7500],\n",
    "    'lasso__alpha': [0.01, 0.1, 0.5, 1.0],\n",
    "    'lasso__selection': ['cyclic', 'random']\n",
    "}\n",
    "\n",
    "# Instantiate our GridSearchCV object\n",
    "gs = GridSearchCV(pipe, param_grid=pipe_params, verbose=1)\n",
    "gs.fit(X_train, y_train)"
   ]
  },
  {
   "cell_type": "code",
   "execution_count": 91,
   "id": "1312ff61-6661-46c4-8eef-c393c631472a",
   "metadata": {},
   "outputs": [
    {
     "data": {
      "text/plain": [
       "GridSearchCV(estimator=Pipeline(steps=[('ss', StandardScaler()),\n",
       "                                       ('lasso', Lasso())]),\n",
       "             param_grid={'lasso__alpha': [0.01, 0.1, 0.5, 1.0],\n",
       "                         'lasso__max_iter': [5000, 7500],\n",
       "                         'lasso__selection': ['cyclic', 'random'],\n",
       "                         'ss__with_mean': [True, False]},\n",
       "             verbose=1)"
      ]
     },
     "execution_count": 91,
     "metadata": {},
     "output_type": "execute_result"
    }
   ],
   "source": [
    "gs"
   ]
  },
  {
   "cell_type": "code",
   "execution_count": 92,
   "id": "1de48a0a-5561-49e4-ad96-53bd738c0b99",
   "metadata": {},
   "outputs": [
    {
     "data": {
      "text/plain": [
       "{'lasso__alpha': 0.5,\n",
       " 'lasso__max_iter': 5000,\n",
       " 'lasso__selection': 'random',\n",
       " 'ss__with_mean': False}"
      ]
     },
     "execution_count": 92,
     "metadata": {},
     "output_type": "execute_result"
    }
   ],
   "source": [
    "gs.best_params_"
   ]
  },
  {
   "cell_type": "code",
   "execution_count": 93,
   "id": "b172c57d-2236-468f-a2aa-9fbabf92dcba",
   "metadata": {},
   "outputs": [
    {
     "data": {
      "text/plain": [
       "-1.4840563189672848"
      ]
     },
     "execution_count": 93,
     "metadata": {},
     "output_type": "execute_result"
    }
   ],
   "source": [
    "gs.best_score_"
   ]
  },
  {
   "cell_type": "code",
   "execution_count": 94,
   "id": "08214306-68a0-41d2-8333-ca34475e0666",
   "metadata": {},
   "outputs": [
    {
     "data": {
      "text/plain": [
       "(0.07891135678272942, -0.34806317808024767)"
      ]
     },
     "execution_count": 94,
     "metadata": {},
     "output_type": "execute_result"
    }
   ],
   "source": [
    "gs.score(X_train, y_train), gs.score(X_test, y_test)"
   ]
  },
  {
   "cell_type": "code",
   "execution_count": 95,
   "id": "dfd09f54-5073-4678-8397-8dfca32e1a96",
   "metadata": {},
   "outputs": [
    {
     "data": {
      "text/plain": [
       "Pipeline(steps=[('ss', StandardScaler(with_mean=False)),\n",
       "                ('lasso', Lasso(alpha=0.5, max_iter=5000, selection='random'))])"
      ]
     },
     "execution_count": 95,
     "metadata": {},
     "output_type": "execute_result"
    }
   ],
   "source": [
    "gs.best_estimator_"
   ]
  },
  {
   "cell_type": "code",
   "execution_count": 96,
   "id": "970cd58d-1f98-4dae-bbd3-44e132c3007a",
   "metadata": {},
   "outputs": [
    {
     "data": {
      "text/plain": [
       "-1.4841971430031922"
      ]
     },
     "execution_count": 96,
     "metadata": {},
     "output_type": "execute_result"
    }
   ],
   "source": [
    "cross_val_score(gs.best_estimator_, X_train, y_train).mean()"
   ]
  },
  {
   "cell_type": "markdown",
   "id": "9ed01af2-81f7-432f-aca8-a87e33022471",
   "metadata": {},
   "source": [
    "### Visuals"
   ]
  },
  {
   "cell_type": "code",
   "execution_count": 97,
   "id": "33ee3d5a-3142-48eb-b025-a785141599e7",
   "metadata": {},
   "outputs": [],
   "source": [
    "df = pd.read_csv('data/cleaned_merged_df4.csv')"
   ]
  },
  {
   "cell_type": "code",
   "execution_count": 98,
   "id": "bc43ac7a-526b-4822-93f6-8402eb73100a",
   "metadata": {},
   "outputs": [],
   "source": [
    "df.drop(df.columns[[0]], axis=1, inplace=True)"
   ]
  },
  {
   "cell_type": "code",
   "execution_count": 99,
   "id": "93c7c356-73e7-482e-9d8c-73ccc7482acd",
   "metadata": {},
   "outputs": [],
   "source": [
    "df['e_prod_lbs'] = [(each*1000)*2.2 for each in df['e_prod']]"
   ]
  },
  {
   "cell_type": "code",
   "execution_count": 100,
   "id": "188c1852-189f-4db1-a15c-a2e0af90d600",
   "metadata": {},
   "outputs": [
    {
     "data": {
      "text/html": [
       "<div>\n",
       "<style scoped>\n",
       "    .dataframe tbody tr th:only-of-type {\n",
       "        vertical-align: middle;\n",
       "    }\n",
       "\n",
       "    .dataframe tbody tr th {\n",
       "        vertical-align: top;\n",
       "    }\n",
       "\n",
       "    .dataframe thead th {\n",
       "        text-align: right;\n",
       "    }\n",
       "</style>\n",
       "<table border=\"1\" class=\"dataframe\">\n",
       "  <thead>\n",
       "    <tr style=\"text-align: right;\">\n",
       "      <th></th>\n",
       "      <th>year</th>\n",
       "      <th>b_prod_lbs</th>\n",
       "      <th>ind_annual_celcsius_change</th>\n",
       "      <th>ind_avg_temp_celsius</th>\n",
       "      <th>ind_prod_lbs</th>\n",
       "      <th>b_hectares_harvested</th>\n",
       "      <th>b_hectograms_per_hectare_yield</th>\n",
       "      <th>b_tonnes_produced</th>\n",
       "      <th>usa_retail_price</th>\n",
       "      <th>b_annual_avg_temp</th>\n",
       "      <th>...</th>\n",
       "      <th>global_change_in_celsius</th>\n",
       "      <th>e_prod</th>\n",
       "      <th>e_temp_change</th>\n",
       "      <th>e_export</th>\n",
       "      <th>e_consumption</th>\n",
       "      <th>us_consumption_lbs</th>\n",
       "      <th>col_avg_temp_celsius</th>\n",
       "      <th>b_annual_celsius_change</th>\n",
       "      <th>e_avg_temp</th>\n",
       "      <th>e_prod_lbs</th>\n",
       "    </tr>\n",
       "  </thead>\n",
       "  <tbody>\n",
       "    <tr>\n",
       "      <th>0</th>\n",
       "      <td>1990</td>\n",
       "      <td>60028382.92</td>\n",
       "      <td>0.120</td>\n",
       "      <td>25.43</td>\n",
       "      <td>16371042.6</td>\n",
       "      <td>2908960</td>\n",
       "      <td>5036</td>\n",
       "      <td>1464856</td>\n",
       "      <td>2.97</td>\n",
       "      <td>25.12</td>\n",
       "      <td>...</td>\n",
       "      <td>0.66</td>\n",
       "      <td>2909.451</td>\n",
       "      <td>0.244</td>\n",
       "      <td>1074.101</td>\n",
       "      <td>1200.0</td>\n",
       "      <td>40254757.4</td>\n",
       "      <td>24.77</td>\n",
       "      <td>0.440</td>\n",
       "      <td>23.04</td>\n",
       "      <td>6400792.2</td>\n",
       "    </tr>\n",
       "    <tr>\n",
       "      <th>1</th>\n",
       "      <td>1991</td>\n",
       "      <td>60045685.48</td>\n",
       "      <td>0.203</td>\n",
       "      <td>25.32</td>\n",
       "      <td>18685031.2</td>\n",
       "      <td>2763440</td>\n",
       "      <td>5502</td>\n",
       "      <td>1520382</td>\n",
       "      <td>2.81</td>\n",
       "      <td>25.05</td>\n",
       "      <td>...</td>\n",
       "      <td>0.53</td>\n",
       "      <td>2924.664</td>\n",
       "      <td>0.244</td>\n",
       "      <td>841.329</td>\n",
       "      <td>1264.0</td>\n",
       "      <td>41054596.0</td>\n",
       "      <td>24.82</td>\n",
       "      <td>0.470</td>\n",
       "      <td>23.13</td>\n",
       "      <td>6434260.8</td>\n",
       "    </tr>\n",
       "    <tr>\n",
       "      <th>2</th>\n",
       "      <td>1992</td>\n",
       "      <td>76127379.24</td>\n",
       "      <td>0.264</td>\n",
       "      <td>25.28</td>\n",
       "      <td>12252851.6</td>\n",
       "      <td>2500320</td>\n",
       "      <td>5177</td>\n",
       "      <td>1294373</td>\n",
       "      <td>2.58</td>\n",
       "      <td>24.91</td>\n",
       "      <td>...</td>\n",
       "      <td>0.25</td>\n",
       "      <td>1825.171</td>\n",
       "      <td>0.244</td>\n",
       "      <td>734.461</td>\n",
       "      <td>1331.0</td>\n",
       "      <td>40238996.6</td>\n",
       "      <td>24.95</td>\n",
       "      <td>0.381</td>\n",
       "      <td>22.79</td>\n",
       "      <td>4015376.2</td>\n",
       "    </tr>\n",
       "  </tbody>\n",
       "</table>\n",
       "<p>3 rows × 22 columns</p>\n",
       "</div>"
      ],
      "text/plain": [
       "   year   b_prod_lbs  ind_annual_celcsius_change  ind_avg_temp_celsius  \\\n",
       "0  1990  60028382.92                       0.120                 25.43   \n",
       "1  1991  60045685.48                       0.203                 25.32   \n",
       "2  1992  76127379.24                       0.264                 25.28   \n",
       "\n",
       "   ind_prod_lbs  b_hectares_harvested  b_hectograms_per_hectare_yield  \\\n",
       "0    16371042.6               2908960                            5036   \n",
       "1    18685031.2               2763440                            5502   \n",
       "2    12252851.6               2500320                            5177   \n",
       "\n",
       "   b_tonnes_produced  usa_retail_price  b_annual_avg_temp  ...  \\\n",
       "0            1464856              2.97              25.12  ...   \n",
       "1            1520382              2.81              25.05  ...   \n",
       "2            1294373              2.58              24.91  ...   \n",
       "\n",
       "   global_change_in_celsius    e_prod  e_temp_change  e_export  e_consumption  \\\n",
       "0                      0.66  2909.451          0.244  1074.101         1200.0   \n",
       "1                      0.53  2924.664          0.244   841.329         1264.0   \n",
       "2                      0.25  1825.171          0.244   734.461         1331.0   \n",
       "\n",
       "   us_consumption_lbs  col_avg_temp_celsius  b_annual_celsius_change  \\\n",
       "0          40254757.4                 24.77                    0.440   \n",
       "1          41054596.0                 24.82                    0.470   \n",
       "2          40238996.6                 24.95                    0.381   \n",
       "\n",
       "   e_avg_temp  e_prod_lbs  \n",
       "0       23.04   6400792.2  \n",
       "1       23.13   6434260.8  \n",
       "2       22.79   4015376.2  \n",
       "\n",
       "[3 rows x 22 columns]"
      ]
     },
     "execution_count": 100,
     "metadata": {},
     "output_type": "execute_result"
    }
   ],
   "source": [
    "df.head(3)"
   ]
  },
  {
   "cell_type": "code",
   "execution_count": 101,
   "id": "86d3e0e7-545d-4243-890a-e8fb38c48534",
   "metadata": {},
   "outputs": [
    {
     "data": {
      "text/plain": [
       "Index(['year', 'b_prod_lbs', 'ind_annual_celcsius_change',\n",
       "       'ind_avg_temp_celsius', 'ind_prod_lbs', 'b_hectares_harvested',\n",
       "       'b_hectograms_per_hectare_yield', 'b_tonnes_produced',\n",
       "       'usa_retail_price', 'b_annual_avg_temp', 'col_production_lbs',\n",
       "       'col_annual_celsius_change', 'global_change_in_celsius', 'e_prod',\n",
       "       'e_temp_change', 'e_export', 'e_consumption', 'us_consumption_lbs',\n",
       "       'col_avg_temp_celsius', 'b_annual_celsius_change', 'e_avg_temp',\n",
       "       'e_prod_lbs'],\n",
       "      dtype='object')"
      ]
     },
     "execution_count": 101,
     "metadata": {},
     "output_type": "execute_result"
    }
   ],
   "source": [
    "df.columns"
   ]
  },
  {
   "cell_type": "code",
   "execution_count": 102,
   "id": "d5d289bd-d633-497f-a375-8a060c4f645d",
   "metadata": {},
   "outputs": [
    {
     "data": {
      "image/png": "[encoded data removed]",
      "text/plain": [
       "<Figure size 640x480 with 1 Axes>"
      ]
     },
     "metadata": {
      "needs_background": "light"
     },
     "output_type": "display_data"
    }
   ],
   "source": [
    "from matplotlib.pyplot import figure\n",
    "\n",
    "figure(figsize=(8, 6), dpi=80)\n",
    " \n",
    "plt.style.use('ggplot')\n",
    " \n",
    "plt.title('Relation between Production and Price')\n",
    "plt.xlabel('USA Retail Price ($ per lb)')\n",
    "plt.ylabel('Production lbs (hundred of millions)')\n",
    "plt.scatter(x=df['usa_retail_price'],y=df['b_prod_lbs'],s=100,c='b',alpha=0.6,marker='x', linewidths=2, label = \"Brazil\")\n",
    "plt.scatter(x=df['usa_retail_price'],y=df['ind_prod_lbs'],s=100,c='r',alpha=0.5,marker='x', linewidths=2, label = \"Indonesia\")\n",
    "plt.scatter(x=df['usa_retail_price'],y=df['col_production_lbs'],s=100,c='g',alpha=0.6,marker='x', linewidths=2, label = \"Colombia\")\n",
    "plt.scatter(x=df['usa_retail_price'],y=df['e_prod_lbs'],s=100,c='y',alpha=0.5,marker='x', linewidths=2, label = \"Ethiopia\")\n",
    " \n",
    "plt.legend(loc='upper left')\n",
    " \n",
    " \n",
    "plt.tight_layout()\n",
    " \n",
    "plt.show()"
   ]
  },
  {
   "cell_type": "code",
   "execution_count": 103,
   "id": "2ef00c92-722a-4cdb-99d6-e0a6eb5aee0d",
   "metadata": {},
   "outputs": [
    {
     "data": {
      "image/png": "[encoded data removed]",
      "text/plain": [
       "<Figure size 432x288 with 1 Axes>"
      ]
     },
     "metadata": {},
     "output_type": "display_data"
    }
   ],
   "source": [
    "x1 = df.year\n",
    "y1 = df.b_prod_lbs\n",
    "plt.plot(x1, y1, label = \"Brazil\")\n",
    "\n",
    "x2 = df.year\n",
    "y2 = df.ind_prod_lbs\n",
    "plt.plot(x2, y2, label = \"Indonesia\")\n",
    "\n",
    "plt.xlabel('Year')\n",
    "plt.ylabel('Coffee Production (in hundred millions)')\n",
    "\n",
    "plt.title('Brazil and Indonesia Coffee Production ')\n",
    "\n",
    "plt.legend()\n",
    "plt.grid()\n",
    "\n",
    "plt.show()"
   ]
  },
  {
   "cell_type": "code",
   "execution_count": null,
   "id": "d7ae05ee-3caf-439f-ae29-eafc27406be9",
   "metadata": {},
   "outputs": [],
   "source": []
  },
  {
   "cell_type": "code",
   "execution_count": 104,
   "id": "82fd554c-cc6f-4a88-8827-fb4b17c6a715",
   "metadata": {},
   "outputs": [],
   "source": [
    "df = pd.read_csv('data/cleaned_merged_df4.csv')"
   ]
  },
  {
   "cell_type": "code",
   "execution_count": 105,
   "id": "7c33c3d0-2e1c-4243-bfb1-39f476671295",
   "metadata": {},
   "outputs": [],
   "source": [
    "df.drop(df.columns[[0]], axis=1, inplace=True)"
   ]
  },
  {
   "cell_type": "code",
   "execution_count": 106,
   "id": "67bc6c9d-a1f0-4836-ac62-46150250a378",
   "metadata": {},
   "outputs": [],
   "source": [
    "df.drop(df.index[0:29], inplace=True)"
   ]
  },
  {
   "cell_type": "code",
   "execution_count": 107,
   "id": "b74cd0d4-aaf3-49ac-8be6-234cc02d5fda",
   "metadata": {},
   "outputs": [],
   "source": [
    "df.drop(df.columns[[2,3,5,6,7,8,9,11,12,14,15,16,17,18,19,20]], axis=1, inplace=True)"
   ]
  },
  {
   "cell_type": "code",
   "execution_count": 108,
   "id": "ddf504eb-235f-455a-a232-3f9166c9862c",
   "metadata": {},
   "outputs": [
    {
     "data": {
      "text/plain": [
       "Index(['year', 'b_prod_lbs', 'ind_prod_lbs', 'col_production_lbs', 'e_prod'], dtype='object')"
      ]
     },
     "execution_count": 108,
     "metadata": {},
     "output_type": "execute_result"
    }
   ],
   "source": [
    "df.columns"
   ]
  },
  {
   "cell_type": "code",
   "execution_count": 109,
   "id": "7e9e1ee6-ee49-465d-a921-23f8e08a653f",
   "metadata": {},
   "outputs": [
    {
     "data": {
      "text/html": [
       "<div>\n",
       "<style scoped>\n",
       "    .dataframe tbody tr th:only-of-type {\n",
       "        vertical-align: middle;\n",
       "    }\n",
       "\n",
       "    .dataframe tbody tr th {\n",
       "        vertical-align: top;\n",
       "    }\n",
       "\n",
       "    .dataframe thead th {\n",
       "        text-align: right;\n",
       "    }\n",
       "</style>\n",
       "<table border=\"1\" class=\"dataframe\">\n",
       "  <thead>\n",
       "    <tr style=\"text-align: right;\">\n",
       "      <th></th>\n",
       "      <th>year</th>\n",
       "      <th>b_prod_lbs</th>\n",
       "      <th>ind_prod_lbs</th>\n",
       "      <th>col_production_lbs</th>\n",
       "      <th>e_prod</th>\n",
       "    </tr>\n",
       "  </thead>\n",
       "  <tbody>\n",
       "    <tr>\n",
       "      <th>29</th>\n",
       "      <td>2019</td>\n",
       "      <td>1.280636e+08</td>\n",
       "      <td>25152473.5</td>\n",
       "      <td>31020260.04</td>\n",
       "      <td>7343.4329</td>\n",
       "    </tr>\n",
       "  </tbody>\n",
       "</table>\n",
       "</div>"
      ],
      "text/plain": [
       "    year    b_prod_lbs  ind_prod_lbs  col_production_lbs     e_prod\n",
       "29  2019  1.280636e+08    25152473.5         31020260.04  7343.4329"
      ]
     },
     "execution_count": 109,
     "metadata": {},
     "output_type": "execute_result"
    }
   ],
   "source": [
    "df"
   ]
  },
  {
   "cell_type": "code",
   "execution_count": 110,
   "id": "1a4ff7ed-8db4-40ae-bbc5-65618eb6005a",
   "metadata": {},
   "outputs": [],
   "source": [
    "df['e_prod_lbs'] = [(each*1000)*2.2 for each in df['e_prod']]"
   ]
  },
  {
   "cell_type": "code",
   "execution_count": 111,
   "id": "a018e660-9aa7-493a-bc62-cc81ca02e1dd",
   "metadata": {},
   "outputs": [
    {
     "data": {
      "text/html": [
       "<div>\n",
       "<style scoped>\n",
       "    .dataframe tbody tr th:only-of-type {\n",
       "        vertical-align: middle;\n",
       "    }\n",
       "\n",
       "    .dataframe tbody tr th {\n",
       "        vertical-align: top;\n",
       "    }\n",
       "\n",
       "    .dataframe thead th {\n",
       "        text-align: right;\n",
       "    }\n",
       "</style>\n",
       "<table border=\"1\" class=\"dataframe\">\n",
       "  <thead>\n",
       "    <tr style=\"text-align: right;\">\n",
       "      <th></th>\n",
       "      <th>year</th>\n",
       "      <th>b_prod_lbs</th>\n",
       "      <th>ind_prod_lbs</th>\n",
       "      <th>col_production_lbs</th>\n",
       "      <th>e_prod</th>\n",
       "      <th>e_prod_lbs</th>\n",
       "    </tr>\n",
       "  </thead>\n",
       "  <tbody>\n",
       "    <tr>\n",
       "      <th>29</th>\n",
       "      <td>2019</td>\n",
       "      <td>1.280636e+08</td>\n",
       "      <td>25152473.5</td>\n",
       "      <td>31020260.04</td>\n",
       "      <td>7343.4329</td>\n",
       "      <td>16155552.38</td>\n",
       "    </tr>\n",
       "  </tbody>\n",
       "</table>\n",
       "</div>"
      ],
      "text/plain": [
       "    year    b_prod_lbs  ind_prod_lbs  col_production_lbs     e_prod  \\\n",
       "29  2019  1.280636e+08    25152473.5         31020260.04  7343.4329   \n",
       "\n",
       "     e_prod_lbs  \n",
       "29  16155552.38  "
      ]
     },
     "execution_count": 111,
     "metadata": {},
     "output_type": "execute_result"
    }
   ],
   "source": [
    "df"
   ]
  },
  {
   "cell_type": "code",
   "execution_count": 112,
   "id": "1642b0b2-8fef-46ac-a884-5e5bf78c56c6",
   "metadata": {},
   "outputs": [],
   "source": [
    "df.drop(df.columns[[4]], axis=1, inplace=True)"
   ]
  },
  {
   "cell_type": "code",
   "execution_count": 113,
   "id": "35dc2f3d-a350-4326-81c8-35bf8a97fd0e",
   "metadata": {},
   "outputs": [],
   "source": [
    "df = pd.read_csv('data/2019_prod.csv')"
   ]
  },
  {
   "cell_type": "code",
   "execution_count": 114,
   "id": "173b7b6f-a4c2-4e95-8033-508b16df89ea",
   "metadata": {},
   "outputs": [
    {
     "data": {
      "text/html": [
       "<div>\n",
       "<style scoped>\n",
       "    .dataframe tbody tr th:only-of-type {\n",
       "        vertical-align: middle;\n",
       "    }\n",
       "\n",
       "    .dataframe tbody tr th {\n",
       "        vertical-align: top;\n",
       "    }\n",
       "\n",
       "    .dataframe thead th {\n",
       "        text-align: right;\n",
       "    }\n",
       "</style>\n",
       "<table border=\"1\" class=\"dataframe\">\n",
       "  <thead>\n",
       "    <tr style=\"text-align: right;\">\n",
       "      <th></th>\n",
       "      <th>Unnamed: 0</th>\n",
       "      <th>year</th>\n",
       "      <th>b_prod_lbs</th>\n",
       "      <th>ind_prod_lbs</th>\n",
       "      <th>col_production_lbs</th>\n",
       "      <th>e_prod_lbs</th>\n",
       "    </tr>\n",
       "  </thead>\n",
       "  <tbody>\n",
       "    <tr>\n",
       "      <th>0</th>\n",
       "      <td>29</td>\n",
       "      <td>2019</td>\n",
       "      <td>1.280636e+08</td>\n",
       "      <td>25152473.5</td>\n",
       "      <td>31020260.04</td>\n",
       "      <td>16155552.38</td>\n",
       "    </tr>\n",
       "  </tbody>\n",
       "</table>\n",
       "</div>"
      ],
      "text/plain": [
       "   Unnamed: 0  year    b_prod_lbs  ind_prod_lbs  col_production_lbs  \\\n",
       "0          29  2019  1.280636e+08    25152473.5         31020260.04   \n",
       "\n",
       "    e_prod_lbs  \n",
       "0  16155552.38  "
      ]
     },
     "execution_count": 114,
     "metadata": {},
     "output_type": "execute_result"
    }
   ],
   "source": [
    "df"
   ]
  },
  {
   "cell_type": "code",
   "execution_count": 115,
   "id": "39337129-60da-43de-a6ef-c919f32df7cc",
   "metadata": {},
   "outputs": [],
   "source": [
    "df.drop(df.columns[[0,1]], axis=1, inplace=True)"
   ]
  },
  {
   "cell_type": "code",
   "execution_count": 116,
   "id": "28320f66-af93-4bb0-8a48-ea26753271ca",
   "metadata": {},
   "outputs": [
    {
     "data": {
      "text/html": [
       "<div>\n",
       "<style scoped>\n",
       "    .dataframe tbody tr th:only-of-type {\n",
       "        vertical-align: middle;\n",
       "    }\n",
       "\n",
       "    .dataframe tbody tr th {\n",
       "        vertical-align: top;\n",
       "    }\n",
       "\n",
       "    .dataframe thead th {\n",
       "        text-align: right;\n",
       "    }\n",
       "</style>\n",
       "<table border=\"1\" class=\"dataframe\">\n",
       "  <thead>\n",
       "    <tr style=\"text-align: right;\">\n",
       "      <th></th>\n",
       "      <th>b_prod_lbs</th>\n",
       "      <th>ind_prod_lbs</th>\n",
       "      <th>col_production_lbs</th>\n",
       "      <th>e_prod_lbs</th>\n",
       "    </tr>\n",
       "  </thead>\n",
       "  <tbody>\n",
       "    <tr>\n",
       "      <th>0</th>\n",
       "      <td>1.280636e+08</td>\n",
       "      <td>25152473.5</td>\n",
       "      <td>31020260.04</td>\n",
       "      <td>16155552.38</td>\n",
       "    </tr>\n",
       "  </tbody>\n",
       "</table>\n",
       "</div>"
      ],
      "text/plain": [
       "     b_prod_lbs  ind_prod_lbs  col_production_lbs   e_prod_lbs\n",
       "0  1.280636e+08    25152473.5         31020260.04  16155552.38"
      ]
     },
     "execution_count": 116,
     "metadata": {},
     "output_type": "execute_result"
    }
   ],
   "source": [
    "df"
   ]
  },
  {
   "cell_type": "code",
   "execution_count": 117,
   "id": "c864be1f-d6e3-4945-951c-2b429020b9f7",
   "metadata": {},
   "outputs": [],
   "source": [
    "df.rename(columns={'b_prod_lbs': 'Brazil', 'ind_prod_lbs': 'Indonesia', 'col_production_lbs': 'Colombia', 'e_prod_lbs': 'Ethiopia'}, inplace=True)"
   ]
  },
  {
   "cell_type": "code",
   "execution_count": 118,
   "id": "457d8e9d-330d-437f-9e29-5536834de85e",
   "metadata": {},
   "outputs": [
    {
     "data": {
      "image/png": "[encoded data removed]",
      "text/plain": [
       "<Figure size 720x360 with 1 Axes>"
      ]
     },
     "metadata": {},
     "output_type": "display_data"
    }
   ],
   "source": [
    "df.plot(kind='bar',\n",
    "       figsize=(10, 5),\n",
    "       title='2019 Coffee Production',\n",
    "       xlabel='Countries',\n",
    "       ylabel='Coffee Production lbs (in hundred millions)',\n",
    "       rot=30,\n",
    "       fontsize=16,\n",
    "       grid=True);"
   ]
  },
  {
   "cell_type": "code",
   "execution_count": null,
   "id": "b44e384a-1faf-4fe6-95df-395b90f5c426",
   "metadata": {},
   "outputs": [],
   "source": []
  }
 ],
 "metadata": {
  "kernelspec": {
   "display_name": "Python 3 (ipykernel)",
   "language": "python",
   "name": "python3"
  },
  "language_info": {
   "codemirror_mode": {
    "name": "ipython",
    "version": 3
   },
   "file_extension": ".py",
   "mimetype": "text/x-python",
   "name": "python",
   "nbconvert_exporter": "python",
   "pygments_lexer": "ipython3",
   "version": "3.9.12"
  }
 },
 "nbformat": 4,
 "nbformat_minor": 5
}
