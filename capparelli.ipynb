{
 "cells": [
  {
   "cell_type": "code",
   "execution_count": 2,
   "id": "c7d1b348",
   "metadata": {},
   "outputs": [],
   "source": [
    "# standard imports\n",
    "import pandas as pd\n",
    "import numpy as np\n",
    "import seaborn as sns\n",
    "import matplotlib.pyplot as plt\n",
    "# model imports\n",
    "from sklearn.linear_model import LogisticRegression\n",
    "from sklearn.preprocessing import StandardScaler\n",
    "from sklearn.model_selection import train_test_split, cross_val_score\n",
    "from sklearn.metrics import ConfusionMatrixDisplay"
   ]
  },
  {
   "cell_type": "markdown",
   "id": "def77105",
   "metadata": {},
   "source": [
    "### Coffee Production Dataset"
   ]
  },
  {
   "cell_type": "code",
   "execution_count": 3,
   "id": "abadfac6",
   "metadata": {
    "scrolled": true
   },
   "outputs": [
    {
     "data": {
      "text/html": [
       "<div>\n",
       "<style scoped>\n",
       "    .dataframe tbody tr th:only-of-type {\n",
       "        vertical-align: middle;\n",
       "    }\n",
       "\n",
       "    .dataframe tbody tr th {\n",
       "        vertical-align: top;\n",
       "    }\n",
       "\n",
       "    .dataframe thead th {\n",
       "        text-align: right;\n",
       "    }\n",
       "</style>\n",
       "<table border=\"1\" class=\"dataframe\">\n",
       "  <thead>\n",
       "    <tr style=\"text-align: right;\">\n",
       "      <th></th>\n",
       "      <th>Country</th>\n",
       "      <th>1991</th>\n",
       "      <th>1992</th>\n",
       "      <th>1993</th>\n",
       "      <th>1994</th>\n",
       "      <th>1995</th>\n",
       "      <th>1996</th>\n",
       "      <th>1997</th>\n",
       "      <th>1998</th>\n",
       "      <th>1999</th>\n",
       "      <th>...</th>\n",
       "      <th>2011</th>\n",
       "      <th>2012</th>\n",
       "      <th>2013</th>\n",
       "      <th>2014</th>\n",
       "      <th>2015</th>\n",
       "      <th>2016</th>\n",
       "      <th>2017</th>\n",
       "      <th>2018</th>\n",
       "      <th>2019</th>\n",
       "      <th>2020</th>\n",
       "    </tr>\n",
       "  </thead>\n",
       "  <tbody>\n",
       "    <tr>\n",
       "      <th>0</th>\n",
       "      <td>Brazil</td>\n",
       "      <td>1637137.716</td>\n",
       "      <td>1637609.604</td>\n",
       "      <td>2076201.252</td>\n",
       "      <td>1690018.716</td>\n",
       "      <td>1691522.82</td>\n",
       "      <td>1083612.132</td>\n",
       "      <td>1751804.58</td>\n",
       "      <td>1568880.24</td>\n",
       "      <td>2205651.198</td>\n",
       "      <td>...</td>\n",
       "      <td>3325704.612</td>\n",
       "      <td>2915509.734</td>\n",
       "      <td>3325080.072</td>\n",
       "      <td>3281337.984</td>\n",
       "      <td>3198286.014</td>\n",
       "      <td>3172235.256</td>\n",
       "      <td>3407290.704</td>\n",
       "      <td>3164389.074</td>\n",
       "      <td>3907847.982</td>\n",
       "      <td>3492642.762</td>\n",
       "    </tr>\n",
       "    <tr>\n",
       "      <th>1</th>\n",
       "      <td>Viet Nam</td>\n",
       "      <td>78617.280</td>\n",
       "      <td>86270.880</td>\n",
       "      <td>140426.820</td>\n",
       "      <td>181212.960</td>\n",
       "      <td>217896.54</td>\n",
       "      <td>238205.160</td>\n",
       "      <td>345148.86</td>\n",
       "      <td>418736.52</td>\n",
       "      <td>423103.320</td>\n",
       "      <td>...</td>\n",
       "      <td>1199999.994</td>\n",
       "      <td>1589976.666</td>\n",
       "      <td>1404126.342</td>\n",
       "      <td>1656586.884</td>\n",
       "      <td>1634431.314</td>\n",
       "      <td>1865402.514</td>\n",
       "      <td>1669150.572</td>\n",
       "      <td>2005949.940</td>\n",
       "      <td>1816984.488</td>\n",
       "      <td>1829229.864</td>\n",
       "    </tr>\n",
       "    <tr>\n",
       "      <th>2</th>\n",
       "      <td>Colombia</td>\n",
       "      <td>863760.000</td>\n",
       "      <td>1078823.820</td>\n",
       "      <td>896812.680</td>\n",
       "      <td>685345.320</td>\n",
       "      <td>777840.00</td>\n",
       "      <td>776281.080</td>\n",
       "      <td>646731.00</td>\n",
       "      <td>727349.76</td>\n",
       "      <td>652077.720</td>\n",
       "      <td>...</td>\n",
       "      <td>511359.564</td>\n",
       "      <td>459200.016</td>\n",
       "      <td>595616.670</td>\n",
       "      <td>727444.212</td>\n",
       "      <td>800000.610</td>\n",
       "      <td>840526.884</td>\n",
       "      <td>878063.358</td>\n",
       "      <td>829444.350</td>\n",
       "      <td>831957.720</td>\n",
       "      <td>846007.092</td>\n",
       "    </tr>\n",
       "    <tr>\n",
       "      <th>3</th>\n",
       "      <td>Indonesia</td>\n",
       "      <td>446482.980</td>\n",
       "      <td>509591.760</td>\n",
       "      <td>334168.680</td>\n",
       "      <td>404597.280</td>\n",
       "      <td>322072.68</td>\n",
       "      <td>274405.740</td>\n",
       "      <td>493235.04</td>\n",
       "      <td>457246.68</td>\n",
       "      <td>437757.300</td>\n",
       "      <td>...</td>\n",
       "      <td>547710.708</td>\n",
       "      <td>413335.398</td>\n",
       "      <td>784202.316</td>\n",
       "      <td>774056.958</td>\n",
       "      <td>656776.638</td>\n",
       "      <td>755128.506</td>\n",
       "      <td>692461.596</td>\n",
       "      <td>651138.918</td>\n",
       "      <td>577055.652</td>\n",
       "      <td>685976.550</td>\n",
       "    </tr>\n",
       "    <tr>\n",
       "      <th>4</th>\n",
       "      <td>Ethiopia</td>\n",
       "      <td>174567.060</td>\n",
       "      <td>175479.840</td>\n",
       "      <td>109510.260</td>\n",
       "      <td>178020.240</td>\n",
       "      <td>165763.80</td>\n",
       "      <td>189919.320</td>\n",
       "      <td>204446.52</td>\n",
       "      <td>183411.84</td>\n",
       "      <td>175663.500</td>\n",
       "      <td>...</td>\n",
       "      <td>333623.088</td>\n",
       "      <td>339024.594</td>\n",
       "      <td>367920.396</td>\n",
       "      <td>374546.634</td>\n",
       "      <td>382995.708</td>\n",
       "      <td>390898.524</td>\n",
       "      <td>428578.776</td>\n",
       "      <td>440803.992</td>\n",
       "      <td>450673.404</td>\n",
       "      <td>440605.974</td>\n",
       "    </tr>\n",
       "  </tbody>\n",
       "</table>\n",
       "<p>5 rows × 31 columns</p>\n",
       "</div>"
      ],
      "text/plain": [
       "     Country         1991         1992         1993         1994        1995  \\\n",
       "0     Brazil  1637137.716  1637609.604  2076201.252  1690018.716  1691522.82   \n",
       "1   Viet Nam    78617.280    86270.880   140426.820   181212.960   217896.54   \n",
       "2   Colombia   863760.000  1078823.820   896812.680   685345.320   777840.00   \n",
       "3  Indonesia   446482.980   509591.760   334168.680   404597.280   322072.68   \n",
       "4   Ethiopia   174567.060   175479.840   109510.260   178020.240   165763.80   \n",
       "\n",
       "          1996        1997        1998         1999  ...         2011  \\\n",
       "0  1083612.132  1751804.58  1568880.24  2205651.198  ...  3325704.612   \n",
       "1   238205.160   345148.86   418736.52   423103.320  ...  1199999.994   \n",
       "2   776281.080   646731.00   727349.76   652077.720  ...   511359.564   \n",
       "3   274405.740   493235.04   457246.68   437757.300  ...   547710.708   \n",
       "4   189919.320   204446.52   183411.84   175663.500  ...   333623.088   \n",
       "\n",
       "          2012         2013         2014         2015         2016  \\\n",
       "0  2915509.734  3325080.072  3281337.984  3198286.014  3172235.256   \n",
       "1  1589976.666  1404126.342  1656586.884  1634431.314  1865402.514   \n",
       "2   459200.016   595616.670   727444.212   800000.610   840526.884   \n",
       "3   413335.398   784202.316   774056.958   656776.638   755128.506   \n",
       "4   339024.594   367920.396   374546.634   382995.708   390898.524   \n",
       "\n",
       "          2017         2018         2019         2020  \n",
       "0  3407290.704  3164389.074  3907847.982  3492642.762  \n",
       "1  1669150.572  2005949.940  1816984.488  1829229.864  \n",
       "2   878063.358   829444.350   831957.720   846007.092  \n",
       "3   692461.596   651138.918   577055.652   685976.550  \n",
       "4   428578.776   440803.992   450673.404   440605.974  \n",
       "\n",
       "[5 rows x 31 columns]"
      ]
     },
     "execution_count": 3,
     "metadata": {},
     "output_type": "execute_result"
    }
   ],
   "source": [
    "# https://www.kaggle.com/code/firefortysix/geospatial-viz-of-global-coffee-production-in-2020/data\n",
    "coffee_production = pd.read_csv('data/coffee-production-by-exporting-countries-1991-2020-ico.csv', \n",
    "                                encoding = \"ISO-8859-1\",\n",
    "                                skip_blank_lines=True)\n",
    "coffee_production.drop(columns='Type',inplace=True)\n",
    "coffee_production.head()"
   ]
  },
  {
   "cell_type": "code",
   "execution_count": 4,
   "id": "aa413634",
   "metadata": {},
   "outputs": [],
   "source": [
    "# transposing dataframe and resetting index\n",
    "coffee_production = coffee_production.set_index('Country').T\n",
    "coffee_production.reset_index(inplace=True)\n",
    "\n",
    "# adjusting index name, eliminating axis name, snakecasing columns\n",
    "coffee_production.rename(columns={'index':'Year'},inplace=True)\n",
    "coffee_production.rename_axis(None,axis=1,inplace=True)\n",
    "coffee_production.columns = [col.lower().replace(' ','_') \n",
    "                            for col in coffee_production.columns]\n",
    "\n",
    "# casting year from object to integer and fixing vietnam name\n",
    "coffee_production.year = coffee_production.year.astype(int)\n",
    "coffee_production.rename(columns={'viet_nam':'vietnam'},inplace=True)"
   ]
  },
  {
   "cell_type": "code",
   "execution_count": 5,
   "id": "e9d7a2d6",
   "metadata": {},
   "outputs": [],
   "source": [
    "col_coffee_production = coffee_production[['year','colombia']]"
   ]
  },
  {
   "cell_type": "markdown",
   "id": "91e936a1",
   "metadata": {},
   "source": [
    "### Retail Prices Dataset"
   ]
  },
  {
   "cell_type": "code",
   "execution_count": 6,
   "id": "c5f4f664",
   "metadata": {},
   "outputs": [],
   "source": [
    "# https://www.ico.org/new_historical.asp?section=Statistics\n",
    "retail_prices = pd.read_excel('data/3b - retail_prices.xlsx')"
   ]
  },
  {
   "cell_type": "code",
   "execution_count": 7,
   "id": "5542b558",
   "metadata": {},
   "outputs": [],
   "source": [
    "# cleaning column names by snakecasing and strpping blankspace\n",
    "retail_prices.columns = [col.lower().strip().replace(' ','_') \n",
    "                         for col in retail_prices.columns]\n",
    "# shortening usa name\n",
    "retail_prices.rename(columns={'united_states_of_america':'usa'},inplace=True)"
   ]
  },
  {
   "cell_type": "code",
   "execution_count": 8,
   "id": "fef8d2d3",
   "metadata": {},
   "outputs": [
    {
     "data": {
      "text/html": [
       "<div>\n",
       "<style scoped>\n",
       "    .dataframe tbody tr th:only-of-type {\n",
       "        vertical-align: middle;\n",
       "    }\n",
       "\n",
       "    .dataframe tbody tr th {\n",
       "        vertical-align: top;\n",
       "    }\n",
       "\n",
       "    .dataframe thead th {\n",
       "        text-align: right;\n",
       "    }\n",
       "</style>\n",
       "<table border=\"1\" class=\"dataframe\">\n",
       "  <thead>\n",
       "    <tr style=\"text-align: right;\">\n",
       "      <th></th>\n",
       "      <th>year</th>\n",
       "      <th>austria</th>\n",
       "      <th>belgium</th>\n",
       "      <th>bulgaria</th>\n",
       "      <th>cyprus</th>\n",
       "      <th>czechia</th>\n",
       "      <th>denmark</th>\n",
       "      <th>finland</th>\n",
       "      <th>france</th>\n",
       "      <th>germany</th>\n",
       "      <th>...</th>\n",
       "      <th>slovakia</th>\n",
       "      <th>slovenia</th>\n",
       "      <th>spain</th>\n",
       "      <th>sweden</th>\n",
       "      <th>japan</th>\n",
       "      <th>norway</th>\n",
       "      <th>russian_federation</th>\n",
       "      <th>switzerland</th>\n",
       "      <th>united_kingdom_1</th>\n",
       "      <th>usa</th>\n",
       "    </tr>\n",
       "  </thead>\n",
       "  <tbody>\n",
       "    <tr>\n",
       "      <th>0</th>\n",
       "      <td>1990</td>\n",
       "      <td>4.90</td>\n",
       "      <td>3.27</td>\n",
       "      <td>NaN</td>\n",
       "      <td>2.83</td>\n",
       "      <td>NaN</td>\n",
       "      <td>3.81</td>\n",
       "      <td>2.98</td>\n",
       "      <td>3.73</td>\n",
       "      <td>3.99</td>\n",
       "      <td>...</td>\n",
       "      <td>NaN</td>\n",
       "      <td>NaN</td>\n",
       "      <td>3.62</td>\n",
       "      <td>3.43</td>\n",
       "      <td>10.26</td>\n",
       "      <td>3.31</td>\n",
       "      <td>NaN</td>\n",
       "      <td>4.83</td>\n",
       "      <td>10.55</td>\n",
       "      <td>2.97</td>\n",
       "    </tr>\n",
       "    <tr>\n",
       "      <th>1</th>\n",
       "      <td>1991</td>\n",
       "      <td>4.57</td>\n",
       "      <td>2.92</td>\n",
       "      <td>NaN</td>\n",
       "      <td>2.80</td>\n",
       "      <td>NaN</td>\n",
       "      <td>3.67</td>\n",
       "      <td>2.72</td>\n",
       "      <td>3.43</td>\n",
       "      <td>3.84</td>\n",
       "      <td>...</td>\n",
       "      <td>NaN</td>\n",
       "      <td>NaN</td>\n",
       "      <td>3.50</td>\n",
       "      <td>3.29</td>\n",
       "      <td>11.88</td>\n",
       "      <td>3.16</td>\n",
       "      <td>NaN</td>\n",
       "      <td>4.36</td>\n",
       "      <td>10.41</td>\n",
       "      <td>2.81</td>\n",
       "    </tr>\n",
       "    <tr>\n",
       "      <th>2</th>\n",
       "      <td>1992</td>\n",
       "      <td>4.99</td>\n",
       "      <td>3.05</td>\n",
       "      <td>NaN</td>\n",
       "      <td>2.87</td>\n",
       "      <td>NaN</td>\n",
       "      <td>3.79</td>\n",
       "      <td>2.46</td>\n",
       "      <td>2.31</td>\n",
       "      <td>4.00</td>\n",
       "      <td>...</td>\n",
       "      <td>NaN</td>\n",
       "      <td>NaN</td>\n",
       "      <td>3.50</td>\n",
       "      <td>3.11</td>\n",
       "      <td>12.62</td>\n",
       "      <td>3.12</td>\n",
       "      <td>NaN</td>\n",
       "      <td>4.52</td>\n",
       "      <td>10.09</td>\n",
       "      <td>2.58</td>\n",
       "    </tr>\n",
       "    <tr>\n",
       "      <th>3</th>\n",
       "      <td>1993</td>\n",
       "      <td>4.97</td>\n",
       "      <td>2.78</td>\n",
       "      <td>NaN</td>\n",
       "      <td>2.60</td>\n",
       "      <td>NaN</td>\n",
       "      <td>3.48</td>\n",
       "      <td>1.94</td>\n",
       "      <td>2.03</td>\n",
       "      <td>3.62</td>\n",
       "      <td>...</td>\n",
       "      <td>NaN</td>\n",
       "      <td>NaN</td>\n",
       "      <td>2.79</td>\n",
       "      <td>2.65</td>\n",
       "      <td>14.57</td>\n",
       "      <td>2.46</td>\n",
       "      <td>NaN</td>\n",
       "      <td>4.27</td>\n",
       "      <td>8.44</td>\n",
       "      <td>2.47</td>\n",
       "    </tr>\n",
       "    <tr>\n",
       "      <th>4</th>\n",
       "      <td>1994</td>\n",
       "      <td>4.58</td>\n",
       "      <td>3.42</td>\n",
       "      <td>NaN</td>\n",
       "      <td>3.18</td>\n",
       "      <td>NaN</td>\n",
       "      <td>4.45</td>\n",
       "      <td>2.73</td>\n",
       "      <td>2.40</td>\n",
       "      <td>4.18</td>\n",
       "      <td>...</td>\n",
       "      <td>NaN</td>\n",
       "      <td>NaN</td>\n",
       "      <td>2.76</td>\n",
       "      <td>3.79</td>\n",
       "      <td>14.69</td>\n",
       "      <td>3.29</td>\n",
       "      <td>NaN</td>\n",
       "      <td>4.50</td>\n",
       "      <td>11.36</td>\n",
       "      <td>3.40</td>\n",
       "    </tr>\n",
       "  </tbody>\n",
       "</table>\n",
       "<p>5 rows × 29 columns</p>\n",
       "</div>"
      ],
      "text/plain": [
       "   year  austria  belgium  bulgaria  cyprus  czechia  denmark  finland  \\\n",
       "0  1990     4.90     3.27       NaN    2.83      NaN     3.81     2.98   \n",
       "1  1991     4.57     2.92       NaN    2.80      NaN     3.67     2.72   \n",
       "2  1992     4.99     3.05       NaN    2.87      NaN     3.79     2.46   \n",
       "3  1993     4.97     2.78       NaN    2.60      NaN     3.48     1.94   \n",
       "4  1994     4.58     3.42       NaN    3.18      NaN     4.45     2.73   \n",
       "\n",
       "   france  germany  ...  slovakia  slovenia  spain  sweden  japan  norway  \\\n",
       "0    3.73     3.99  ...       NaN       NaN   3.62    3.43  10.26    3.31   \n",
       "1    3.43     3.84  ...       NaN       NaN   3.50    3.29  11.88    3.16   \n",
       "2    2.31     4.00  ...       NaN       NaN   3.50    3.11  12.62    3.12   \n",
       "3    2.03     3.62  ...       NaN       NaN   2.79    2.65  14.57    2.46   \n",
       "4    2.40     4.18  ...       NaN       NaN   2.76    3.79  14.69    3.29   \n",
       "\n",
       "   russian_federation  switzerland  united_kingdom_1   usa  \n",
       "0                 NaN         4.83             10.55  2.97  \n",
       "1                 NaN         4.36             10.41  2.81  \n",
       "2                 NaN         4.52             10.09  2.58  \n",
       "3                 NaN         4.27              8.44  2.47  \n",
       "4                 NaN         4.50             11.36  3.40  \n",
       "\n",
       "[5 rows x 29 columns]"
      ]
     },
     "execution_count": 8,
     "metadata": {},
     "output_type": "execute_result"
    }
   ],
   "source": [
    "# Will avoid imputing missing data until necessary\n",
    "retail_prices.head()"
   ]
  },
  {
   "cell_type": "markdown",
   "id": "cd8cb5d7",
   "metadata": {},
   "source": [
    "### USA Retail Price"
   ]
  },
  {
   "cell_type": "code",
   "execution_count": 9,
   "id": "9a2f623f",
   "metadata": {},
   "outputs": [
    {
     "data": {
      "image/png": "[encoded data removed]",
      "text/plain": [
       "<Figure size 640x480 with 1 Axes>"
      ]
     },
     "metadata": {},
     "output_type": "display_data"
    }
   ],
   "source": [
    "ax = sns.scatterplot(x=retail_prices.year,y=retail_prices.usa)\n",
    "\n",
    "sns.set(rc={'figure.figsize':(10,6)})\n",
    "\n",
    "ax.set_title('United States Coffee Prices From 1990 - 2020 (USD)',fontsize=20)\n",
    "ax.set_xlabel('Year',fontsize=18)\n",
    "ax.set_ylabel('Price of Coffee',fontsize=18);"
   ]
  },
  {
   "cell_type": "markdown",
   "id": "5d0758a4",
   "metadata": {},
   "source": [
    "## Colombia Temperature Changes"
   ]
  },
  {
   "cell_type": "code",
   "execution_count": 10,
   "id": "7827b788",
   "metadata": {},
   "outputs": [
    {
     "data": {
      "text/html": [
       "<div>\n",
       "<style scoped>\n",
       "    .dataframe tbody tr th:only-of-type {\n",
       "        vertical-align: middle;\n",
       "    }\n",
       "\n",
       "    .dataframe tbody tr th {\n",
       "        vertical-align: top;\n",
       "    }\n",
       "\n",
       "    .dataframe thead th {\n",
       "        text-align: right;\n",
       "    }\n",
       "</style>\n",
       "<table border=\"1\" class=\"dataframe\">\n",
       "  <thead>\n",
       "    <tr style=\"text-align: right;\">\n",
       "      <th></th>\n",
       "      <th>Domain Code</th>\n",
       "      <th>Domain</th>\n",
       "      <th>Area Code (FAO)</th>\n",
       "      <th>Area</th>\n",
       "      <th>Element Code</th>\n",
       "      <th>Element</th>\n",
       "      <th>Months Code</th>\n",
       "      <th>Months</th>\n",
       "      <th>Year Code</th>\n",
       "      <th>Year</th>\n",
       "      <th>Unit</th>\n",
       "      <th>Value</th>\n",
       "      <th>Flag</th>\n",
       "      <th>Flag Description</th>\n",
       "    </tr>\n",
       "  </thead>\n",
       "  <tbody>\n",
       "    <tr>\n",
       "      <th>0</th>\n",
       "      <td>ET</td>\n",
       "      <td>Temperature change</td>\n",
       "      <td>2</td>\n",
       "      <td>Afghanistan</td>\n",
       "      <td>7271</td>\n",
       "      <td>Temperature change</td>\n",
       "      <td>7001</td>\n",
       "      <td>January</td>\n",
       "      <td>1961</td>\n",
       "      <td>1961</td>\n",
       "      <td>?C</td>\n",
       "      <td>0.746</td>\n",
       "      <td>Fc</td>\n",
       "      <td>Calculated data</td>\n",
       "    </tr>\n",
       "    <tr>\n",
       "      <th>1</th>\n",
       "      <td>ET</td>\n",
       "      <td>Temperature change</td>\n",
       "      <td>2</td>\n",
       "      <td>Afghanistan</td>\n",
       "      <td>7271</td>\n",
       "      <td>Temperature change</td>\n",
       "      <td>7001</td>\n",
       "      <td>January</td>\n",
       "      <td>1962</td>\n",
       "      <td>1962</td>\n",
       "      <td>?C</td>\n",
       "      <td>0.009</td>\n",
       "      <td>Fc</td>\n",
       "      <td>Calculated data</td>\n",
       "    </tr>\n",
       "    <tr>\n",
       "      <th>2</th>\n",
       "      <td>ET</td>\n",
       "      <td>Temperature change</td>\n",
       "      <td>2</td>\n",
       "      <td>Afghanistan</td>\n",
       "      <td>7271</td>\n",
       "      <td>Temperature change</td>\n",
       "      <td>7001</td>\n",
       "      <td>January</td>\n",
       "      <td>1963</td>\n",
       "      <td>1963</td>\n",
       "      <td>?C</td>\n",
       "      <td>2.695</td>\n",
       "      <td>Fc</td>\n",
       "      <td>Calculated data</td>\n",
       "    </tr>\n",
       "    <tr>\n",
       "      <th>3</th>\n",
       "      <td>ET</td>\n",
       "      <td>Temperature change</td>\n",
       "      <td>2</td>\n",
       "      <td>Afghanistan</td>\n",
       "      <td>7271</td>\n",
       "      <td>Temperature change</td>\n",
       "      <td>7001</td>\n",
       "      <td>January</td>\n",
       "      <td>1964</td>\n",
       "      <td>1964</td>\n",
       "      <td>?C</td>\n",
       "      <td>-5.277</td>\n",
       "      <td>Fc</td>\n",
       "      <td>Calculated data</td>\n",
       "    </tr>\n",
       "    <tr>\n",
       "      <th>4</th>\n",
       "      <td>ET</td>\n",
       "      <td>Temperature change</td>\n",
       "      <td>2</td>\n",
       "      <td>Afghanistan</td>\n",
       "      <td>7271</td>\n",
       "      <td>Temperature change</td>\n",
       "      <td>7001</td>\n",
       "      <td>January</td>\n",
       "      <td>1965</td>\n",
       "      <td>1965</td>\n",
       "      <td>?C</td>\n",
       "      <td>1.827</td>\n",
       "      <td>Fc</td>\n",
       "      <td>Calculated data</td>\n",
       "    </tr>\n",
       "  </tbody>\n",
       "</table>\n",
       "</div>"
      ],
      "text/plain": [
       "  Domain Code              Domain  Area Code (FAO)         Area  Element Code  \\\n",
       "0          ET  Temperature change                2  Afghanistan          7271   \n",
       "1          ET  Temperature change                2  Afghanistan          7271   \n",
       "2          ET  Temperature change                2  Afghanistan          7271   \n",
       "3          ET  Temperature change                2  Afghanistan          7271   \n",
       "4          ET  Temperature change                2  Afghanistan          7271   \n",
       "\n",
       "              Element  Months Code   Months  Year Code  Year Unit  Value Flag  \\\n",
       "0  Temperature change         7001  January       1961  1961   ?C  0.746   Fc   \n",
       "1  Temperature change         7001  January       1962  1962   ?C  0.009   Fc   \n",
       "2  Temperature change         7001  January       1963  1963   ?C  2.695   Fc   \n",
       "3  Temperature change         7001  January       1964  1964   ?C -5.277   Fc   \n",
       "4  Temperature change         7001  January       1965  1965   ?C  1.827   Fc   \n",
       "\n",
       "  Flag Description  \n",
       "0  Calculated data  \n",
       "1  Calculated data  \n",
       "2  Calculated data  \n",
       "3  Calculated data  \n",
       "4  Calculated data  "
      ]
     },
     "execution_count": 10,
     "metadata": {},
     "output_type": "execute_result"
    }
   ],
   "source": [
    "# https://www.kaggle.com/datasets/sevgisarac/temperature-change\n",
    "global_warming_df = pd.read_csv('data/FAOSTAT_data_1-10-2022.csv')\n",
    "global_warming_df.head()"
   ]
  },
  {
   "cell_type": "markdown",
   "id": "f9f202e0",
   "metadata": {},
   "source": [
    "### Global Warming Dataset"
   ]
  },
  {
   "cell_type": "code",
   "execution_count": 11,
   "id": "7eacac44",
   "metadata": {},
   "outputs": [],
   "source": [
    "# Assigning Colombia as its own DataFrame\n",
    "colombia_temp_change = global_warming_df[global_warming_df.Area=='Colombia']"
   ]
  },
  {
   "cell_type": "code",
   "execution_count": 12,
   "id": "7998a62c",
   "metadata": {},
   "outputs": [],
   "source": [
    "# cleaning columns\n",
    "colombia_temp_change.columns = [col.lower().strip().replace(' ','_') \n",
    " for col in colombia_temp_change.columns]"
   ]
  },
  {
   "cell_type": "code",
   "execution_count": 13,
   "id": "a3010443",
   "metadata": {},
   "outputs": [],
   "source": [
    "# grabbing only meterological year as months for easy plotting/visualization\n",
    "colombia_yearly_temp_change = colombia_temp_change[colombia_temp_change['months']=='Meteorological year'].sort_values(by=['months','year'],ascending=False)"
   ]
  },
  {
   "cell_type": "code",
   "execution_count": 14,
   "id": "52f29a83",
   "metadata": {},
   "outputs": [
    {
     "data": {
      "text/html": [
       "<div>\n",
       "<style scoped>\n",
       "    .dataframe tbody tr th:only-of-type {\n",
       "        vertical-align: middle;\n",
       "    }\n",
       "\n",
       "    .dataframe tbody tr th {\n",
       "        vertical-align: top;\n",
       "    }\n",
       "\n",
       "    .dataframe thead th {\n",
       "        text-align: right;\n",
       "    }\n",
       "</style>\n",
       "<table border=\"1\" class=\"dataframe\">\n",
       "  <thead>\n",
       "    <tr style=\"text-align: right;\">\n",
       "      <th></th>\n",
       "      <th>domain_code</th>\n",
       "      <th>domain</th>\n",
       "      <th>area_code_(fao)</th>\n",
       "      <th>area</th>\n",
       "      <th>element_code</th>\n",
       "      <th>element</th>\n",
       "      <th>months_code</th>\n",
       "      <th>months</th>\n",
       "      <th>year_code</th>\n",
       "      <th>year</th>\n",
       "      <th>unit</th>\n",
       "      <th>value</th>\n",
       "      <th>flag</th>\n",
       "      <th>flag_description</th>\n",
       "    </tr>\n",
       "  </thead>\n",
       "  <tbody>\n",
       "    <tr>\n",
       "      <th>48891</th>\n",
       "      <td>ET</td>\n",
       "      <td>Temperature change</td>\n",
       "      <td>44</td>\n",
       "      <td>Colombia</td>\n",
       "      <td>7271</td>\n",
       "      <td>Temperature change</td>\n",
       "      <td>7020</td>\n",
       "      <td>Meteorological year</td>\n",
       "      <td>2020</td>\n",
       "      <td>2020</td>\n",
       "      <td>?C</td>\n",
       "      <td>1.391</td>\n",
       "      <td>Fc</td>\n",
       "      <td>Calculated data</td>\n",
       "    </tr>\n",
       "    <tr>\n",
       "      <th>48890</th>\n",
       "      <td>ET</td>\n",
       "      <td>Temperature change</td>\n",
       "      <td>44</td>\n",
       "      <td>Colombia</td>\n",
       "      <td>7271</td>\n",
       "      <td>Temperature change</td>\n",
       "      <td>7020</td>\n",
       "      <td>Meteorological year</td>\n",
       "      <td>2019</td>\n",
       "      <td>2019</td>\n",
       "      <td>?C</td>\n",
       "      <td>1.228</td>\n",
       "      <td>Fc</td>\n",
       "      <td>Calculated data</td>\n",
       "    </tr>\n",
       "    <tr>\n",
       "      <th>48889</th>\n",
       "      <td>ET</td>\n",
       "      <td>Temperature change</td>\n",
       "      <td>44</td>\n",
       "      <td>Colombia</td>\n",
       "      <td>7271</td>\n",
       "      <td>Temperature change</td>\n",
       "      <td>7020</td>\n",
       "      <td>Meteorological year</td>\n",
       "      <td>2018</td>\n",
       "      <td>2018</td>\n",
       "      <td>?C</td>\n",
       "      <td>0.972</td>\n",
       "      <td>Fc</td>\n",
       "      <td>Calculated data</td>\n",
       "    </tr>\n",
       "    <tr>\n",
       "      <th>48888</th>\n",
       "      <td>ET</td>\n",
       "      <td>Temperature change</td>\n",
       "      <td>44</td>\n",
       "      <td>Colombia</td>\n",
       "      <td>7271</td>\n",
       "      <td>Temperature change</td>\n",
       "      <td>7020</td>\n",
       "      <td>Meteorological year</td>\n",
       "      <td>2017</td>\n",
       "      <td>2017</td>\n",
       "      <td>?C</td>\n",
       "      <td>0.625</td>\n",
       "      <td>Fc</td>\n",
       "      <td>Calculated data</td>\n",
       "    </tr>\n",
       "    <tr>\n",
       "      <th>48887</th>\n",
       "      <td>ET</td>\n",
       "      <td>Temperature change</td>\n",
       "      <td>44</td>\n",
       "      <td>Colombia</td>\n",
       "      <td>7271</td>\n",
       "      <td>Temperature change</td>\n",
       "      <td>7020</td>\n",
       "      <td>Meteorological year</td>\n",
       "      <td>2016</td>\n",
       "      <td>2016</td>\n",
       "      <td>?C</td>\n",
       "      <td>0.941</td>\n",
       "      <td>Fc</td>\n",
       "      <td>Calculated data</td>\n",
       "    </tr>\n",
       "  </tbody>\n",
       "</table>\n",
       "</div>"
      ],
      "text/plain": [
       "      domain_code              domain  area_code_(fao)      area  \\\n",
       "48891          ET  Temperature change               44  Colombia   \n",
       "48890          ET  Temperature change               44  Colombia   \n",
       "48889          ET  Temperature change               44  Colombia   \n",
       "48888          ET  Temperature change               44  Colombia   \n",
       "48887          ET  Temperature change               44  Colombia   \n",
       "\n",
       "       element_code             element  months_code               months  \\\n",
       "48891          7271  Temperature change         7020  Meteorological year   \n",
       "48890          7271  Temperature change         7020  Meteorological year   \n",
       "48889          7271  Temperature change         7020  Meteorological year   \n",
       "48888          7271  Temperature change         7020  Meteorological year   \n",
       "48887          7271  Temperature change         7020  Meteorological year   \n",
       "\n",
       "       year_code  year unit  value flag flag_description  \n",
       "48891       2020  2020   ?C  1.391   Fc  Calculated data  \n",
       "48890       2019  2019   ?C  1.228   Fc  Calculated data  \n",
       "48889       2018  2018   ?C  0.972   Fc  Calculated data  \n",
       "48888       2017  2017   ?C  0.625   Fc  Calculated data  \n",
       "48887       2016  2016   ?C  0.941   Fc  Calculated data  "
      ]
     },
     "execution_count": 14,
     "metadata": {},
     "output_type": "execute_result"
    }
   ],
   "source": [
    "colombia_yearly_temp_change.head()"
   ]
  },
  {
   "cell_type": "code",
   "execution_count": 15,
   "id": "c2469278",
   "metadata": {},
   "outputs": [],
   "source": [
    "colombia_yearly_temp_change = colombia_yearly_temp_change[['year','value']]"
   ]
  },
  {
   "cell_type": "code",
   "execution_count": 16,
   "id": "905c0ab1",
   "metadata": {},
   "outputs": [
    {
     "data": {
      "image/png": "[encoded data removed]",
      "text/plain": [
       "<Figure size 1000x600 with 1 Axes>"
      ]
     },
     "metadata": {},
     "output_type": "display_data"
    }
   ],
   "source": [
    "ax = sns.scatterplot(x=colombia_yearly_temp_change.year,\n",
    "                     y=colombia_yearly_temp_change.value);\n",
    "\n",
    "sns.set(rc={'figure.figsize':(10,6)})\n",
    "\n",
    "ax.set_title('The Change in Temperature from 1960-2020 in Colombia',fontsize=20)\n",
    "ax.set_xlabel('Year',fontsize=18)\n",
    "ax.set_ylabel('Temperature Change',fontsize=18);"
   ]
  },
  {
   "cell_type": "markdown",
   "id": "20221b46",
   "metadata": {},
   "source": [
    "### Quick Interpretation:\n",
    "- There is a clear increase in temperature that is especially prevelant since 2000"
   ]
  },
  {
   "cell_type": "markdown",
   "id": "a81b614f",
   "metadata": {},
   "source": [
    "## Colombia Production"
   ]
  },
  {
   "cell_type": "code",
   "execution_count": 17,
   "id": "3a5f6053",
   "metadata": {},
   "outputs": [],
   "source": [
    "# reading in and cleaning production dataset\n",
    "production = pd.read_csv('data/Colombia_data/colombia_production.csv')\n",
    "production.columns=[col.lower().strip().replace(' ','_').replace('/','_') \n",
    "                    for col in production.columns]\n",
    "production.crop_year = [each[:4] for each in production.crop_year]\n",
    "production.rename(columns={'crop_year':'year'},inplace=True)"
   ]
  },
  {
   "cell_type": "code",
   "execution_count": 18,
   "id": "f88401f4",
   "metadata": {},
   "outputs": [],
   "source": [
    "col_production = production\n",
    "col_production.year = col_production.year.astype(int)"
   ]
  },
  {
   "cell_type": "code",
   "execution_count": 19,
   "id": "848012e1",
   "metadata": {},
   "outputs": [
    {
     "data": {
      "image/png": "[encoded data removed]",
      "text/plain": [
       "<Figure size 1000x600 with 1 Axes>"
      ]
     },
     "metadata": {},
     "output_type": "display_data"
    }
   ],
   "source": [
    "ax = sns.scatterplot(x=production.year,\n",
    "                     y=production.colombia);\n",
    "\n",
    "sns.set(rc={'figure.figsize':(10,6)});\n",
    "\n",
    "ax.set_xticklabels([]);\n",
    "\n",
    "ax.set_title('Yearly Coffee Production in Colombia from 1990-2020',fontsize=20)\n",
    "ax.set_xlabel('1990-2020',fontsize=18)\n",
    "ax.set_ylabel('Production',fontsize=18);"
   ]
  },
  {
   "cell_type": "code",
   "execution_count": null,
   "id": "9a43a8da-a80f-47ec-a61f-d317d20ce462",
   "metadata": {},
   "outputs": [],
   "source": []
  },
  {
   "cell_type": "markdown",
   "id": "8349e99d",
   "metadata": {},
   "source": [
    "## Global Temperature Change\n",
    "https://www.climate.gov/maps-data/dataset/global-temperature-anomalies-graphing-tool"
   ]
  },
  {
   "cell_type": "code",
   "execution_count": 20,
   "id": "2ee98ca5",
   "metadata": {},
   "outputs": [
    {
     "data": {
      "text/html": [
       "<div>\n",
       "<style scoped>\n",
       "    .dataframe tbody tr th:only-of-type {\n",
       "        vertical-align: middle;\n",
       "    }\n",
       "\n",
       "    .dataframe tbody tr th {\n",
       "        vertical-align: top;\n",
       "    }\n",
       "\n",
       "    .dataframe thead th {\n",
       "        text-align: right;\n",
       "    }\n",
       "</style>\n",
       "<table border=\"1\" class=\"dataframe\">\n",
       "  <thead>\n",
       "    <tr style=\"text-align: right;\">\n",
       "      <th></th>\n",
       "      <th>year</th>\n",
       "      <th>global_change_in_celsius</th>\n",
       "    </tr>\n",
       "  </thead>\n",
       "  <tbody>\n",
       "    <tr>\n",
       "      <th>0</th>\n",
       "      <td>1980</td>\n",
       "      <td>0.32</td>\n",
       "    </tr>\n",
       "    <tr>\n",
       "      <th>1</th>\n",
       "      <td>1981</td>\n",
       "      <td>0.53</td>\n",
       "    </tr>\n",
       "    <tr>\n",
       "      <th>2</th>\n",
       "      <td>1982</td>\n",
       "      <td>0.12</td>\n",
       "    </tr>\n",
       "    <tr>\n",
       "      <th>3</th>\n",
       "      <td>1983</td>\n",
       "      <td>0.51</td>\n",
       "    </tr>\n",
       "    <tr>\n",
       "      <th>4</th>\n",
       "      <td>1984</td>\n",
       "      <td>0.07</td>\n",
       "    </tr>\n",
       "  </tbody>\n",
       "</table>\n",
       "</div>"
      ],
      "text/plain": [
       "   year  global_change_in_celsius\n",
       "0  1980                      0.32\n",
       "1  1981                      0.53\n",
       "2  1982                      0.12\n",
       "3  1983                      0.51\n",
       "4  1984                      0.07"
      ]
     },
     "execution_count": 20,
     "metadata": {},
     "output_type": "execute_result"
    }
   ],
   "source": [
    "global_temp_change = pd.read_csv('data/global_temp_change.csv')\n",
    "global_temp_change.head()"
   ]
  },
  {
   "cell_type": "code",
   "execution_count": 21,
   "id": "a5138f33",
   "metadata": {},
   "outputs": [
    {
     "data": {
      "image/png": "[encoded data removed]",
      "text/plain": [
       "<Figure size 1000x600 with 1 Axes>"
      ]
     },
     "metadata": {},
     "output_type": "display_data"
    }
   ],
   "source": [
    "ax = sns.barplot(x=global_temp_change.year,\n",
    "                 y=global_temp_change.global_change_in_celsius);\n",
    "\n",
    "sns.set(rc={'figure.figsize':(10,6)});\n",
    "\n",
    "ax.set_title('Average Increase In Celsius of Global Land Temperature',fontsize=20)\n",
    "ax.set_xlabel('1980-2021',fontsize=18)\n",
    "ax.set_ylabel('Temperature Change',fontsize=18);\n",
    "ax.set_xticklabels(ax.get_xticklabels(),rotation = 90);"
   ]
  },
  {
   "cell_type": "markdown",
   "id": "c45397c1",
   "metadata": {},
   "source": [
    "## Merged Data"
   ]
  },
  {
   "cell_type": "markdown",
   "id": "0cb1a3aa",
   "metadata": {},
   "source": [
    "**Dataframes used in this notebook**\n",
    "- col_coffee_production\n",
    "- retail_prices - Lara has\n",
    "- colombia_yearly_temp_change\n",
    "- col_production\n",
    "- global_temp_change"
   ]
  },
  {
   "cell_type": "code",
   "execution_count": 22,
   "id": "0e85e896",
   "metadata": {},
   "outputs": [
    {
     "data": {
      "text/html": [
       "<div>\n",
       "<style scoped>\n",
       "    .dataframe tbody tr th:only-of-type {\n",
       "        vertical-align: middle;\n",
       "    }\n",
       "\n",
       "    .dataframe tbody tr th {\n",
       "        vertical-align: top;\n",
       "    }\n",
       "\n",
       "    .dataframe thead th {\n",
       "        text-align: right;\n",
       "    }\n",
       "</style>\n",
       "<table border=\"1\" class=\"dataframe\">\n",
       "  <thead>\n",
       "    <tr style=\"text-align: right;\">\n",
       "      <th></th>\n",
       "      <th>year</th>\n",
       "      <th>colombia</th>\n",
       "    </tr>\n",
       "  </thead>\n",
       "  <tbody>\n",
       "    <tr>\n",
       "      <th>0</th>\n",
       "      <td>1991</td>\n",
       "      <td>863760.00</td>\n",
       "    </tr>\n",
       "    <tr>\n",
       "      <th>1</th>\n",
       "      <td>1992</td>\n",
       "      <td>1078823.82</td>\n",
       "    </tr>\n",
       "    <tr>\n",
       "      <th>2</th>\n",
       "      <td>1993</td>\n",
       "      <td>896812.68</td>\n",
       "    </tr>\n",
       "    <tr>\n",
       "      <th>3</th>\n",
       "      <td>1994</td>\n",
       "      <td>685345.32</td>\n",
       "    </tr>\n",
       "    <tr>\n",
       "      <th>4</th>\n",
       "      <td>1995</td>\n",
       "      <td>777840.00</td>\n",
       "    </tr>\n",
       "  </tbody>\n",
       "</table>\n",
       "</div>"
      ],
      "text/plain": [
       "   year    colombia\n",
       "0  1991   863760.00\n",
       "1  1992  1078823.82\n",
       "2  1993   896812.68\n",
       "3  1994   685345.32\n",
       "4  1995   777840.00"
      ]
     },
     "execution_count": 22,
     "metadata": {},
     "output_type": "execute_result"
    }
   ],
   "source": [
    "col_coffee_production.head()"
   ]
  },
  {
   "cell_type": "code",
   "execution_count": 23,
   "id": "5d987306",
   "metadata": {},
   "outputs": [
    {
     "data": {
      "text/html": [
       "<div>\n",
       "<style scoped>\n",
       "    .dataframe tbody tr th:only-of-type {\n",
       "        vertical-align: middle;\n",
       "    }\n",
       "\n",
       "    .dataframe tbody tr th {\n",
       "        vertical-align: top;\n",
       "    }\n",
       "\n",
       "    .dataframe thead th {\n",
       "        text-align: right;\n",
       "    }\n",
       "</style>\n",
       "<table border=\"1\" class=\"dataframe\">\n",
       "  <thead>\n",
       "    <tr style=\"text-align: right;\">\n",
       "      <th></th>\n",
       "      <th>year</th>\n",
       "      <th>value</th>\n",
       "    </tr>\n",
       "  </thead>\n",
       "  <tbody>\n",
       "    <tr>\n",
       "      <th>48891</th>\n",
       "      <td>2020</td>\n",
       "      <td>1.391</td>\n",
       "    </tr>\n",
       "    <tr>\n",
       "      <th>48890</th>\n",
       "      <td>2019</td>\n",
       "      <td>1.228</td>\n",
       "    </tr>\n",
       "    <tr>\n",
       "      <th>48889</th>\n",
       "      <td>2018</td>\n",
       "      <td>0.972</td>\n",
       "    </tr>\n",
       "    <tr>\n",
       "      <th>48888</th>\n",
       "      <td>2017</td>\n",
       "      <td>0.625</td>\n",
       "    </tr>\n",
       "    <tr>\n",
       "      <th>48887</th>\n",
       "      <td>2016</td>\n",
       "      <td>0.941</td>\n",
       "    </tr>\n",
       "  </tbody>\n",
       "</table>\n",
       "</div>"
      ],
      "text/plain": [
       "       year  value\n",
       "48891  2020  1.391\n",
       "48890  2019  1.228\n",
       "48889  2018  0.972\n",
       "48888  2017  0.625\n",
       "48887  2016  0.941"
      ]
     },
     "execution_count": 23,
     "metadata": {},
     "output_type": "execute_result"
    }
   ],
   "source": [
    "colombia_yearly_temp_change.head()"
   ]
  },
  {
   "cell_type": "code",
   "execution_count": 24,
   "id": "ef1b06b7",
   "metadata": {},
   "outputs": [
    {
     "data": {
      "text/html": [
       "<div>\n",
       "<style scoped>\n",
       "    .dataframe tbody tr th:only-of-type {\n",
       "        vertical-align: middle;\n",
       "    }\n",
       "\n",
       "    .dataframe tbody tr th {\n",
       "        vertical-align: top;\n",
       "    }\n",
       "\n",
       "    .dataframe thead th {\n",
       "        text-align: right;\n",
       "    }\n",
       "</style>\n",
       "<table border=\"1\" class=\"dataframe\">\n",
       "  <thead>\n",
       "    <tr style=\"text-align: right;\">\n",
       "      <th></th>\n",
       "      <th>year</th>\n",
       "      <th>colombia</th>\n",
       "    </tr>\n",
       "  </thead>\n",
       "  <tbody>\n",
       "    <tr>\n",
       "      <th>0</th>\n",
       "      <td>1990</td>\n",
       "      <td>14396.000</td>\n",
       "    </tr>\n",
       "    <tr>\n",
       "      <th>1</th>\n",
       "      <td>1991</td>\n",
       "      <td>17980.397</td>\n",
       "    </tr>\n",
       "    <tr>\n",
       "      <th>2</th>\n",
       "      <td>1992</td>\n",
       "      <td>14946.878</td>\n",
       "    </tr>\n",
       "    <tr>\n",
       "      <th>3</th>\n",
       "      <td>1993</td>\n",
       "      <td>11422.422</td>\n",
       "    </tr>\n",
       "    <tr>\n",
       "      <th>4</th>\n",
       "      <td>1994</td>\n",
       "      <td>12964.000</td>\n",
       "    </tr>\n",
       "  </tbody>\n",
       "</table>\n",
       "</div>"
      ],
      "text/plain": [
       "   year   colombia\n",
       "0  1990  14396.000\n",
       "1  1991  17980.397\n",
       "2  1992  14946.878\n",
       "3  1993  11422.422\n",
       "4  1994  12964.000"
      ]
     },
     "execution_count": 24,
     "metadata": {},
     "output_type": "execute_result"
    }
   ],
   "source": [
    "col_production.head()"
   ]
  },
  {
   "cell_type": "code",
   "execution_count": 25,
   "id": "69c31967",
   "metadata": {},
   "outputs": [
    {
     "data": {
      "text/html": [
       "<div>\n",
       "<style scoped>\n",
       "    .dataframe tbody tr th:only-of-type {\n",
       "        vertical-align: middle;\n",
       "    }\n",
       "\n",
       "    .dataframe tbody tr th {\n",
       "        vertical-align: top;\n",
       "    }\n",
       "\n",
       "    .dataframe thead th {\n",
       "        text-align: right;\n",
       "    }\n",
       "</style>\n",
       "<table border=\"1\" class=\"dataframe\">\n",
       "  <thead>\n",
       "    <tr style=\"text-align: right;\">\n",
       "      <th></th>\n",
       "      <th>year</th>\n",
       "      <th>global_change_in_celsius</th>\n",
       "    </tr>\n",
       "  </thead>\n",
       "  <tbody>\n",
       "    <tr>\n",
       "      <th>0</th>\n",
       "      <td>1980</td>\n",
       "      <td>0.32</td>\n",
       "    </tr>\n",
       "    <tr>\n",
       "      <th>1</th>\n",
       "      <td>1981</td>\n",
       "      <td>0.53</td>\n",
       "    </tr>\n",
       "    <tr>\n",
       "      <th>2</th>\n",
       "      <td>1982</td>\n",
       "      <td>0.12</td>\n",
       "    </tr>\n",
       "    <tr>\n",
       "      <th>3</th>\n",
       "      <td>1983</td>\n",
       "      <td>0.51</td>\n",
       "    </tr>\n",
       "    <tr>\n",
       "      <th>4</th>\n",
       "      <td>1984</td>\n",
       "      <td>0.07</td>\n",
       "    </tr>\n",
       "  </tbody>\n",
       "</table>\n",
       "</div>"
      ],
      "text/plain": [
       "   year  global_change_in_celsius\n",
       "0  1980                      0.32\n",
       "1  1981                      0.53\n",
       "2  1982                      0.12\n",
       "3  1983                      0.51\n",
       "4  1984                      0.07"
      ]
     },
     "execution_count": 25,
     "metadata": {},
     "output_type": "execute_result"
    }
   ],
   "source": [
    "global_temp_change.head()"
   ]
  },
  {
   "cell_type": "code",
   "execution_count": 26,
   "id": "461fde8d",
   "metadata": {},
   "outputs": [],
   "source": [
    "merge_1 = pd.merge(col_production,global_temp_change,on='year',how='right')"
   ]
  },
  {
   "cell_type": "code",
   "execution_count": 27,
   "id": "6673e9f4",
   "metadata": {},
   "outputs": [],
   "source": [
    "merge_2 = pd.merge(col_coffee_production,colombia_yearly_temp_change,on='year',how='right')"
   ]
  },
  {
   "cell_type": "code",
   "execution_count": 28,
   "id": "3e38ec0a",
   "metadata": {},
   "outputs": [],
   "source": [
    "col_capparelli_df = pd.merge(merge_1,merge_2,on='year')"
   ]
  },
  {
   "cell_type": "code",
   "execution_count": 29,
   "id": "f57fade5",
   "metadata": {},
   "outputs": [],
   "source": [
    "colombia_df = col_capparelli_df.iloc[10:41]"
   ]
  },
  {
   "cell_type": "code",
   "execution_count": 30,
   "id": "5c76cbd5",
   "metadata": {},
   "outputs": [
    {
     "name": "stderr",
     "output_type": "stream",
     "text": [
      "/var/folders/pj/j8qg9t055bx9yt_m61ngrhyh0000gn/T/ipykernel_89810/239219788.py:1: SettingWithCopyWarning: \n",
      "A value is trying to be set on a copy of a slice from a DataFrame\n",
      "\n",
      "See the caveats in the documentation: https://pandas.pydata.org/pandas-docs/stable/user_guide/indexing.html#returning-a-view-versus-a-copy\n",
      "  colombia_df.rename(columns={'colombia_x':'col_prod_60kg_bags','colombia_y':'col_annual_crop_yield',\n"
     ]
    }
   ],
   "source": [
    "colombia_df.rename(columns={'colombia_x':'col_prod_60kg_bags','colombia_y':'col_annual_crop_yield',\n",
    "                            'value':'col_annual_celsius_change'},inplace=True)"
   ]
  },
  {
   "cell_type": "code",
   "execution_count": 31,
   "id": "8f957e72",
   "metadata": {},
   "outputs": [],
   "source": [
    "colombia_df = colombia_df[['year','col_annual_crop_yield',\n",
    "                           'col_prod_60kg_bags','col_annual_celsius_change',\n",
    "                           'global_change_in_celsius']]"
   ]
  },
  {
   "cell_type": "code",
   "execution_count": 32,
   "id": "be7547f7",
   "metadata": {},
   "outputs": [],
   "source": [
    "colombia_df.to_csv('data/colombia_capp.csv',index=False)"
   ]
  },
  {
   "cell_type": "code",
   "execution_count": 33,
   "id": "73c0990f",
   "metadata": {},
   "outputs": [
    {
     "data": {
      "text/html": [
       "<div>\n",
       "<style scoped>\n",
       "    .dataframe tbody tr th:only-of-type {\n",
       "        vertical-align: middle;\n",
       "    }\n",
       "\n",
       "    .dataframe tbody tr th {\n",
       "        vertical-align: top;\n",
       "    }\n",
       "\n",
       "    .dataframe thead th {\n",
       "        text-align: right;\n",
       "    }\n",
       "</style>\n",
       "<table border=\"1\" class=\"dataframe\">\n",
       "  <thead>\n",
       "    <tr style=\"text-align: right;\">\n",
       "      <th></th>\n",
       "      <th>year</th>\n",
       "      <th>col_annual_crop_yield</th>\n",
       "      <th>col_prod_60kg_bags</th>\n",
       "      <th>col_annual_celsius_change</th>\n",
       "      <th>global_change_in_celsius</th>\n",
       "    </tr>\n",
       "  </thead>\n",
       "  <tbody>\n",
       "    <tr>\n",
       "      <th>10</th>\n",
       "      <td>1990</td>\n",
       "      <td>NaN</td>\n",
       "      <td>14396.000</td>\n",
       "      <td>0.258</td>\n",
       "      <td>0.66</td>\n",
       "    </tr>\n",
       "    <tr>\n",
       "      <th>11</th>\n",
       "      <td>1991</td>\n",
       "      <td>863760.00</td>\n",
       "      <td>17980.397</td>\n",
       "      <td>0.347</td>\n",
       "      <td>0.53</td>\n",
       "    </tr>\n",
       "    <tr>\n",
       "      <th>12</th>\n",
       "      <td>1992</td>\n",
       "      <td>1078823.82</td>\n",
       "      <td>14946.878</td>\n",
       "      <td>0.532</td>\n",
       "      <td>0.25</td>\n",
       "    </tr>\n",
       "    <tr>\n",
       "      <th>13</th>\n",
       "      <td>1993</td>\n",
       "      <td>896812.68</td>\n",
       "      <td>11422.422</td>\n",
       "      <td>0.157</td>\n",
       "      <td>0.36</td>\n",
       "    </tr>\n",
       "    <tr>\n",
       "      <th>14</th>\n",
       "      <td>1994</td>\n",
       "      <td>685345.32</td>\n",
       "      <td>12964.000</td>\n",
       "      <td>0.162</td>\n",
       "      <td>0.49</td>\n",
       "    </tr>\n",
       "  </tbody>\n",
       "</table>\n",
       "</div>"
      ],
      "text/plain": [
       "    year  col_annual_crop_yield  col_prod_60kg_bags  \\\n",
       "10  1990                    NaN           14396.000   \n",
       "11  1991              863760.00           17980.397   \n",
       "12  1992             1078823.82           14946.878   \n",
       "13  1993              896812.68           11422.422   \n",
       "14  1994              685345.32           12964.000   \n",
       "\n",
       "    col_annual_celsius_change  global_change_in_celsius  \n",
       "10                      0.258                      0.66  \n",
       "11                      0.347                      0.53  \n",
       "12                      0.532                      0.25  \n",
       "13                      0.157                      0.36  \n",
       "14                      0.162                      0.49  "
      ]
     },
     "execution_count": 33,
     "metadata": {},
     "output_type": "execute_result"
    }
   ],
   "source": [
    "colombia_df.head()"
   ]
  },
  {
   "cell_type": "markdown",
   "id": "b06646c5",
   "metadata": {},
   "source": [
    "## Preparing Final DataFrame"
   ]
  },
  {
   "cell_type": "code",
   "execution_count": 34,
   "id": "0838eb27",
   "metadata": {},
   "outputs": [],
   "source": [
    "df = pd.read_csv('data/full_df.csv')"
   ]
  },
  {
   "cell_type": "code",
   "execution_count": 35,
   "id": "6d58ad39",
   "metadata": {},
   "outputs": [],
   "source": [
    "df.columns = [col.lower().replace(' ','_').replace('(','').replace(')','') for col in df.columns]"
   ]
  },
  {
   "cell_type": "code",
   "execution_count": 36,
   "id": "e2f5fe89",
   "metadata": {},
   "outputs": [],
   "source": [
    "#sns.pairplot(df);"
   ]
  },
  {
   "cell_type": "code",
   "execution_count": 37,
   "id": "cda194a3",
   "metadata": {},
   "outputs": [
    {
     "data": {
      "text/html": [
       "<div>\n",
       "<style scoped>\n",
       "    .dataframe tbody tr th:only-of-type {\n",
       "        vertical-align: middle;\n",
       "    }\n",
       "\n",
       "    .dataframe tbody tr th {\n",
       "        vertical-align: top;\n",
       "    }\n",
       "\n",
       "    .dataframe thead th {\n",
       "        text-align: right;\n",
       "    }\n",
       "</style>\n",
       "<table border=\"1\" class=\"dataframe\">\n",
       "  <thead>\n",
       "    <tr style=\"text-align: right;\">\n",
       "      <th></th>\n",
       "      <th>year</th>\n",
       "      <th>b_hectares_harvested</th>\n",
       "      <th>b_hectograms_per_hectare_yield</th>\n",
       "      <th>b_tonnes_produced</th>\n",
       "      <th>usa_retail_price</th>\n",
       "      <th>thousand_units_bags_of_60_kg</th>\n",
       "      <th>b_thousand_usd_grn_coffee_prod</th>\n",
       "      <th>b_annual_avg_temp</th>\n",
       "      <th>col_annual_crop_yield</th>\n",
       "      <th>col_prod_60kg_bags</th>\n",
       "      <th>col_annual_celsius_change</th>\n",
       "      <th>global_change_in_celsius</th>\n",
       "      <th>e_prod</th>\n",
       "      <th>e_temp_change</th>\n",
       "      <th>e_export</th>\n",
       "      <th>e_consumption</th>\n",
       "    </tr>\n",
       "  </thead>\n",
       "  <tbody>\n",
       "    <tr>\n",
       "      <th>year</th>\n",
       "      <td>1.000000</td>\n",
       "      <td>-0.612423</td>\n",
       "      <td>0.964730</td>\n",
       "      <td>0.928054</td>\n",
       "      <td>0.700988</td>\n",
       "      <td>0.941101</td>\n",
       "      <td>0.928772</td>\n",
       "      <td>0.821179</td>\n",
       "      <td>-0.123770</td>\n",
       "      <td>-0.123770</td>\n",
       "      <td>0.697278</td>\n",
       "      <td>0.881374</td>\n",
       "      <td>0.962214</td>\n",
       "      <td>0.808343</td>\n",
       "      <td>0.933709</td>\n",
       "      <td>0.995082</td>\n",
       "    </tr>\n",
       "    <tr>\n",
       "      <th>b_hectares_harvested</th>\n",
       "      <td>-0.612423</td>\n",
       "      <td>1.000000</td>\n",
       "      <td>-0.563452</td>\n",
       "      <td>-0.377913</td>\n",
       "      <td>-0.620083</td>\n",
       "      <td>-0.503481</td>\n",
       "      <td>-0.335362</td>\n",
       "      <td>-0.512882</td>\n",
       "      <td>-0.015257</td>\n",
       "      <td>0.167285</td>\n",
       "      <td>-0.417129</td>\n",
       "      <td>-0.486058</td>\n",
       "      <td>-0.511797</td>\n",
       "      <td>-0.370582</td>\n",
       "      <td>-0.596514</td>\n",
       "      <td>-0.545957</td>\n",
       "    </tr>\n",
       "    <tr>\n",
       "      <th>b_hectograms_per_hectare_yield</th>\n",
       "      <td>0.964730</td>\n",
       "      <td>-0.563452</td>\n",
       "      <td>1.000000</td>\n",
       "      <td>0.970640</td>\n",
       "      <td>0.669121</td>\n",
       "      <td>0.931136</td>\n",
       "      <td>0.952718</td>\n",
       "      <td>0.766753</td>\n",
       "      <td>-0.070743</td>\n",
       "      <td>-0.093319</td>\n",
       "      <td>0.706737</td>\n",
       "      <td>0.831731</td>\n",
       "      <td>0.926718</td>\n",
       "      <td>0.723276</td>\n",
       "      <td>0.923923</td>\n",
       "      <td>0.958395</td>\n",
       "    </tr>\n",
       "    <tr>\n",
       "      <th>b_tonnes_produced</th>\n",
       "      <td>0.928054</td>\n",
       "      <td>-0.377913</td>\n",
       "      <td>0.970640</td>\n",
       "      <td>1.000000</td>\n",
       "      <td>0.588567</td>\n",
       "      <td>0.868011</td>\n",
       "      <td>0.987176</td>\n",
       "      <td>0.719414</td>\n",
       "      <td>-0.160186</td>\n",
       "      <td>-0.147426</td>\n",
       "      <td>0.657141</td>\n",
       "      <td>0.804736</td>\n",
       "      <td>0.893233</td>\n",
       "      <td>0.702495</td>\n",
       "      <td>0.876412</td>\n",
       "      <td>0.931135</td>\n",
       "    </tr>\n",
       "    <tr>\n",
       "      <th>usa_retail_price</th>\n",
       "      <td>0.700988</td>\n",
       "      <td>-0.620083</td>\n",
       "      <td>0.669121</td>\n",
       "      <td>0.588567</td>\n",
       "      <td>1.000000</td>\n",
       "      <td>0.592242</td>\n",
       "      <td>0.600006</td>\n",
       "      <td>0.547078</td>\n",
       "      <td>-0.380005</td>\n",
       "      <td>-0.169835</td>\n",
       "      <td>0.359268</td>\n",
       "      <td>0.539014</td>\n",
       "      <td>0.622417</td>\n",
       "      <td>0.511986</td>\n",
       "      <td>0.654165</td>\n",
       "      <td>0.699292</td>\n",
       "    </tr>\n",
       "    <tr>\n",
       "      <th>thousand_units_bags_of_60_kg</th>\n",
       "      <td>0.941101</td>\n",
       "      <td>-0.503481</td>\n",
       "      <td>0.931136</td>\n",
       "      <td>0.868011</td>\n",
       "      <td>0.592242</td>\n",
       "      <td>1.000000</td>\n",
       "      <td>0.870817</td>\n",
       "      <td>0.765272</td>\n",
       "      <td>0.069799</td>\n",
       "      <td>0.112057</td>\n",
       "      <td>0.687911</td>\n",
       "      <td>0.826565</td>\n",
       "      <td>0.929708</td>\n",
       "      <td>0.710241</td>\n",
       "      <td>0.869034</td>\n",
       "      <td>0.926795</td>\n",
       "    </tr>\n",
       "    <tr>\n",
       "      <th>b_thousand_usd_grn_coffee_prod</th>\n",
       "      <td>0.928772</td>\n",
       "      <td>-0.335362</td>\n",
       "      <td>0.952718</td>\n",
       "      <td>0.987176</td>\n",
       "      <td>0.600006</td>\n",
       "      <td>0.870817</td>\n",
       "      <td>1.000000</td>\n",
       "      <td>0.744697</td>\n",
       "      <td>-0.251479</td>\n",
       "      <td>-0.158187</td>\n",
       "      <td>0.583705</td>\n",
       "      <td>0.798314</td>\n",
       "      <td>0.899459</td>\n",
       "      <td>0.734789</td>\n",
       "      <td>0.889618</td>\n",
       "      <td>0.941605</td>\n",
       "    </tr>\n",
       "    <tr>\n",
       "      <th>b_annual_avg_temp</th>\n",
       "      <td>0.821179</td>\n",
       "      <td>-0.512882</td>\n",
       "      <td>0.766753</td>\n",
       "      <td>0.719414</td>\n",
       "      <td>0.547078</td>\n",
       "      <td>0.765272</td>\n",
       "      <td>0.744697</td>\n",
       "      <td>1.000000</td>\n",
       "      <td>-0.108260</td>\n",
       "      <td>0.048004</td>\n",
       "      <td>0.834886</td>\n",
       "      <td>0.941519</td>\n",
       "      <td>0.782794</td>\n",
       "      <td>0.832829</td>\n",
       "      <td>0.788673</td>\n",
       "      <td>0.802881</td>\n",
       "    </tr>\n",
       "    <tr>\n",
       "      <th>col_annual_crop_yield</th>\n",
       "      <td>-0.123770</td>\n",
       "      <td>-0.015257</td>\n",
       "      <td>-0.070743</td>\n",
       "      <td>-0.160186</td>\n",
       "      <td>-0.380005</td>\n",
       "      <td>0.069799</td>\n",
       "      <td>-0.251479</td>\n",
       "      <td>-0.108260</td>\n",
       "      <td>1.000000</td>\n",
       "      <td>0.725162</td>\n",
       "      <td>0.216807</td>\n",
       "      <td>-0.054003</td>\n",
       "      <td>-0.174842</td>\n",
       "      <td>0.038779</td>\n",
       "      <td>-0.202310</td>\n",
       "      <td>-0.223440</td>\n",
       "    </tr>\n",
       "    <tr>\n",
       "      <th>col_prod_60kg_bags</th>\n",
       "      <td>-0.123770</td>\n",
       "      <td>0.167285</td>\n",
       "      <td>-0.093319</td>\n",
       "      <td>-0.147426</td>\n",
       "      <td>-0.169835</td>\n",
       "      <td>0.112057</td>\n",
       "      <td>-0.158187</td>\n",
       "      <td>0.048004</td>\n",
       "      <td>0.725162</td>\n",
       "      <td>1.000000</td>\n",
       "      <td>0.254939</td>\n",
       "      <td>0.025621</td>\n",
       "      <td>-0.069782</td>\n",
       "      <td>0.238017</td>\n",
       "      <td>-0.150013</td>\n",
       "      <td>-0.160113</td>\n",
       "    </tr>\n",
       "    <tr>\n",
       "      <th>col_annual_celsius_change</th>\n",
       "      <td>0.697278</td>\n",
       "      <td>-0.417129</td>\n",
       "      <td>0.706737</td>\n",
       "      <td>0.657141</td>\n",
       "      <td>0.359268</td>\n",
       "      <td>0.687911</td>\n",
       "      <td>0.583705</td>\n",
       "      <td>0.834886</td>\n",
       "      <td>0.216807</td>\n",
       "      <td>0.254939</td>\n",
       "      <td>1.000000</td>\n",
       "      <td>0.782299</td>\n",
       "      <td>0.647923</td>\n",
       "      <td>0.775519</td>\n",
       "      <td>0.585465</td>\n",
       "      <td>0.644929</td>\n",
       "    </tr>\n",
       "    <tr>\n",
       "      <th>global_change_in_celsius</th>\n",
       "      <td>0.881374</td>\n",
       "      <td>-0.486058</td>\n",
       "      <td>0.831731</td>\n",
       "      <td>0.804736</td>\n",
       "      <td>0.539014</td>\n",
       "      <td>0.826565</td>\n",
       "      <td>0.798314</td>\n",
       "      <td>0.941519</td>\n",
       "      <td>-0.054003</td>\n",
       "      <td>0.025621</td>\n",
       "      <td>0.782299</td>\n",
       "      <td>1.000000</td>\n",
       "      <td>0.850935</td>\n",
       "      <td>0.818211</td>\n",
       "      <td>0.823289</td>\n",
       "      <td>0.857765</td>\n",
       "    </tr>\n",
       "    <tr>\n",
       "      <th>e_prod</th>\n",
       "      <td>0.962214</td>\n",
       "      <td>-0.511797</td>\n",
       "      <td>0.926718</td>\n",
       "      <td>0.893233</td>\n",
       "      <td>0.622417</td>\n",
       "      <td>0.929708</td>\n",
       "      <td>0.899459</td>\n",
       "      <td>0.782794</td>\n",
       "      <td>-0.174842</td>\n",
       "      <td>-0.069782</td>\n",
       "      <td>0.647923</td>\n",
       "      <td>0.850935</td>\n",
       "      <td>1.000000</td>\n",
       "      <td>0.785086</td>\n",
       "      <td>0.879317</td>\n",
       "      <td>0.965681</td>\n",
       "    </tr>\n",
       "    <tr>\n",
       "      <th>e_temp_change</th>\n",
       "      <td>0.808343</td>\n",
       "      <td>-0.370582</td>\n",
       "      <td>0.723276</td>\n",
       "      <td>0.702495</td>\n",
       "      <td>0.511986</td>\n",
       "      <td>0.710241</td>\n",
       "      <td>0.734789</td>\n",
       "      <td>0.832829</td>\n",
       "      <td>0.038779</td>\n",
       "      <td>0.238017</td>\n",
       "      <td>0.775519</td>\n",
       "      <td>0.818211</td>\n",
       "      <td>0.785086</td>\n",
       "      <td>1.000000</td>\n",
       "      <td>0.693444</td>\n",
       "      <td>0.797918</td>\n",
       "    </tr>\n",
       "    <tr>\n",
       "      <th>e_export</th>\n",
       "      <td>0.933709</td>\n",
       "      <td>-0.596514</td>\n",
       "      <td>0.923923</td>\n",
       "      <td>0.876412</td>\n",
       "      <td>0.654165</td>\n",
       "      <td>0.869034</td>\n",
       "      <td>0.889618</td>\n",
       "      <td>0.788673</td>\n",
       "      <td>-0.202310</td>\n",
       "      <td>-0.150013</td>\n",
       "      <td>0.585465</td>\n",
       "      <td>0.823289</td>\n",
       "      <td>0.879317</td>\n",
       "      <td>0.693444</td>\n",
       "      <td>1.000000</td>\n",
       "      <td>0.925991</td>\n",
       "    </tr>\n",
       "    <tr>\n",
       "      <th>e_consumption</th>\n",
       "      <td>0.995082</td>\n",
       "      <td>-0.545957</td>\n",
       "      <td>0.958395</td>\n",
       "      <td>0.931135</td>\n",
       "      <td>0.699292</td>\n",
       "      <td>0.926795</td>\n",
       "      <td>0.941605</td>\n",
       "      <td>0.802881</td>\n",
       "      <td>-0.223440</td>\n",
       "      <td>-0.160113</td>\n",
       "      <td>0.644929</td>\n",
       "      <td>0.857765</td>\n",
       "      <td>0.965681</td>\n",
       "      <td>0.797918</td>\n",
       "      <td>0.925991</td>\n",
       "      <td>1.000000</td>\n",
       "    </tr>\n",
       "  </tbody>\n",
       "</table>\n",
       "</div>"
      ],
      "text/plain": [
       "                                    year  b_hectares_harvested  \\\n",
       "year                            1.000000             -0.612423   \n",
       "b_hectares_harvested           -0.612423              1.000000   \n",
       "b_hectograms_per_hectare_yield  0.964730             -0.563452   \n",
       "b_tonnes_produced               0.928054             -0.377913   \n",
       "usa_retail_price                0.700988             -0.620083   \n",
       "thousand_units_bags_of_60_kg    0.941101             -0.503481   \n",
       "b_thousand_usd_grn_coffee_prod  0.928772             -0.335362   \n",
       "b_annual_avg_temp               0.821179             -0.512882   \n",
       "col_annual_crop_yield          -0.123770             -0.015257   \n",
       "col_prod_60kg_bags             -0.123770              0.167285   \n",
       "col_annual_celsius_change       0.697278             -0.417129   \n",
       "global_change_in_celsius        0.881374             -0.486058   \n",
       "e_prod                          0.962214             -0.511797   \n",
       "e_temp_change                   0.808343             -0.370582   \n",
       "e_export                        0.933709             -0.596514   \n",
       "e_consumption                   0.995082             -0.545957   \n",
       "\n",
       "                                b_hectograms_per_hectare_yield  \\\n",
       "year                                                  0.964730   \n",
       "b_hectares_harvested                                 -0.563452   \n",
       "b_hectograms_per_hectare_yield                        1.000000   \n",
       "b_tonnes_produced                                     0.970640   \n",
       "usa_retail_price                                      0.669121   \n",
       "thousand_units_bags_of_60_kg                          0.931136   \n",
       "b_thousand_usd_grn_coffee_prod                        0.952718   \n",
       "b_annual_avg_temp                                     0.766753   \n",
       "col_annual_crop_yield                                -0.070743   \n",
       "col_prod_60kg_bags                                   -0.093319   \n",
       "col_annual_celsius_change                             0.706737   \n",
       "global_change_in_celsius                              0.831731   \n",
       "e_prod                                                0.926718   \n",
       "e_temp_change                                         0.723276   \n",
       "e_export                                              0.923923   \n",
       "e_consumption                                         0.958395   \n",
       "\n",
       "                                b_tonnes_produced  usa_retail_price  \\\n",
       "year                                     0.928054          0.700988   \n",
       "b_hectares_harvested                    -0.377913         -0.620083   \n",
       "b_hectograms_per_hectare_yield           0.970640          0.669121   \n",
       "b_tonnes_produced                        1.000000          0.588567   \n",
       "usa_retail_price                         0.588567          1.000000   \n",
       "thousand_units_bags_of_60_kg             0.868011          0.592242   \n",
       "b_thousand_usd_grn_coffee_prod           0.987176          0.600006   \n",
       "b_annual_avg_temp                        0.719414          0.547078   \n",
       "col_annual_crop_yield                   -0.160186         -0.380005   \n",
       "col_prod_60kg_bags                      -0.147426         -0.169835   \n",
       "col_annual_celsius_change                0.657141          0.359268   \n",
       "global_change_in_celsius                 0.804736          0.539014   \n",
       "e_prod                                   0.893233          0.622417   \n",
       "e_temp_change                            0.702495          0.511986   \n",
       "e_export                                 0.876412          0.654165   \n",
       "e_consumption                            0.931135          0.699292   \n",
       "\n",
       "                                thousand_units_bags_of_60_kg  \\\n",
       "year                                                0.941101   \n",
       "b_hectares_harvested                               -0.503481   \n",
       "b_hectograms_per_hectare_yield                      0.931136   \n",
       "b_tonnes_produced                                   0.868011   \n",
       "usa_retail_price                                    0.592242   \n",
       "thousand_units_bags_of_60_kg                        1.000000   \n",
       "b_thousand_usd_grn_coffee_prod                      0.870817   \n",
       "b_annual_avg_temp                                   0.765272   \n",
       "col_annual_crop_yield                               0.069799   \n",
       "col_prod_60kg_bags                                  0.112057   \n",
       "col_annual_celsius_change                           0.687911   \n",
       "global_change_in_celsius                            0.826565   \n",
       "e_prod                                              0.929708   \n",
       "e_temp_change                                       0.710241   \n",
       "e_export                                            0.869034   \n",
       "e_consumption                                       0.926795   \n",
       "\n",
       "                                b_thousand_usd_grn_coffee_prod  \\\n",
       "year                                                  0.928772   \n",
       "b_hectares_harvested                                 -0.335362   \n",
       "b_hectograms_per_hectare_yield                        0.952718   \n",
       "b_tonnes_produced                                     0.987176   \n",
       "usa_retail_price                                      0.600006   \n",
       "thousand_units_bags_of_60_kg                          0.870817   \n",
       "b_thousand_usd_grn_coffee_prod                        1.000000   \n",
       "b_annual_avg_temp                                     0.744697   \n",
       "col_annual_crop_yield                                -0.251479   \n",
       "col_prod_60kg_bags                                   -0.158187   \n",
       "col_annual_celsius_change                             0.583705   \n",
       "global_change_in_celsius                              0.798314   \n",
       "e_prod                                                0.899459   \n",
       "e_temp_change                                         0.734789   \n",
       "e_export                                              0.889618   \n",
       "e_consumption                                         0.941605   \n",
       "\n",
       "                                b_annual_avg_temp  col_annual_crop_yield  \\\n",
       "year                                     0.821179              -0.123770   \n",
       "b_hectares_harvested                    -0.512882              -0.015257   \n",
       "b_hectograms_per_hectare_yield           0.766753              -0.070743   \n",
       "b_tonnes_produced                        0.719414              -0.160186   \n",
       "usa_retail_price                         0.547078              -0.380005   \n",
       "thousand_units_bags_of_60_kg             0.765272               0.069799   \n",
       "b_thousand_usd_grn_coffee_prod           0.744697              -0.251479   \n",
       "b_annual_avg_temp                        1.000000              -0.108260   \n",
       "col_annual_crop_yield                   -0.108260               1.000000   \n",
       "col_prod_60kg_bags                       0.048004               0.725162   \n",
       "col_annual_celsius_change                0.834886               0.216807   \n",
       "global_change_in_celsius                 0.941519              -0.054003   \n",
       "e_prod                                   0.782794              -0.174842   \n",
       "e_temp_change                            0.832829               0.038779   \n",
       "e_export                                 0.788673              -0.202310   \n",
       "e_consumption                            0.802881              -0.223440   \n",
       "\n",
       "                                col_prod_60kg_bags  col_annual_celsius_change  \\\n",
       "year                                     -0.123770                   0.697278   \n",
       "b_hectares_harvested                      0.167285                  -0.417129   \n",
       "b_hectograms_per_hectare_yield           -0.093319                   0.706737   \n",
       "b_tonnes_produced                        -0.147426                   0.657141   \n",
       "usa_retail_price                         -0.169835                   0.359268   \n",
       "thousand_units_bags_of_60_kg              0.112057                   0.687911   \n",
       "b_thousand_usd_grn_coffee_prod           -0.158187                   0.583705   \n",
       "b_annual_avg_temp                         0.048004                   0.834886   \n",
       "col_annual_crop_yield                     0.725162                   0.216807   \n",
       "col_prod_60kg_bags                        1.000000                   0.254939   \n",
       "col_annual_celsius_change                 0.254939                   1.000000   \n",
       "global_change_in_celsius                  0.025621                   0.782299   \n",
       "e_prod                                   -0.069782                   0.647923   \n",
       "e_temp_change                             0.238017                   0.775519   \n",
       "e_export                                 -0.150013                   0.585465   \n",
       "e_consumption                            -0.160113                   0.644929   \n",
       "\n",
       "                                global_change_in_celsius    e_prod  \\\n",
       "year                                            0.881374  0.962214   \n",
       "b_hectares_harvested                           -0.486058 -0.511797   \n",
       "b_hectograms_per_hectare_yield                  0.831731  0.926718   \n",
       "b_tonnes_produced                               0.804736  0.893233   \n",
       "usa_retail_price                                0.539014  0.622417   \n",
       "thousand_units_bags_of_60_kg                    0.826565  0.929708   \n",
       "b_thousand_usd_grn_coffee_prod                  0.798314  0.899459   \n",
       "b_annual_avg_temp                               0.941519  0.782794   \n",
       "col_annual_crop_yield                          -0.054003 -0.174842   \n",
       "col_prod_60kg_bags                              0.025621 -0.069782   \n",
       "col_annual_celsius_change                       0.782299  0.647923   \n",
       "global_change_in_celsius                        1.000000  0.850935   \n",
       "e_prod                                          0.850935  1.000000   \n",
       "e_temp_change                                   0.818211  0.785086   \n",
       "e_export                                        0.823289  0.879317   \n",
       "e_consumption                                   0.857765  0.965681   \n",
       "\n",
       "                                e_temp_change  e_export  e_consumption  \n",
       "year                                 0.808343  0.933709       0.995082  \n",
       "b_hectares_harvested                -0.370582 -0.596514      -0.545957  \n",
       "b_hectograms_per_hectare_yield       0.723276  0.923923       0.958395  \n",
       "b_tonnes_produced                    0.702495  0.876412       0.931135  \n",
       "usa_retail_price                     0.511986  0.654165       0.699292  \n",
       "thousand_units_bags_of_60_kg         0.710241  0.869034       0.926795  \n",
       "b_thousand_usd_grn_coffee_prod       0.734789  0.889618       0.941605  \n",
       "b_annual_avg_temp                    0.832829  0.788673       0.802881  \n",
       "col_annual_crop_yield                0.038779 -0.202310      -0.223440  \n",
       "col_prod_60kg_bags                   0.238017 -0.150013      -0.160113  \n",
       "col_annual_celsius_change            0.775519  0.585465       0.644929  \n",
       "global_change_in_celsius             0.818211  0.823289       0.857765  \n",
       "e_prod                               0.785086  0.879317       0.965681  \n",
       "e_temp_change                        1.000000  0.693444       0.797918  \n",
       "e_export                             0.693444  1.000000       0.925991  \n",
       "e_consumption                        0.797918  0.925991       1.000000  "
      ]
     },
     "execution_count": 37,
     "metadata": {},
     "output_type": "execute_result"
    }
   ],
   "source": [
    "df.corr()"
   ]
  },
  {
   "cell_type": "code",
   "execution_count": 38,
   "id": "5aa2fb4c",
   "metadata": {},
   "outputs": [
    {
     "data": {
      "image/png": "[encoded data removed]",
      "text/plain": [
       "<Figure size 1000x600 with 2 Axes>"
      ]
     },
     "metadata": {},
     "output_type": "display_data"
    }
   ],
   "source": [
    "sns.heatmap(df.corr(),cmap='viridis',vmax=1,vmin=-1);"
   ]
  },
  {
   "cell_type": "markdown",
   "id": "f8954f30",
   "metadata": {},
   "source": [
    "## Preparing Data For Modeling"
   ]
  },
  {
   "cell_type": "markdown",
   "id": "b36e30d6",
   "metadata": {},
   "source": [
    "### Null Values"
   ]
  },
  {
   "cell_type": "code",
   "execution_count": 39,
   "id": "2bd0839e",
   "metadata": {},
   "outputs": [
    {
     "data": {
      "text/plain": [
       "e_temp_change                     3\n",
       "usa_retail_price                  2\n",
       "thousand_units_bags_of_60_kg      1\n",
       "b_thousand_usd_grn_coffee_prod    1\n",
       "b_annual_avg_temp                 1\n",
       "col_annual_crop_yield             1\n",
       "col_prod_60kg_bags                1\n",
       "e_prod                            1\n",
       "e_export                          1\n",
       "e_consumption                     1\n",
       "dtype: int64"
      ]
     },
     "execution_count": 39,
     "metadata": {},
     "output_type": "execute_result"
    }
   ],
   "source": [
    "df.isnull().sum().sort_values(ascending=False).head(10)"
   ]
  },
  {
   "cell_type": "code",
   "execution_count": 40,
   "id": "a4e2b662",
   "metadata": {},
   "outputs": [],
   "source": [
    "# only 2 values missing, 2008,2020\n",
    "# the mean works for 2008 because 2007 is the actual mean\n",
    "# the mean works for 2020 because coffee prices are falling back down towards the mean\n",
    "# additionally, the mean filling this single value will not throw off any modeling\n",
    "df.usa_retail_price.fillna(df.usa_retail_price.mean(),inplace=True)"
   ]
  },
  {
   "cell_type": "code",
   "execution_count": 41,
   "id": "d1805536",
   "metadata": {},
   "outputs": [
    {
     "data": {
      "text/plain": [
       "e_temp_change                     3\n",
       "thousand_units_bags_of_60_kg      1\n",
       "b_thousand_usd_grn_coffee_prod    1\n",
       "b_annual_avg_temp                 1\n",
       "col_annual_crop_yield             1\n",
       "col_prod_60kg_bags                1\n",
       "e_prod                            1\n",
       "e_export                          1\n",
       "e_consumption                     1\n",
       "year                              0\n",
       "dtype: int64"
      ]
     },
     "execution_count": 41,
     "metadata": {},
     "output_type": "execute_result"
    }
   ],
   "source": [
    "df.isnull().sum().sort_values(ascending=False).head(10)"
   ]
  },
  {
   "cell_type": "code",
   "execution_count": 42,
   "id": "6a39a3ab",
   "metadata": {},
   "outputs": [],
   "source": [
    "# using the min for temp_change as 1990-1993 are the missing values\n",
    "# the first of 1994 value is the min\n",
    "df.e_temp_change.fillna(df.e_temp_change.min(),inplace=True)"
   ]
  },
  {
   "cell_type": "code",
   "execution_count": 43,
   "id": "b1fe15da",
   "metadata": {},
   "outputs": [],
   "source": [
    "# missing value here is for year 2020\n",
    "# missing value can be imputed using 3rd quantile\n",
    "# steady rise in value, 3rd quantile is most appropriate over mean or median\n",
    "df.thousand_units_bags_of_60_kg.fillna(df.thousand_units_bags_of_60_kg.quantile(.75),\n",
    "                                       inplace=True)"
   ]
  },
  {
   "cell_type": "code",
   "execution_count": 44,
   "id": "0fd181fe",
   "metadata": {},
   "outputs": [
    {
     "data": {
      "text/html": [
       "<div>\n",
       "<style scoped>\n",
       "    .dataframe tbody tr th:only-of-type {\n",
       "        vertical-align: middle;\n",
       "    }\n",
       "\n",
       "    .dataframe tbody tr th {\n",
       "        vertical-align: top;\n",
       "    }\n",
       "\n",
       "    .dataframe thead th {\n",
       "        text-align: right;\n",
       "    }\n",
       "</style>\n",
       "<table border=\"1\" class=\"dataframe\">\n",
       "  <thead>\n",
       "    <tr style=\"text-align: right;\">\n",
       "      <th></th>\n",
       "      <th>year</th>\n",
       "      <th>b_hectares_harvested</th>\n",
       "      <th>b_hectograms_per_hectare_yield</th>\n",
       "      <th>b_tonnes_produced</th>\n",
       "      <th>usa_retail_price</th>\n",
       "      <th>thousand_units_bags_of_60_kg</th>\n",
       "      <th>b_thousand_usd_grn_coffee_prod</th>\n",
       "      <th>b_annual_avg_temp</th>\n",
       "      <th>col_annual_crop_yield</th>\n",
       "      <th>col_prod_60kg_bags</th>\n",
       "      <th>col_annual_celsius_change</th>\n",
       "      <th>global_change_in_celsius</th>\n",
       "      <th>e_prod</th>\n",
       "      <th>e_temp_change</th>\n",
       "      <th>e_export</th>\n",
       "      <th>e_consumption</th>\n",
       "    </tr>\n",
       "  </thead>\n",
       "  <tbody>\n",
       "    <tr>\n",
       "      <th>0</th>\n",
       "      <td>1990</td>\n",
       "      <td>2908960</td>\n",
       "      <td>5036</td>\n",
       "      <td>1464856</td>\n",
       "      <td>2.97</td>\n",
       "      <td>18297.617</td>\n",
       "      <td>1.573783e+06</td>\n",
       "      <td>25.12</td>\n",
       "      <td>NaN</td>\n",
       "      <td>14396.000</td>\n",
       "      <td>0.258</td>\n",
       "      <td>0.66</td>\n",
       "      <td>2909.451</td>\n",
       "      <td>0.244</td>\n",
       "      <td>1074.101</td>\n",
       "      <td>1200.0</td>\n",
       "    </tr>\n",
       "    <tr>\n",
       "      <th>1</th>\n",
       "      <td>1991</td>\n",
       "      <td>2763440</td>\n",
       "      <td>5502</td>\n",
       "      <td>1520382</td>\n",
       "      <td>2.81</td>\n",
       "      <td>18661.180</td>\n",
       "      <td>1.633438e+06</td>\n",
       "      <td>25.05</td>\n",
       "      <td>863760.00</td>\n",
       "      <td>17980.397</td>\n",
       "      <td>0.347</td>\n",
       "      <td>0.53</td>\n",
       "      <td>2924.664</td>\n",
       "      <td>0.244</td>\n",
       "      <td>841.329</td>\n",
       "      <td>1264.0</td>\n",
       "    </tr>\n",
       "    <tr>\n",
       "      <th>2</th>\n",
       "      <td>1992</td>\n",
       "      <td>2500320</td>\n",
       "      <td>5177</td>\n",
       "      <td>1294373</td>\n",
       "      <td>2.58</td>\n",
       "      <td>18290.453</td>\n",
       "      <td>1.390623e+06</td>\n",
       "      <td>24.91</td>\n",
       "      <td>1078823.82</td>\n",
       "      <td>14946.878</td>\n",
       "      <td>0.532</td>\n",
       "      <td>0.25</td>\n",
       "      <td>1825.171</td>\n",
       "      <td>0.244</td>\n",
       "      <td>734.461</td>\n",
       "      <td>1331.0</td>\n",
       "    </tr>\n",
       "    <tr>\n",
       "      <th>3</th>\n",
       "      <td>1993</td>\n",
       "      <td>2259330</td>\n",
       "      <td>5660</td>\n",
       "      <td>1278759</td>\n",
       "      <td>2.47</td>\n",
       "      <td>19217.137</td>\n",
       "      <td>1.373848e+06</td>\n",
       "      <td>25.02</td>\n",
       "      <td>896812.68</td>\n",
       "      <td>11422.422</td>\n",
       "      <td>0.157</td>\n",
       "      <td>0.36</td>\n",
       "      <td>2967.004</td>\n",
       "      <td>0.244</td>\n",
       "      <td>1166.778</td>\n",
       "      <td>1402.0</td>\n",
       "    </tr>\n",
       "    <tr>\n",
       "      <th>4</th>\n",
       "      <td>1994</td>\n",
       "      <td>2097650</td>\n",
       "      <td>6232</td>\n",
       "      <td>1307289</td>\n",
       "      <td>3.40</td>\n",
       "      <td>17326.104</td>\n",
       "      <td>1.404499e+06</td>\n",
       "      <td>25.14</td>\n",
       "      <td>685345.32</td>\n",
       "      <td>12964.000</td>\n",
       "      <td>0.162</td>\n",
       "      <td>0.49</td>\n",
       "      <td>2762.730</td>\n",
       "      <td>0.599</td>\n",
       "      <td>1475.325</td>\n",
       "      <td>1476.0</td>\n",
       "    </tr>\n",
       "  </tbody>\n",
       "</table>\n",
       "</div>"
      ],
      "text/plain": [
       "   year  b_hectares_harvested  b_hectograms_per_hectare_yield  \\\n",
       "0  1990               2908960                            5036   \n",
       "1  1991               2763440                            5502   \n",
       "2  1992               2500320                            5177   \n",
       "3  1993               2259330                            5660   \n",
       "4  1994               2097650                            6232   \n",
       "\n",
       "   b_tonnes_produced  usa_retail_price  thousand_units_bags_of_60_kg  \\\n",
       "0            1464856              2.97                     18297.617   \n",
       "1            1520382              2.81                     18661.180   \n",
       "2            1294373              2.58                     18290.453   \n",
       "3            1278759              2.47                     19217.137   \n",
       "4            1307289              3.40                     17326.104   \n",
       "\n",
       "   b_thousand_usd_grn_coffee_prod  b_annual_avg_temp  col_annual_crop_yield  \\\n",
       "0                    1.573783e+06              25.12                    NaN   \n",
       "1                    1.633438e+06              25.05              863760.00   \n",
       "2                    1.390623e+06              24.91             1078823.82   \n",
       "3                    1.373848e+06              25.02              896812.68   \n",
       "4                    1.404499e+06              25.14              685345.32   \n",
       "\n",
       "   col_prod_60kg_bags  col_annual_celsius_change  global_change_in_celsius  \\\n",
       "0           14396.000                      0.258                      0.66   \n",
       "1           17980.397                      0.347                      0.53   \n",
       "2           14946.878                      0.532                      0.25   \n",
       "3           11422.422                      0.157                      0.36   \n",
       "4           12964.000                      0.162                      0.49   \n",
       "\n",
       "     e_prod  e_temp_change  e_export  e_consumption  \n",
       "0  2909.451          0.244  1074.101         1200.0  \n",
       "1  2924.664          0.244   841.329         1264.0  \n",
       "2  1825.171          0.244   734.461         1331.0  \n",
       "3  2967.004          0.244  1166.778         1402.0  \n",
       "4  2762.730          0.599  1475.325         1476.0  "
      ]
     },
     "execution_count": 44,
     "metadata": {},
     "output_type": "execute_result"
    }
   ],
   "source": [
    "df.head()"
   ]
  },
  {
   "cell_type": "code",
   "execution_count": 45,
   "id": "52aba579",
   "metadata": {},
   "outputs": [
    {
     "data": {
      "text/plain": [
       "b_thousand_usd_grn_coffee_prod    1\n",
       "b_annual_avg_temp                 1\n",
       "col_annual_crop_yield             1\n",
       "col_prod_60kg_bags                1\n",
       "e_prod                            1\n",
       "e_export                          1\n",
       "e_consumption                     1\n",
       "year                              0\n",
       "b_hectares_harvested              0\n",
       "b_hectograms_per_hectare_yield    0\n",
       "dtype: int64"
      ]
     },
     "execution_count": 45,
     "metadata": {},
     "output_type": "execute_result"
    }
   ],
   "source": [
    "df.isnull().sum().sort_values(ascending=False).head(10)"
   ]
  },
  {
   "cell_type": "code",
   "execution_count": 46,
   "id": "92294480",
   "metadata": {},
   "outputs": [],
   "source": [
    "# again filling with 75th percentile due to steady increase in production\n",
    "df.b_thousand_usd_grn_coffee_prod.fillna(df.b_thousand_usd_grn_coffee_prod.quantile(.75),\n",
    "                                       inplace=True)"
   ]
  },
  {
   "cell_type": "code",
   "execution_count": 47,
   "id": "71737018",
   "metadata": {},
   "outputs": [
    {
     "data": {
      "text/plain": [
       "b_annual_avg_temp                 1\n",
       "col_annual_crop_yield             1\n",
       "col_prod_60kg_bags                1\n",
       "e_prod                            1\n",
       "e_export                          1\n",
       "e_consumption                     1\n",
       "year                              0\n",
       "b_hectares_harvested              0\n",
       "b_hectograms_per_hectare_yield    0\n",
       "b_tonnes_produced                 0\n",
       "dtype: int64"
      ]
     },
     "execution_count": 47,
     "metadata": {},
     "output_type": "execute_result"
    }
   ],
   "source": [
    "df.isnull().sum().sort_values(ascending=False).head(10)"
   ]
  },
  {
   "cell_type": "code",
   "execution_count": 48,
   "id": "f6e4d95b",
   "metadata": {},
   "outputs": [],
   "source": [
    "# consistent values makes the mean most appropriate here\n",
    "df.b_annual_avg_temp.fillna(df.b_annual_avg_temp.mean(),\n",
    "                            inplace=True)"
   ]
  },
  {
   "cell_type": "code",
   "execution_count": 49,
   "id": "1e706d83",
   "metadata": {},
   "outputs": [
    {
     "data": {
      "text/plain": [
       "col_annual_crop_yield    1\n",
       "col_prod_60kg_bags       1\n",
       "e_prod                   1\n",
       "e_export                 1\n",
       "e_consumption            1\n",
       "dtype: int64"
      ]
     },
     "execution_count": 49,
     "metadata": {},
     "output_type": "execute_result"
    }
   ],
   "source": [
    "df.isnull().sum().sort_values(ascending=False).head()"
   ]
  },
  {
   "cell_type": "code",
   "execution_count": 50,
   "id": "7345ccf5",
   "metadata": {},
   "outputs": [],
   "source": [
    "# again earlier years show lower values, using the 25th percentile to fill the single missing value\n",
    "# is most appropriate\n",
    "df.col_annual_crop_yield.fillna(df.col_annual_crop_yield.quantile(.25),\n",
    "                                inplace=True)"
   ]
  },
  {
   "cell_type": "code",
   "execution_count": 51,
   "id": "254cfa19",
   "metadata": {},
   "outputs": [
    {
     "data": {
      "text/plain": [
       "col_prod_60kg_bags    1\n",
       "e_prod                1\n",
       "e_export              1\n",
       "e_consumption         1\n",
       "year                  0\n",
       "dtype: int64"
      ]
     },
     "execution_count": 51,
     "metadata": {},
     "output_type": "execute_result"
    }
   ],
   "source": [
    "df.isnull().sum().sort_values(ascending=False).head()"
   ]
  },
  {
   "cell_type": "code",
   "execution_count": 52,
   "id": "b3b84540",
   "metadata": {},
   "outputs": [],
   "source": [
    "# 75th percentile most appropriate to fill missing value due to steady increase in production\n",
    "# especially towards most recent years\n",
    "df.col_prod_60kg_bags.fillna(df.col_prod_60kg_bags.quantile(.75),\n",
    "                             inplace=True)"
   ]
  },
  {
   "cell_type": "code",
   "execution_count": 53,
   "id": "496f2a46",
   "metadata": {},
   "outputs": [
    {
     "data": {
      "text/plain": [
       "e_prod                  1\n",
       "e_export                1\n",
       "e_consumption           1\n",
       "year                    0\n",
       "b_hectares_harvested    0\n",
       "dtype: int64"
      ]
     },
     "execution_count": 53,
     "metadata": {},
     "output_type": "execute_result"
    }
   ],
   "source": [
    "df.isnull().sum().sort_values(ascending=False).head()"
   ]
  },
  {
   "cell_type": "code",
   "execution_count": 54,
   "id": "26d50281",
   "metadata": {},
   "outputs": [],
   "source": [
    "# 2020 again missing value, 75th percentile remains most appropriate\n",
    "df.e_prod.fillna(df.e_prod.quantile(.75),inplace=True)"
   ]
  },
  {
   "cell_type": "code",
   "execution_count": 55,
   "id": "e4a627fe",
   "metadata": {},
   "outputs": [
    {
     "data": {
      "text/plain": [
       "e_export                          1\n",
       "e_consumption                     1\n",
       "year                              0\n",
       "b_hectares_harvested              0\n",
       "b_hectograms_per_hectare_yield    0\n",
       "dtype: int64"
      ]
     },
     "execution_count": 55,
     "metadata": {},
     "output_type": "execute_result"
    }
   ],
   "source": [
    "df.isnull().sum().sort_values(ascending=False).head()"
   ]
  },
  {
   "cell_type": "code",
   "execution_count": 56,
   "id": "84055ce0",
   "metadata": {},
   "outputs": [],
   "source": [
    "# 2020 is the missing value, 75th percentile for same reasons as before\n",
    "df.e_export.fillna(df.e_export.quantile(.75),inplace=True)"
   ]
  },
  {
   "cell_type": "code",
   "execution_count": 57,
   "id": "803da647",
   "metadata": {},
   "outputs": [
    {
     "data": {
      "text/plain": [
       "e_consumption                     1\n",
       "year                              0\n",
       "b_hectares_harvested              0\n",
       "b_hectograms_per_hectare_yield    0\n",
       "b_tonnes_produced                 0\n",
       "dtype: int64"
      ]
     },
     "execution_count": 57,
     "metadata": {},
     "output_type": "execute_result"
    }
   ],
   "source": [
    "df.isnull().sum().sort_values(ascending=False).head()"
   ]
  },
  {
   "cell_type": "code",
   "execution_count": 58,
   "id": "420c259a",
   "metadata": {},
   "outputs": [],
   "source": [
    "# 2020 is the missing value, 75th percentile for same reasons as before\n",
    "df.e_consumption.fillna(df.e_consumption.quantile(.75),inplace=True)"
   ]
  },
  {
   "cell_type": "code",
   "execution_count": 59,
   "id": "5a1b4619",
   "metadata": {},
   "outputs": [],
   "source": [
    "df.drop(columns=(['b_thousand_usd_grn_coffee_prod','col_annual_crop_yield']),inplace=True)"
   ]
  },
  {
   "cell_type": "markdown",
   "id": "82dd6306",
   "metadata": {},
   "source": [
    "## Converting Columns and Dropping Unecessary columns"
   ]
  },
  {
   "cell_type": "code",
   "execution_count": 60,
   "id": "edcfa4a1",
   "metadata": {},
   "outputs": [],
   "source": [
    "# converting kg to pounds\n",
    "# creating column to represent change\n",
    "df['us_consumption_lbs'] = [(each*1000)*2.2 for each in df.thousand_units_bags_of_60_kg]\n",
    "df.col_prod_60kg_bags = [(each*1000)*2.2 for each in df.col_prod_60kg_bags]\n",
    "\n",
    "# renaming columning to representing change\n",
    "df.rename(columns={'col_prod_60kg_bags':'col_production_lbs'},inplace=True)\n",
    "\n",
    "# dropping unchanged column\n",
    "df.drop(columns='thousand_units_bags_of_60_kg',inplace=True)"
   ]
  },
  {
   "cell_type": "code",
   "execution_count": 61,
   "id": "684f1dc7",
   "metadata": {},
   "outputs": [],
   "source": [
    "df.to_csv('data/cleaned_merged_df.csv',index=False)"
   ]
  },
  {
   "cell_type": "markdown",
   "id": "239cdcf5",
   "metadata": {},
   "source": [
    "## Adding Column I forgot to add originally"
   ]
  },
  {
   "cell_type": "code",
   "execution_count": 62,
   "id": "441f34e1",
   "metadata": {},
   "outputs": [],
   "source": [
    "col_annual_avg_temp = pd.read_csv('data/Colombia_data/tas_timeseries_annual_cru_1901-2021_COL.csv')"
   ]
  },
  {
   "cell_type": "code",
   "execution_count": 63,
   "id": "f97914b8",
   "metadata": {},
   "outputs": [],
   "source": [
    "df = pd.merge(df,col_annual_avg_temp,on='year')"
   ]
  },
  {
   "cell_type": "code",
   "execution_count": 64,
   "id": "1ba01233",
   "metadata": {},
   "outputs": [
    {
     "data": {
      "text/html": [
       "<div>\n",
       "<style scoped>\n",
       "    .dataframe tbody tr th:only-of-type {\n",
       "        vertical-align: middle;\n",
       "    }\n",
       "\n",
       "    .dataframe tbody tr th {\n",
       "        vertical-align: top;\n",
       "    }\n",
       "\n",
       "    .dataframe thead th {\n",
       "        text-align: right;\n",
       "    }\n",
       "</style>\n",
       "<table border=\"1\" class=\"dataframe\">\n",
       "  <thead>\n",
       "    <tr style=\"text-align: right;\">\n",
       "      <th></th>\n",
       "      <th>year</th>\n",
       "      <th>b_hectares_harvested</th>\n",
       "      <th>b_hectograms_per_hectare_yield</th>\n",
       "      <th>b_tonnes_produced</th>\n",
       "      <th>usa_retail_price</th>\n",
       "      <th>b_annual_avg_temp</th>\n",
       "      <th>col_production_lbs</th>\n",
       "      <th>col_annual_celsius_change</th>\n",
       "      <th>global_change_in_celsius</th>\n",
       "      <th>e_prod</th>\n",
       "      <th>e_temp_change</th>\n",
       "      <th>e_export</th>\n",
       "      <th>e_consumption</th>\n",
       "      <th>us_consumption_lbs</th>\n",
       "      <th>col_avg_temp_celsius</th>\n",
       "    </tr>\n",
       "  </thead>\n",
       "  <tbody>\n",
       "    <tr>\n",
       "      <th>0</th>\n",
       "      <td>1990</td>\n",
       "      <td>2908960</td>\n",
       "      <td>5036</td>\n",
       "      <td>1464856</td>\n",
       "      <td>2.97</td>\n",
       "      <td>25.12</td>\n",
       "      <td>31671200.0</td>\n",
       "      <td>0.258</td>\n",
       "      <td>0.66</td>\n",
       "      <td>2909.451</td>\n",
       "      <td>0.244</td>\n",
       "      <td>1074.101</td>\n",
       "      <td>1200.0</td>\n",
       "      <td>40254757.4</td>\n",
       "      <td>24.77</td>\n",
       "    </tr>\n",
       "    <tr>\n",
       "      <th>1</th>\n",
       "      <td>1991</td>\n",
       "      <td>2763440</td>\n",
       "      <td>5502</td>\n",
       "      <td>1520382</td>\n",
       "      <td>2.81</td>\n",
       "      <td>25.05</td>\n",
       "      <td>39556873.4</td>\n",
       "      <td>0.347</td>\n",
       "      <td>0.53</td>\n",
       "      <td>2924.664</td>\n",
       "      <td>0.244</td>\n",
       "      <td>841.329</td>\n",
       "      <td>1264.0</td>\n",
       "      <td>41054596.0</td>\n",
       "      <td>24.82</td>\n",
       "    </tr>\n",
       "    <tr>\n",
       "      <th>2</th>\n",
       "      <td>1992</td>\n",
       "      <td>2500320</td>\n",
       "      <td>5177</td>\n",
       "      <td>1294373</td>\n",
       "      <td>2.58</td>\n",
       "      <td>24.91</td>\n",
       "      <td>32883131.6</td>\n",
       "      <td>0.532</td>\n",
       "      <td>0.25</td>\n",
       "      <td>1825.171</td>\n",
       "      <td>0.244</td>\n",
       "      <td>734.461</td>\n",
       "      <td>1331.0</td>\n",
       "      <td>40238996.6</td>\n",
       "      <td>24.95</td>\n",
       "    </tr>\n",
       "    <tr>\n",
       "      <th>3</th>\n",
       "      <td>1993</td>\n",
       "      <td>2259330</td>\n",
       "      <td>5660</td>\n",
       "      <td>1278759</td>\n",
       "      <td>2.47</td>\n",
       "      <td>25.02</td>\n",
       "      <td>25129328.4</td>\n",
       "      <td>0.157</td>\n",
       "      <td>0.36</td>\n",
       "      <td>2967.004</td>\n",
       "      <td>0.244</td>\n",
       "      <td>1166.778</td>\n",
       "      <td>1402.0</td>\n",
       "      <td>42277701.4</td>\n",
       "      <td>24.80</td>\n",
       "    </tr>\n",
       "    <tr>\n",
       "      <th>4</th>\n",
       "      <td>1994</td>\n",
       "      <td>2097650</td>\n",
       "      <td>6232</td>\n",
       "      <td>1307289</td>\n",
       "      <td>3.40</td>\n",
       "      <td>25.14</td>\n",
       "      <td>28520800.0</td>\n",
       "      <td>0.162</td>\n",
       "      <td>0.49</td>\n",
       "      <td>2762.730</td>\n",
       "      <td>0.599</td>\n",
       "      <td>1475.325</td>\n",
       "      <td>1476.0</td>\n",
       "      <td>38117428.8</td>\n",
       "      <td>24.77</td>\n",
       "    </tr>\n",
       "  </tbody>\n",
       "</table>\n",
       "</div>"
      ],
      "text/plain": [
       "   year  b_hectares_harvested  b_hectograms_per_hectare_yield  \\\n",
       "0  1990               2908960                            5036   \n",
       "1  1991               2763440                            5502   \n",
       "2  1992               2500320                            5177   \n",
       "3  1993               2259330                            5660   \n",
       "4  1994               2097650                            6232   \n",
       "\n",
       "   b_tonnes_produced  usa_retail_price  b_annual_avg_temp  col_production_lbs  \\\n",
       "0            1464856              2.97              25.12          31671200.0   \n",
       "1            1520382              2.81              25.05          39556873.4   \n",
       "2            1294373              2.58              24.91          32883131.6   \n",
       "3            1278759              2.47              25.02          25129328.4   \n",
       "4            1307289              3.40              25.14          28520800.0   \n",
       "\n",
       "   col_annual_celsius_change  global_change_in_celsius    e_prod  \\\n",
       "0                      0.258                      0.66  2909.451   \n",
       "1                      0.347                      0.53  2924.664   \n",
       "2                      0.532                      0.25  1825.171   \n",
       "3                      0.157                      0.36  2967.004   \n",
       "4                      0.162                      0.49  2762.730   \n",
       "\n",
       "   e_temp_change  e_export  e_consumption  us_consumption_lbs  \\\n",
       "0          0.244  1074.101         1200.0          40254757.4   \n",
       "1          0.244   841.329         1264.0          41054596.0   \n",
       "2          0.244   734.461         1331.0          40238996.6   \n",
       "3          0.244  1166.778         1402.0          42277701.4   \n",
       "4          0.599  1475.325         1476.0          38117428.8   \n",
       "\n",
       "   col_avg_temp_celsius  \n",
       "0                 24.77  \n",
       "1                 24.82  \n",
       "2                 24.95  \n",
       "3                 24.80  \n",
       "4                 24.77  "
      ]
     },
     "execution_count": 64,
     "metadata": {},
     "output_type": "execute_result"
    }
   ],
   "source": [
    "df.head()"
   ]
  },
  {
   "cell_type": "code",
   "execution_count": 65,
   "id": "0a398646",
   "metadata": {},
   "outputs": [],
   "source": [
    "df.to_csv('data/cleaned_merged_df.csv',index=False)"
   ]
  },
  {
   "cell_type": "markdown",
   "id": "269cbef2",
   "metadata": {},
   "source": [
    "## Final DataFrame Ready For Modeling"
   ]
  },
  {
   "cell_type": "code",
   "execution_count": 3,
   "id": "51c76981",
   "metadata": {},
   "outputs": [],
   "source": [
    "coffee_df = pd.read_csv('data/cleaned_merged_df3.csv')"
   ]
  },
  {
   "cell_type": "code",
   "execution_count": 4,
   "id": "3bdf9403",
   "metadata": {},
   "outputs": [],
   "source": [
    "coffee_df.drop(columns=['Unnamed: 0','Unnamed: 0.1'],inplace=True)"
   ]
  },
  {
   "cell_type": "code",
   "execution_count": 5,
   "id": "b8bd77c0",
   "metadata": {},
   "outputs": [
    {
     "data": {
      "text/html": [
       "<div>\n",
       "<style scoped>\n",
       "    .dataframe tbody tr th:only-of-type {\n",
       "        vertical-align: middle;\n",
       "    }\n",
       "\n",
       "    .dataframe tbody tr th {\n",
       "        vertical-align: top;\n",
       "    }\n",
       "\n",
       "    .dataframe thead th {\n",
       "        text-align: right;\n",
       "    }\n",
       "</style>\n",
       "<table border=\"1\" class=\"dataframe\">\n",
       "  <thead>\n",
       "    <tr style=\"text-align: right;\">\n",
       "      <th></th>\n",
       "      <th>year</th>\n",
       "      <th>ind_annual_celcsius_change</th>\n",
       "      <th>ind_avg_temp_celsius</th>\n",
       "      <th>ind_prod_lbs</th>\n",
       "      <th>b_hectares_harvested</th>\n",
       "      <th>b_hectograms_per_hectare_yield</th>\n",
       "      <th>b_tonnes_produced</th>\n",
       "      <th>usa_retail_price</th>\n",
       "      <th>b_annual_avg_temp</th>\n",
       "      <th>col_production_lbs</th>\n",
       "      <th>col_annual_celsius_change</th>\n",
       "      <th>global_change_in_celsius</th>\n",
       "      <th>e_prod</th>\n",
       "      <th>e_temp_change</th>\n",
       "      <th>e_export</th>\n",
       "      <th>e_consumption</th>\n",
       "      <th>us_consumption_lbs</th>\n",
       "      <th>col_avg_temp_celsius</th>\n",
       "      <th>b_annual_celsius_change</th>\n",
       "      <th>e_avg_temp</th>\n",
       "    </tr>\n",
       "  </thead>\n",
       "  <tbody>\n",
       "    <tr>\n",
       "      <th>0</th>\n",
       "      <td>1990</td>\n",
       "      <td>0.120</td>\n",
       "      <td>25.43</td>\n",
       "      <td>16371042.6</td>\n",
       "      <td>2908960</td>\n",
       "      <td>5036</td>\n",
       "      <td>1464856</td>\n",
       "      <td>2.97</td>\n",
       "      <td>25.12</td>\n",
       "      <td>31671200.0</td>\n",
       "      <td>0.258</td>\n",
       "      <td>0.66</td>\n",
       "      <td>2909.451</td>\n",
       "      <td>0.244</td>\n",
       "      <td>1074.101</td>\n",
       "      <td>1200.0</td>\n",
       "      <td>40254757.4</td>\n",
       "      <td>24.77</td>\n",
       "      <td>0.440</td>\n",
       "      <td>23.04</td>\n",
       "    </tr>\n",
       "    <tr>\n",
       "      <th>1</th>\n",
       "      <td>1991</td>\n",
       "      <td>0.203</td>\n",
       "      <td>25.32</td>\n",
       "      <td>18685031.2</td>\n",
       "      <td>2763440</td>\n",
       "      <td>5502</td>\n",
       "      <td>1520382</td>\n",
       "      <td>2.81</td>\n",
       "      <td>25.05</td>\n",
       "      <td>39556873.4</td>\n",
       "      <td>0.347</td>\n",
       "      <td>0.53</td>\n",
       "      <td>2924.664</td>\n",
       "      <td>0.244</td>\n",
       "      <td>841.329</td>\n",
       "      <td>1264.0</td>\n",
       "      <td>41054596.0</td>\n",
       "      <td>24.82</td>\n",
       "      <td>0.470</td>\n",
       "      <td>23.13</td>\n",
       "    </tr>\n",
       "    <tr>\n",
       "      <th>2</th>\n",
       "      <td>1992</td>\n",
       "      <td>0.264</td>\n",
       "      <td>25.28</td>\n",
       "      <td>12252851.6</td>\n",
       "      <td>2500320</td>\n",
       "      <td>5177</td>\n",
       "      <td>1294373</td>\n",
       "      <td>2.58</td>\n",
       "      <td>24.91</td>\n",
       "      <td>32883131.6</td>\n",
       "      <td>0.532</td>\n",
       "      <td>0.25</td>\n",
       "      <td>1825.171</td>\n",
       "      <td>0.244</td>\n",
       "      <td>734.461</td>\n",
       "      <td>1331.0</td>\n",
       "      <td>40238996.6</td>\n",
       "      <td>24.95</td>\n",
       "      <td>0.381</td>\n",
       "      <td>22.79</td>\n",
       "    </tr>\n",
       "    <tr>\n",
       "      <th>3</th>\n",
       "      <td>1993</td>\n",
       "      <td>0.206</td>\n",
       "      <td>25.17</td>\n",
       "      <td>14835233.6</td>\n",
       "      <td>2259330</td>\n",
       "      <td>5660</td>\n",
       "      <td>1278759</td>\n",
       "      <td>2.47</td>\n",
       "      <td>25.02</td>\n",
       "      <td>25129328.4</td>\n",
       "      <td>0.157</td>\n",
       "      <td>0.36</td>\n",
       "      <td>2967.004</td>\n",
       "      <td>0.244</td>\n",
       "      <td>1166.778</td>\n",
       "      <td>1402.0</td>\n",
       "      <td>42277701.4</td>\n",
       "      <td>24.80</td>\n",
       "      <td>0.522</td>\n",
       "      <td>22.82</td>\n",
       "    </tr>\n",
       "    <tr>\n",
       "      <th>4</th>\n",
       "      <td>1994</td>\n",
       "      <td>0.267</td>\n",
       "      <td>25.25</td>\n",
       "      <td>11809331.6</td>\n",
       "      <td>2097650</td>\n",
       "      <td>6232</td>\n",
       "      <td>1307289</td>\n",
       "      <td>3.40</td>\n",
       "      <td>25.14</td>\n",
       "      <td>28520800.0</td>\n",
       "      <td>0.162</td>\n",
       "      <td>0.49</td>\n",
       "      <td>2762.730</td>\n",
       "      <td>0.599</td>\n",
       "      <td>1475.325</td>\n",
       "      <td>1476.0</td>\n",
       "      <td>38117428.8</td>\n",
       "      <td>24.77</td>\n",
       "      <td>0.612</td>\n",
       "      <td>22.91</td>\n",
       "    </tr>\n",
       "  </tbody>\n",
       "</table>\n",
       "</div>"
      ],
      "text/plain": [
       "   year  ind_annual_celcsius_change  ind_avg_temp_celsius  ind_prod_lbs  \\\n",
       "0  1990                       0.120                 25.43    16371042.6   \n",
       "1  1991                       0.203                 25.32    18685031.2   \n",
       "2  1992                       0.264                 25.28    12252851.6   \n",
       "3  1993                       0.206                 25.17    14835233.6   \n",
       "4  1994                       0.267                 25.25    11809331.6   \n",
       "\n",
       "   b_hectares_harvested  b_hectograms_per_hectare_yield  b_tonnes_produced  \\\n",
       "0               2908960                            5036            1464856   \n",
       "1               2763440                            5502            1520382   \n",
       "2               2500320                            5177            1294373   \n",
       "3               2259330                            5660            1278759   \n",
       "4               2097650                            6232            1307289   \n",
       "\n",
       "   usa_retail_price  b_annual_avg_temp  col_production_lbs  \\\n",
       "0              2.97              25.12          31671200.0   \n",
       "1              2.81              25.05          39556873.4   \n",
       "2              2.58              24.91          32883131.6   \n",
       "3              2.47              25.02          25129328.4   \n",
       "4              3.40              25.14          28520800.0   \n",
       "\n",
       "   col_annual_celsius_change  global_change_in_celsius    e_prod  \\\n",
       "0                      0.258                      0.66  2909.451   \n",
       "1                      0.347                      0.53  2924.664   \n",
       "2                      0.532                      0.25  1825.171   \n",
       "3                      0.157                      0.36  2967.004   \n",
       "4                      0.162                      0.49  2762.730   \n",
       "\n",
       "   e_temp_change  e_export  e_consumption  us_consumption_lbs  \\\n",
       "0          0.244  1074.101         1200.0          40254757.4   \n",
       "1          0.244   841.329         1264.0          41054596.0   \n",
       "2          0.244   734.461         1331.0          40238996.6   \n",
       "3          0.244  1166.778         1402.0          42277701.4   \n",
       "4          0.599  1475.325         1476.0          38117428.8   \n",
       "\n",
       "   col_avg_temp_celsius  b_annual_celsius_change  e_avg_temp  \n",
       "0                 24.77                    0.440       23.04  \n",
       "1                 24.82                    0.470       23.13  \n",
       "2                 24.95                    0.381       22.79  \n",
       "3                 24.80                    0.522       22.82  \n",
       "4                 24.77                    0.612       22.91  "
      ]
     },
     "execution_count": 5,
     "metadata": {},
     "output_type": "execute_result"
    }
   ],
   "source": [
    "coffee_df.head()"
   ]
  },
  {
   "cell_type": "code",
   "execution_count": 6,
   "id": "ebf20c73",
   "metadata": {},
   "outputs": [
    {
     "data": {
      "text/plain": [
       "year                          0\n",
       "ind_annual_celcsius_change    0\n",
       "dtype: int64"
      ]
     },
     "execution_count": 6,
     "metadata": {},
     "output_type": "execute_result"
    }
   ],
   "source": [
    "coffee_df.isnull().sum().head(2)"
   ]
  },
  {
   "cell_type": "code",
   "execution_count": 7,
   "id": "120ac6a1",
   "metadata": {},
   "outputs": [
    {
     "data": {
      "image/png": "[encoded data removed]",
      "text/plain": [
       "<Figure size 640x480 with 2 Axes>"
      ]
     },
     "metadata": {},
     "output_type": "display_data"
    }
   ],
   "source": [
    "sns.heatmap(coffee_df.corr(),cmap='viridis',vmin=-1);"
   ]
  },
  {
   "cell_type": "markdown",
   "id": "b3761888",
   "metadata": {},
   "source": [
    "## Baselines"
   ]
  },
  {
   "cell_type": "code",
   "execution_count": 9,
   "id": "4037eda0",
   "metadata": {},
   "outputs": [],
   "source": [
    "# will use features to determine how clearly climate change and coffee trends \n",
    "# indicate whether it is before or after 2005\n",
    "coffee_df['year_target'] = [1 if each > 2005 else 0 for each in coffee_df.year]"
   ]
  },
  {
   "cell_type": "code",
   "execution_count": 10,
   "id": "d36a133c",
   "metadata": {},
   "outputs": [
    {
     "data": {
      "text/plain": [
       "0    0.516129\n",
       "1    0.483871\n",
       "Name: year_target, dtype: float64"
      ]
     },
     "execution_count": 10,
     "metadata": {},
     "output_type": "execute_result"
    }
   ],
   "source": [
    "coffee_df.year_target.value_counts(normalize=True)\n",
    "# 51 / 48 split, 51 percent of the years in the data is before 2005, 48% is after"
   ]
  },
  {
   "cell_type": "code",
   "execution_count": 11,
   "id": "ac5cda38",
   "metadata": {},
   "outputs": [
    {
     "data": {
      "text/plain": [
       "year_target                       1.000000\n",
       "e_consumption                     0.897207\n",
       "e_prod                            0.877763\n",
       "year                              0.866025\n",
       "b_hectograms_per_hectare_yield    0.838737\n",
       "b_tonnes_produced                 0.826024\n",
       "us_consumption_lbs                0.806648\n",
       "e_export                          0.804101\n",
       "ind_prod_lbs                      0.742912\n",
       "global_change_in_celsius          0.705768\n",
       "e_temp_change                     0.697478\n",
       "usa_retail_price                  0.681302\n",
       "b_annual_celsius_change           0.621366\n",
       "b_annual_avg_temp                 0.612360\n",
       "e_avg_temp                        0.611233\n",
       "col_annual_celsius_change         0.560931\n",
       "ind_annual_celcsius_change        0.522092\n",
       "col_avg_temp_celsius              0.454519\n",
       "ind_avg_temp_celsius              0.393484\n",
       "col_production_lbs               -0.106655\n",
       "b_hectares_harvested             -0.470946\n",
       "Name: year_target, dtype: float64"
      ]
     },
     "execution_count": 11,
     "metadata": {},
     "output_type": "execute_result"
    }
   ],
   "source": [
    "# checking correlations\n",
    "# noticing strong linear relationships to the year_target\n",
    "coffee_df.corr().year_target.sort_values(ascending=False)"
   ]
  },
  {
   "cell_type": "code",
   "execution_count": 12,
   "id": "94765569",
   "metadata": {},
   "outputs": [],
   "source": [
    "# will model to see if climate change and other country coffee features\n",
    "# can accurately predict whether or not the retail price of coffee will rise above or fall below the mean\n",
    "coffee_df['retail_target'] = [1 if each > coffee_df.usa_retail_price.mean() else 0 \n",
    "                              for each in  coffee_df.usa_retail_price]"
   ]
  },
  {
   "cell_type": "code",
   "execution_count": 300,
   "id": "50e1813e",
   "metadata": {},
   "outputs": [
    {
     "data": {
      "text/plain": [
       "0    0.580645\n",
       "1    0.419355\n",
       "Name: retail_target, dtype: float64"
      ]
     },
     "execution_count": 300,
     "metadata": {},
     "output_type": "execute_result"
    }
   ],
   "source": [
    "coffee_df.retail_target.value_counts(normalize=True)\n",
    "# 51 % of prices in the data are below the mean, 48% are above\n",
    "# mean = 3.67"
   ]
  },
  {
   "cell_type": "code",
   "execution_count": 13,
   "id": "db845846",
   "metadata": {},
   "outputs": [
    {
     "data": {
      "text/plain": [
       "retail_target                     1.000000\n",
       "usa_retail_price                  0.815697\n",
       "col_avg_temp_celsius              0.626078\n",
       "b_annual_avg_temp                 0.623011\n",
       "b_annual_celsius_change           0.571759\n",
       "e_export                          0.556577\n",
       "ind_avg_temp_celsius              0.551392\n",
       "us_consumption_lbs                0.548861\n",
       "e_consumption                     0.524786\n",
       "e_temp_change                     0.513608\n",
       "year                              0.511617\n",
       "ind_annual_celcsius_change        0.502980\n",
       "year_target                       0.485271\n",
       "global_change_in_celsius          0.475032\n",
       "e_prod                            0.467053\n",
       "ind_prod_lbs                      0.465930\n",
       "b_hectograms_per_hectare_yield    0.464947\n",
       "col_annual_celsius_change         0.456366\n",
       "e_avg_temp                        0.414473\n",
       "b_tonnes_produced                 0.352360\n",
       "col_production_lbs                0.035755\n",
       "b_hectares_harvested             -0.619652\n",
       "Name: retail_target, dtype: float64"
      ]
     },
     "execution_count": 13,
     "metadata": {},
     "output_type": "execute_result"
    }
   ],
   "source": [
    "# checking correlations\n",
    "# noticing strong linear relationships to the price_target\n",
    "coffee_df.corr().retail_target.sort_values(ascending=False)"
   ]
  },
  {
   "cell_type": "markdown",
   "id": "f1bc6a60",
   "metadata": {},
   "source": [
    "## Train Test Split: Model 1\n",
    "- Model 1 will use a logistic regression on our newly created year_target\n",
    "- The goal is to use features from the data and predict whether or not the year is before or after 2005 (median)"
   ]
  },
  {
   "cell_type": "code",
   "execution_count": 403,
   "id": "b2fbbd50",
   "metadata": {},
   "outputs": [],
   "source": [
    "# train test split\n",
    "X = coffee_df[['b_hectares_harvested','usa_retail_price',\n",
    "               'col_production_lbs','ind_avg_temp_celsius','e_temp_change']]\n",
    "y = coffee_df.year_target\n",
    "\n",
    "X_train,X_test,y_train,y_test = train_test_split(X,y,random_state=42,stratify=y)"
   ]
  },
  {
   "cell_type": "code",
   "execution_count": 404,
   "id": "59c4bae4",
   "metadata": {},
   "outputs": [],
   "source": [
    "# scaling data\n",
    "ss = StandardScaler()\n",
    "X_train_ss = ss.fit_transform(X_train)\n",
    "X_test_ss = ss.transform(X_test)"
   ]
  },
  {
   "cell_type": "code",
   "execution_count": 405,
   "id": "0200fa7f",
   "metadata": {},
   "outputs": [
    {
     "data": {
      "text/plain": [
       "(0.8695652173913043, 0.875)"
      ]
     },
     "execution_count": 405,
     "metadata": {},
     "output_type": "execute_result"
    }
   ],
   "source": [
    "# fitting and scoring\n",
    "lreg = LogisticRegression(max_iter=500)\n",
    "lreg.fit(X_train_ss,y_train)\n",
    "lreg.score(X_train_ss,y_train),lreg.score(X_test_ss,y_test)"
   ]
  },
  {
   "cell_type": "code",
   "execution_count": 406,
   "id": "d5ccec8d",
   "metadata": {},
   "outputs": [
    {
     "data": {
      "text/plain": [
       "array([0.8 , 0.8 , 1.  , 0.75, 0.75])"
      ]
     },
     "execution_count": 406,
     "metadata": {},
     "output_type": "execute_result"
    }
   ],
   "source": [
    "cross_val_score(lreg,X_train_ss,y_train)"
   ]
  },
  {
   "cell_type": "code",
   "execution_count": 408,
   "id": "5adf7e2b",
   "metadata": {},
   "outputs": [
    {
     "data": {
      "text/html": [
       "<div>\n",
       "<style scoped>\n",
       "    .dataframe tbody tr th:only-of-type {\n",
       "        vertical-align: middle;\n",
       "    }\n",
       "\n",
       "    .dataframe tbody tr th {\n",
       "        vertical-align: top;\n",
       "    }\n",
       "\n",
       "    .dataframe thead th {\n",
       "        text-align: right;\n",
       "    }\n",
       "</style>\n",
       "<table border=\"1\" class=\"dataframe\">\n",
       "  <thead>\n",
       "    <tr style=\"text-align: right;\">\n",
       "      <th></th>\n",
       "      <th>0</th>\n",
       "      <th>1</th>\n",
       "      <th>2</th>\n",
       "      <th>3</th>\n",
       "      <th>4</th>\n",
       "      <th>actual</th>\n",
       "      <th>predicted</th>\n",
       "    </tr>\n",
       "  </thead>\n",
       "  <tbody>\n",
       "    <tr>\n",
       "      <th>0</th>\n",
       "      <td>0.291337</td>\n",
       "      <td>-0.415025</td>\n",
       "      <td>-0.731375</td>\n",
       "      <td>-0.755217</td>\n",
       "      <td>-0.877260</td>\n",
       "      <td>0</td>\n",
       "      <td>0</td>\n",
       "    </tr>\n",
       "    <tr>\n",
       "      <th>1</th>\n",
       "      <td>0.277184</td>\n",
       "      <td>-0.390176</td>\n",
       "      <td>0.101312</td>\n",
       "      <td>-0.797686</td>\n",
       "      <td>-0.148897</td>\n",
       "      <td>0</td>\n",
       "      <td>0</td>\n",
       "    </tr>\n",
       "    <tr>\n",
       "      <th>2</th>\n",
       "      <td>-0.107507</td>\n",
       "      <td>0.156506</td>\n",
       "      <td>-1.564457</td>\n",
       "      <td>1.240845</td>\n",
       "      <td>0.942323</td>\n",
       "      <td>0</td>\n",
       "      <td>1</td>\n",
       "    </tr>\n",
       "    <tr>\n",
       "      <th>3</th>\n",
       "      <td>0.259491</td>\n",
       "      <td>-1.632634</td>\n",
       "      <td>-0.354586</td>\n",
       "      <td>-1.519666</td>\n",
       "      <td>-1.745998</td>\n",
       "      <td>0</td>\n",
       "      <td>0</td>\n",
       "    </tr>\n",
       "    <tr>\n",
       "      <th>4</th>\n",
       "      <td>-0.381297</td>\n",
       "      <td>2.069893</td>\n",
       "      <td>-0.061837</td>\n",
       "      <td>0.603804</td>\n",
       "      <td>0.807245</td>\n",
       "      <td>0</td>\n",
       "      <td>1</td>\n",
       "    </tr>\n",
       "    <tr>\n",
       "      <th>5</th>\n",
       "      <td>-0.990615</td>\n",
       "      <td>-0.439874</td>\n",
       "      <td>-0.623104</td>\n",
       "      <td>-1.137442</td>\n",
       "      <td>-0.339596</td>\n",
       "      <td>0</td>\n",
       "      <td>0</td>\n",
       "    </tr>\n",
       "    <tr>\n",
       "      <th>6</th>\n",
       "      <td>0.670789</td>\n",
       "      <td>-1.073528</td>\n",
       "      <td>-0.233749</td>\n",
       "      <td>1.113437</td>\n",
       "      <td>0.505305</td>\n",
       "      <td>0</td>\n",
       "      <td>0</td>\n",
       "    </tr>\n",
       "    <tr>\n",
       "      <th>7</th>\n",
       "      <td>-1.425036</td>\n",
       "      <td>0.827434</td>\n",
       "      <td>0.647457</td>\n",
       "      <td>0.264049</td>\n",
       "      <td>1.485285</td>\n",
       "      <td>0</td>\n",
       "      <td>1</td>\n",
       "    </tr>\n",
       "  </tbody>\n",
       "</table>\n",
       "</div>"
      ],
      "text/plain": [
       "          0         1         2         3         4  actual  predicted\n",
       "0  0.291337 -0.415025 -0.731375 -0.755217 -0.877260       0          0\n",
       "1  0.277184 -0.390176  0.101312 -0.797686 -0.148897       0          0\n",
       "2 -0.107507  0.156506 -1.564457  1.240845  0.942323       0          1\n",
       "3  0.259491 -1.632634 -0.354586 -1.519666 -1.745998       0          0\n",
       "4 -0.381297  2.069893 -0.061837  0.603804  0.807245       0          1\n",
       "5 -0.990615 -0.439874 -0.623104 -1.137442 -0.339596       0          0\n",
       "6  0.670789 -1.073528 -0.233749  1.113437  0.505305       0          0\n",
       "7 -1.425036  0.827434  0.647457  0.264049  1.485285       0          1"
      ]
     },
     "execution_count": 408,
     "metadata": {},
     "output_type": "execute_result"
    }
   ],
   "source": [
    "misclass = X_test_ss.copy()\n",
    "misclass = pd.DataFrame(misclass)\n",
    "misclass['actual'] = coffee_df.year_target\n",
    "misclass['predicted'] = lreg.predict(X_test_ss)\n",
    "misclass"
   ]
  },
  {
   "cell_type": "code",
   "execution_count": 407,
   "id": "3ba77390",
   "metadata": {},
   "outputs": [
    {
     "data": {
      "image/png": "[encoded data removed]",
      "text/plain": [
       "<Figure size 640x480 with 2 Axes>"
      ]
     },
     "metadata": {},
     "output_type": "display_data"
    }
   ],
   "source": [
    "ConfusionMatrixDisplay.from_estimator(lreg, X_test_ss, y_test); "
   ]
  },
  {
   "cell_type": "code",
   "execution_count": 409,
   "id": "4100d9c4",
   "metadata": {},
   "outputs": [
    {
     "name": "stdout",
     "output_type": "stream",
     "text": [
      "Precision: 1.0\n",
      "Recall: 0.8\n",
      "F1 Score: 0.888888888888889\n"
     ]
    }
   ],
   "source": [
    "precision = 4 / (4 + 0)\n",
    "recall = 4 / (4 + 1)\n",
    "f1 = 2*(precision*recall) / (precision+recall)\n",
    "print('Precision:', precision)\n",
    "print('Recall:', recall)\n",
    "print('F1 Score:', f1)"
   ]
  },
  {
   "cell_type": "markdown",
   "id": "3cab0f2b",
   "metadata": {},
   "source": [
    "## Interpretation Model 1 - Year Target:\n",
    "- A training accuracy of 0.869 (87%) and a testing accuracy of 0.875 (88%) indicates that the model is performing relatively well with no indication of overfitting or underfitting.\n",
    "- This logistic regression model has a precision of 100%. When predicting the year as before 2005 the model did not misclassify any predictions.\n",
    "- A recall of 80% demonstrates that of all predictions past the year 2005, the model was correct 80% of the time.\n",
    "- This model performs better when predicting years prior to 2006. Which means the earlier years in this data are more consistent in terms of data representation for modeling."
   ]
  },
  {
   "cell_type": "markdown",
   "id": "1116c3e6",
   "metadata": {},
   "source": [
    "## Train Test Split Model 2:\n",
    "- Model 2 will use logistic regression on our newly created retail_target\n",
    "- The goal is to use features and predict whether or not the retail price of coffee will rise above or fall below the mean price of U.S coffee (1990-2020)"
   ]
  },
  {
   "cell_type": "code",
   "execution_count": 344,
   "id": "14329a79",
   "metadata": {},
   "outputs": [],
   "source": [
    "X = coffee_df[['year','global_change_in_celsius','us_consumption_lbs',\n",
    "               'b_hectares_harvested','e_avg_temp','col_production_lbs']]\n",
    "y = coffee_df.retail_target\n",
    "\n",
    "X_train,X_test,y_train,y_test = train_test_split(X,y,random_state=42,stratify=y)"
   ]
  },
  {
   "cell_type": "code",
   "execution_count": 345,
   "id": "da2b61e9",
   "metadata": {},
   "outputs": [],
   "source": [
    "ss = StandardScaler()\n",
    "X_train_ss = ss.fit_transform(X_train)\n",
    "X_test_ss = ss.transform(X_test)"
   ]
  },
  {
   "cell_type": "code",
   "execution_count": 346,
   "id": "536741e5",
   "metadata": {},
   "outputs": [
    {
     "data": {
      "text/plain": [
       "(0.782608695652174, 0.75)"
      ]
     },
     "execution_count": 346,
     "metadata": {},
     "output_type": "execute_result"
    }
   ],
   "source": [
    "lreg = LogisticRegression(max_iter=500)\n",
    "lreg.fit(X_train_ss,y_train)\n",
    "lreg.score(X_train_ss,y_train),lreg.score(X_test_ss,y_test)"
   ]
  },
  {
   "cell_type": "code",
   "execution_count": 347,
   "id": "99f6ddf3",
   "metadata": {},
   "outputs": [
    {
     "data": {
      "text/plain": [
       "array([0.8 , 1.  , 0.6 , 0.5 , 0.75])"
      ]
     },
     "execution_count": 347,
     "metadata": {},
     "output_type": "execute_result"
    }
   ],
   "source": [
    "cross_val_score(lreg,X_train_ss,y_train)"
   ]
  },
  {
   "cell_type": "markdown",
   "id": "7fd299e0",
   "metadata": {},
   "source": [
    "## Misclassification Retail Price"
   ]
  },
  {
   "cell_type": "code",
   "execution_count": 301,
   "id": "6e55a9e5",
   "metadata": {},
   "outputs": [
    {
     "data": {
      "text/html": [
       "<div>\n",
       "<style scoped>\n",
       "    .dataframe tbody tr th:only-of-type {\n",
       "        vertical-align: middle;\n",
       "    }\n",
       "\n",
       "    .dataframe tbody tr th {\n",
       "        vertical-align: top;\n",
       "    }\n",
       "\n",
       "    .dataframe thead th {\n",
       "        text-align: right;\n",
       "    }\n",
       "</style>\n",
       "<table border=\"1\" class=\"dataframe\">\n",
       "  <thead>\n",
       "    <tr style=\"text-align: right;\">\n",
       "      <th></th>\n",
       "      <th>0</th>\n",
       "      <th>1</th>\n",
       "      <th>2</th>\n",
       "      <th>3</th>\n",
       "      <th>4</th>\n",
       "      <th>5</th>\n",
       "      <th>actual</th>\n",
       "      <th>predicted</th>\n",
       "    </tr>\n",
       "  </thead>\n",
       "  <tbody>\n",
       "    <tr>\n",
       "      <th>0</th>\n",
       "      <td>-0.830251</td>\n",
       "      <td>-0.772192</td>\n",
       "      <td>-1.160255</td>\n",
       "      <td>-0.640693</td>\n",
       "      <td>-0.743095</td>\n",
       "      <td>-0.118138</td>\n",
       "      <td>0</td>\n",
       "      <td>0</td>\n",
       "    </tr>\n",
       "    <tr>\n",
       "      <th>1</th>\n",
       "      <td>0.185482</td>\n",
       "      <td>0.517521</td>\n",
       "      <td>-0.063622</td>\n",
       "      <td>0.342333</td>\n",
       "      <td>-0.173389</td>\n",
       "      <td>0.053845</td>\n",
       "      <td>0</td>\n",
       "      <td>0</td>\n",
       "    </tr>\n",
       "    <tr>\n",
       "      <th>2</th>\n",
       "      <td>-0.220811</td>\n",
       "      <td>0.060747</td>\n",
       "      <td>-0.348326</td>\n",
       "      <td>0.810343</td>\n",
       "      <td>0.246395</td>\n",
       "      <td>-0.586805</td>\n",
       "      <td>0</td>\n",
       "      <td>0</td>\n",
       "    </tr>\n",
       "    <tr>\n",
       "      <th>3</th>\n",
       "      <td>0.896494</td>\n",
       "      <td>0.221961</td>\n",
       "      <td>0.862276</td>\n",
       "      <td>-0.606361</td>\n",
       "      <td>0.366333</td>\n",
       "      <td>0.412285</td>\n",
       "      <td>0</td>\n",
       "      <td>1</td>\n",
       "    </tr>\n",
       "    <tr>\n",
       "      <th>4</th>\n",
       "      <td>-0.627104</td>\n",
       "      <td>-0.396026</td>\n",
       "      <td>-0.630543</td>\n",
       "      <td>0.195545</td>\n",
       "      <td>-1.672616</td>\n",
       "      <td>-1.261582</td>\n",
       "      <td>0</td>\n",
       "      <td>0</td>\n",
       "    </tr>\n",
       "    <tr>\n",
       "      <th>5</th>\n",
       "      <td>0.591774</td>\n",
       "      <td>-0.019860</td>\n",
       "      <td>0.278669</td>\n",
       "      <td>-0.068613</td>\n",
       "      <td>0.576225</td>\n",
       "      <td>-2.075896</td>\n",
       "      <td>1</td>\n",
       "      <td>0</td>\n",
       "    </tr>\n",
       "    <tr>\n",
       "      <th>6</th>\n",
       "      <td>-0.017665</td>\n",
       "      <td>0.436914</td>\n",
       "      <td>-0.075723</td>\n",
       "      <td>0.562462</td>\n",
       "      <td>0.366333</td>\n",
       "      <td>-0.192694</td>\n",
       "      <td>0</td>\n",
       "      <td>0</td>\n",
       "    </tr>\n",
       "    <tr>\n",
       "      <th>7</th>\n",
       "      <td>-0.525531</td>\n",
       "      <td>-0.825930</td>\n",
       "      <td>-0.838456</td>\n",
       "      <td>0.356009</td>\n",
       "      <td>-0.683126</td>\n",
       "      <td>-0.820410</td>\n",
       "      <td>1</td>\n",
       "      <td>0</td>\n",
       "    </tr>\n",
       "  </tbody>\n",
       "</table>\n",
       "</div>"
      ],
      "text/plain": [
       "          0         1         2         3         4         5  actual  \\\n",
       "0 -0.830251 -0.772192 -1.160255 -0.640693 -0.743095 -0.118138       0   \n",
       "1  0.185482  0.517521 -0.063622  0.342333 -0.173389  0.053845       0   \n",
       "2 -0.220811  0.060747 -0.348326  0.810343  0.246395 -0.586805       0   \n",
       "3  0.896494  0.221961  0.862276 -0.606361  0.366333  0.412285       0   \n",
       "4 -0.627104 -0.396026 -0.630543  0.195545 -1.672616 -1.261582       0   \n",
       "5  0.591774 -0.019860  0.278669 -0.068613  0.576225 -2.075896       1   \n",
       "6 -0.017665  0.436914 -0.075723  0.562462  0.366333 -0.192694       0   \n",
       "7 -0.525531 -0.825930 -0.838456  0.356009 -0.683126 -0.820410       1   \n",
       "\n",
       "   predicted  \n",
       "0          0  \n",
       "1          0  \n",
       "2          0  \n",
       "3          1  \n",
       "4          0  \n",
       "5          0  \n",
       "6          0  \n",
       "7          0  "
      ]
     },
     "execution_count": 301,
     "metadata": {},
     "output_type": "execute_result"
    }
   ],
   "source": [
    "misclass = X_test_ss.copy()\n",
    "misclass = pd.DataFrame(misclass)\n",
    "misclass['actual'] = coffee_df.retail_target\n",
    "misclass['predicted'] = lreg.predict(X_test_ss)\n",
    "misclass"
   ]
  },
  {
   "cell_type": "code",
   "execution_count": 298,
   "id": "47f16335",
   "metadata": {},
   "outputs": [
    {
     "data": {
      "image/png": "[encoded data removed]",
      "text/plain": [
       "<Figure size 640x480 with 2 Axes>"
      ]
     },
     "metadata": {},
     "output_type": "display_data"
    }
   ],
   "source": [
    "ConfusionMatrixDisplay.from_estimator(lreg, X_test_ss, y_test); "
   ]
  },
  {
   "cell_type": "code",
   "execution_count": 299,
   "id": "68337dd9",
   "metadata": {},
   "outputs": [
    {
     "name": "stdout",
     "output_type": "stream",
     "text": [
      "Precision: 1.0\n",
      "Recall: 0.8333333333333334\n",
      "F1 Score: 0.9090909090909091\n"
     ]
    }
   ],
   "source": [
    "precision = 5 / (5 + 0)\n",
    "recall = 5 / (5 + 1)\n",
    "f1 = 2*(precision*recall) / (precision+recall)\n",
    "print('Precision:', precision)\n",
    "print('Recall:', recall)\n",
    "print('F1 Score:', f1)"
   ]
  },
  {
   "cell_type": "markdown",
   "id": "8d731aa6",
   "metadata": {},
   "source": [
    "## Interpretation Model 2 - Price Target:\n",
    "- A training accuracy of 0.78 (78%) and a testing accuracy of 0.75 (75%) indicates that the model is slightly overfit however is performing relatively well.\n",
    "- This logistic regression model has a precision of 100%. When predicting the U.S retail price to fall below the target, the model did not misclassify any predictions.\n",
    "- A recall of 83% demonstrates that of all predictions made above the target, the model was correct 83% of the time.\n",
    "\n",
    "- The data / features have high multicollinearity among itself and when looking at the correlation of the target, there are several features with a strong linear relationship as well. A problem I had with this model was getting it to not overfit but also include features from all countries. When incorporating more than one feature from the same country, the model would then become vastly overfit. Additionally, if the model had features with high multicollinearity between countries, such as production levels across multiple countries, the model again would become vastly overfit.\n",
    "\n",
    "- This model is a little bit better at predicting when the price of coffee is below the mean than above it, which means the earlier years in this data are better predicted than the later years. The mean price of coffee in the U.S is $3.67 which is reached during 2007 - 2008"
   ]
  }
 ],
 "metadata": {
  "kernelspec": {
   "display_name": "Python 3 (ipykernel)",
   "language": "python",
   "name": "python3"
  },
  "language_info": {
   "codemirror_mode": {
    "name": "ipython",
    "version": 3
   },
   "file_extension": ".py",
   "mimetype": "text/x-python",
   "name": "python",
   "nbconvert_exporter": "python",
   "pygments_lexer": "ipython3",
   "version": "3.9.12"
  }
 },
 "nbformat": 4,
 "nbformat_minor": 5
}
